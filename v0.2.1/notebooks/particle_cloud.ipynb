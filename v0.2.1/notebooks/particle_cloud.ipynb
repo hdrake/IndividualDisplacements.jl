{
 "cells": [
  {
   "cell_type": "markdown",
   "source": [
    "# Particle Cloud\n",
    "\n",
    "\n",
    "Using the same setup as `detailed_look.jl` or `example2()`, here we simulate\n",
    "a point cloud getting advected by the flow field.\n",
    "For additional documentation e.g. see :\n",
    "[1](https://JuliaClimate.github.io/IndividualDisplacements.jl/dev/),\n",
    "[2](https://JuliaClimate.github.io/MeshArrays.jl/dev/),\n",
    "[3](https://docs.juliadiffeq.org/latest/solvers/ode_solve.html),\n",
    "[4](https://en.wikipedia.org/wiki/Displacement_(vector))"
   ],
   "metadata": {}
  },
  {
   "cell_type": "markdown",
   "source": [
    "## 1. Import Software"
   ],
   "metadata": {}
  },
  {
   "outputs": [],
   "cell_type": "code",
   "source": [
    "using IndividualDisplacements, OrdinaryDiffEq, Statistics\n",
    "p=dirname(pathof(IndividualDisplacements))\n",
    "include(joinpath(p,\"../examples/recipes_plots.jl\"))\n",
    "include(joinpath(p,\"../examples/example123.jl\"));"
   ],
   "metadata": {},
   "execution_count": 1
  },
  {
   "cell_type": "markdown",
   "source": [
    "## 2. Setup Problem"
   ],
   "metadata": {}
  },
  {
   "outputs": [],
   "cell_type": "code",
   "source": [
    "𝑃,Γ=example2_setup()\n",
    "\n",
    "ii1=5:5:40; ii2=5:5:25\n",
    "x=vec([x-0.5 for x in ii1, y in ii2])\n",
    "y=vec([y-0.5 for x in ii1, y in ii2])\n",
    "xy=transpose([x y])\n",
    "\n",
    "𝑃.𝑇[:] = [0.0,2998*3600.0]\n",
    "solv(prob) = solve(prob,Tsit5(),reltol=1e-6,abstol=1e-6)\n",
    "tr = DataFrame([fill(Int, 1) ; fill(Float64, 3)], [:ID, :x, :y, :t])\n",
    "\n",
    "𝐼 = Individuals{Float64}(📌=xy[:,:], 🔴=tr, 🆔=collect(1:size(xy,2)),\n",
    "                         🚄 = dxy_dt, ∫ = solv, 🔧 = postprocess_xy, 𝑃=𝑃);"
   ],
   "metadata": {},
   "execution_count": 2
  },
  {
   "cell_type": "markdown",
   "source": [
    "## 3. Compute Trajectories"
   ],
   "metadata": {}
  },
  {
   "outputs": [
    {
     "output_type": "execute_result",
     "data": {
      "text/plain": "2×40 Array{Float64,2}:\n   5.91182   10.5953   11.087   12.6622  …  37.9639   29.12    30.6396\n -12.3525   124.028   487.117  478.34        8.68514  19.2392  22.4415"
     },
     "metadata": {},
     "execution_count": 3
    }
   ],
   "cell_type": "code",
   "source": [
    "𝑇=(0.0,𝐼.𝑃.𝑇[2])\n",
    "∫!(𝐼,𝑇)"
   ],
   "metadata": {},
   "execution_count": 3
  },
  {
   "cell_type": "markdown",
   "source": [
    "## 4. Display results"
   ],
   "metadata": {}
  },
  {
   "cell_type": "markdown",
   "source": [
    "Compare with trajectory output from `MITgcm`"
   ],
   "metadata": {}
  },
  {
   "outputs": [],
   "cell_type": "code",
   "source": [
    "#df=read_flt(IndividualDisplacements.flt_example,Float32)\n",
    "#ref=PlotBasic(df,size(xy,2),100000.0)"
   ],
   "metadata": {},
   "execution_count": 4
  },
  {
   "cell_type": "markdown",
   "source": [
    "---\n",
    "\n",
    "*This notebook was generated using [Literate.jl](https://github.com/fredrikekre/Literate.jl).*"
   ],
   "metadata": {}
  }
 ],
 "nbformat_minor": 3,
 "metadata": {
  "language_info": {
   "file_extension": ".jl",
   "mimetype": "application/julia",
   "name": "julia",
   "version": "1.5.2"
  },
  "kernelspec": {
   "name": "julia-1.5",
   "display_name": "Julia 1.5.2",
   "language": "julia"
  }
 },
 "nbformat": 4
}
