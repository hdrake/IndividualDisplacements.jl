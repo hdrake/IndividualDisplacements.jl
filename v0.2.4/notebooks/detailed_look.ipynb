{
 "cells": [
  {
   "cell_type": "markdown",
   "source": [
    "# Detailed Look\n",
    "\n",
    "\n",
    "A more detailed Look at spatial interpolation, integration through time, and I/O.\n",
    "For additional documentation e.g. see\n",
    "[1](https://JuliaClimate.github.io/IndividualDisplacements.jl/dev/),\n",
    "[2](https://JuliaClimate.github.io/MeshArrays.jl/dev/),\n",
    "[3](https://docs.juliadiffeq.org/latest/solvers/ode_solve.html),\n",
    "[4](https://en.wikipedia.org/wiki/Displacement_(vector)).\n",
    "Here we illustrate a few things in more detail:\n",
    "\n",
    "- reading velocities from file.\n",
    "  - gridded velocity output (U*data, V*data)\n",
    "  - pre-computed trajectory output (`float_traj*data`)\n",
    "- interpolating `U,V` from gridded output to individual locations\n",
    "  - compared with `u,v` from `float_traj*data`\n",
    "- computing trajectories (location v time) using `OrdinaryDiffEq.jl`\n",
    "  - compared with `x(t),y(t)` from `float_traj*data`"
   ],
   "metadata": {}
  },
  {
   "cell_type": "markdown",
   "source": [
    "## 1. Import Software"
   ],
   "metadata": {}
  },
  {
   "outputs": [],
   "cell_type": "code",
   "source": [
    "using IndividualDisplacements, OrdinaryDiffEq, DataFrames, MITgcmTools\n",
    "p=dirname(pathof(IndividualDisplacements))\n",
    "include(joinpath(p,\"../examples/recipes_plots.jl\"))\n",
    "include(joinpath(p,\"../examples/example123.jl\"))\n",
    "include(joinpath(p,\"../examples/helper_functions.jl\"));"
   ],
   "metadata": {},
   "execution_count": null
  },
  {
   "cell_type": "markdown",
   "source": [
    "## 2. Read Trajectory Output\n",
    "\n",
    "from `MITgcm/pkg/flt`"
   ],
   "metadata": {}
  },
  {
   "outputs": [],
   "cell_type": "code",
   "source": [
    "dirIn=IndividualDisplacements.flt_example\n",
    "prec=Float32\n",
    "df=read_flt(dirIn,prec);\n",
    "\n",
    "plt=PlotBasic(df,300,100000.0)"
   ],
   "metadata": {},
   "execution_count": null
  },
  {
   "cell_type": "markdown",
   "source": [
    "## 3. Read Gridded Variables\n",
    "\n",
    "using `MeshArrays.jl` and e.g. a NamedTyple"
   ],
   "metadata": {}
  },
  {
   "outputs": [],
   "cell_type": "code",
   "source": [
    "𝑃,Γ=example2_setup();"
   ],
   "metadata": {},
   "execution_count": null
  },
  {
   "cell_type": "markdown",
   "source": [
    "## 4. Visualize Velocity Fields"
   ],
   "metadata": {}
  },
  {
   "outputs": [],
   "cell_type": "code",
   "source": [
    "plt=heatmap(Γ[\"mskW\"][1,1].*𝑃.u0[1,1],title=\"U at the start\")\n",
    "\n",
    "plt=heatmap(Γ[\"mskW\"][1,1].*𝑃.u1[1,1]-𝑃.u0[1,1],title=\"U end - U start\")"
   ],
   "metadata": {},
   "execution_count": null
  },
  {
   "cell_type": "markdown",
   "source": [
    "## 5. Visualize Trajectories\n",
    "\n",
    "(select one trajectory)"
   ],
   "metadata": {}
  },
  {
   "outputs": [],
   "cell_type": "code",
   "source": [
    "tmp=df[df.ID .== 200, :]\n",
    "tmp[1:4,:]"
   ],
   "metadata": {},
   "execution_count": null
  },
  {
   "cell_type": "markdown",
   "source": [
    "Super-impose trajectory over velocity field (first for u ...)"
   ],
   "metadata": {}
  },
  {
   "outputs": [],
   "cell_type": "code",
   "source": [
    "x=Γ[\"XG\"].f[1][:,1]\n",
    "y=Γ[\"YC\"].f[1][1,:]\n",
    "z=transpose(Γ[\"mskW\"][1].*𝑃.u0[1,1]);\n",
    "\n",
    "plt=contourf(x,y,z,c=:delta)\n",
    "plot!(tmp[:,:lon],tmp[:,:lat],c=:red,w=4,leg=false)"
   ],
   "metadata": {},
   "execution_count": null
  },
  {
   "cell_type": "markdown",
   "source": [
    "Super-impose trajectory over velocity field (... then for v)"
   ],
   "metadata": {}
  },
  {
   "outputs": [],
   "cell_type": "code",
   "source": [
    "x=Γ[\"XC\"].f[1][:,1]\n",
    "y=Γ[\"YG\"].f[1][1,:]\n",
    "z=transpose(Γ[\"mskW\"][1].*𝑃.v0[1,1]);\n",
    "\n",
    "plt=contourf(x,y,z,c=:delta)\n",
    "plot!(tmp[:,:lon],tmp[:,:lat],c=:red,w=4,leg=false)"
   ],
   "metadata": {},
   "execution_count": null
  },
  {
   "cell_type": "markdown",
   "source": [
    "## 6. Interpolate Velocities"
   ],
   "metadata": {}
  },
  {
   "outputs": [],
   "cell_type": "code",
   "source": [
    "uInit=[tmp[1,:lon];tmp[1,:lat]]./𝑃.dx\n",
    "nSteps=Int32(tmp[end,:time]/3600)-2\n",
    "du=fill(0.0,2);"
   ],
   "metadata": {},
   "execution_count": null
  },
  {
   "cell_type": "markdown",
   "source": [
    "Visualize and compare with actual grid point values -- jumps on the tangential component are expected with linear scheme:"
   ],
   "metadata": {}
  },
  {
   "outputs": [],
   "cell_type": "code",
   "source": [
    "tmpu=fill(0.0,100)\n",
    "tmpv=fill(0.0,100)\n",
    "tmpx=fill(0.0,100)\n",
    "for i=1:100\n",
    "    tmpx[i]=500.0 *i./𝑃.dx\n",
    "    dxy_dt(du,[tmpx[i];0.499./𝑃.dx],𝑃,0.0)\n",
    "    tmpu[i]=du[1]\n",
    "    tmpv[i]=du[2]\n",
    "end\n",
    "\n",
    "plt=plot(tmpx,tmpu,label=\"u (interp)\")\n",
    "plot!(Γ[\"XG\"].f[1][1:10,1]./𝑃.dx,𝑃.u0.f[1][1:10,1],marker=:o,label=\"u (C-grid)\")\n",
    "plot!(tmpx,tmpv,label=\"v (interp)\")\n",
    "plot!(Γ[\"XG\"].f[1][1:10,1]./𝑃.dx,𝑃.v0.f[1][1:10,1],marker=:o,label=\"v (C-grid)\")"
   ],
   "metadata": {},
   "execution_count": null
  },
  {
   "cell_type": "markdown",
   "source": [
    "And similarly in the other direction"
   ],
   "metadata": {}
  },
  {
   "outputs": [],
   "cell_type": "code",
   "source": [
    "tmpu=fill(0.0,100)\n",
    "tmpv=fill(0.0,100)\n",
    "tmpy=fill(0.0,100)\n",
    "for i=1:100\n",
    "    tmpy[i]=500.0 *i./𝑃.dx\n",
    "    dxy_dt(du,[0.499./𝑃.dx;tmpy[i]],𝑃,0.0)\n",
    "    tmpu[i]=du[1]\n",
    "    tmpv[i]=du[2]\n",
    "end\n",
    "\n",
    "plt=plot(tmpx,tmpu,label=\"u (interp)\")\n",
    "plot!(Γ[\"YG\"].f[1][1,1:10]./𝑃.dx,𝑃.u0.f[1][1,1:10],marker=:o,label=\"u (C-grid)\")\n",
    "plot!(tmpx,tmpv,label=\"v (interp)\")\n",
    "plot!(Γ[\"YG\"].f[1][1,1:10]./𝑃.dx,𝑃.v0.f[1][1,1:10],marker=:o,label=\"v (C-grid)\")"
   ],
   "metadata": {},
   "execution_count": null
  },
  {
   "cell_type": "markdown",
   "source": [
    "Compare recomputed velocities with those from `pkg/flt`"
   ],
   "metadata": {}
  },
  {
   "outputs": [],
   "cell_type": "code",
   "source": [
    "nSteps=2998\n",
    "tmpu=fill(0.0,nSteps); tmpv=fill(0.0,nSteps);\n",
    "tmpx=fill(0.0,nSteps); tmpy=fill(0.0,nSteps);\n",
    "refu=fill(0.0,nSteps); refv=fill(0.0,nSteps);\n",
    "for i=1:nSteps\n",
    "    dxy_dt_replay(du,[tmp[i,:lon],tmp[i,:lat]],tmp,tmp[i,:time])\n",
    "    refu[i]=du[1]./𝑃.dx\n",
    "    refv[i]=du[2]./𝑃.dx\n",
    "    dxy_dt(du,[tmp[i,:lon],tmp[i,:lat]]./𝑃.dx,𝑃,tmp[i,:time])\n",
    "    tmpu[i]=du[1]\n",
    "    tmpv[i]=du[2]\n",
    "end\n",
    "\n",
    "plt=plot(tmpu,label=\"u\")\n",
    "plot!(tmpv,label=\"v\")\n",
    "plot!(refu,label=\"u (ref)\")\n",
    "plot!(refv,label=\"v (ref)\")"
   ],
   "metadata": {},
   "execution_count": null
  },
  {
   "cell_type": "markdown",
   "source": [
    "## 6. Compute Trajectories\n",
    "\n",
    "Solve through time using `OrdinaryDiffEq.jl` with\n",
    "\n",
    "- `dxy_dt` is the function computing `dxy/dt`\n",
    "- `uInit` is the initial condition `u @ tspan[1]`\n",
    "- `tspan` is the time interval\n",
    "- `uvetc` are parameters for `dxy_dt`\n",
    "- `Tsit5` is the time-stepping scheme\n",
    "- `reltol` and `abstol` are tolerance parameters"
   ],
   "metadata": {}
  },
  {
   "outputs": [],
   "cell_type": "code",
   "source": [
    "tspan = (0.0,nSteps*3600.0)\n",
    "#prob = ODEProblem(dxy_dt_replay,uInit,tspan,tmp)\n",
    "prob = ODEProblem(dxy_dt,uInit,tspan,𝑃)\n",
    "sol = solve(prob,Tsit5(),reltol=1e-8,abstol=1e-8)\n",
    "sol[1:4]"
   ],
   "metadata": {},
   "execution_count": null
  },
  {
   "cell_type": "markdown",
   "source": [
    "Compare recomputed trajectories with originals from `MITgcm/pkg/flt`"
   ],
   "metadata": {}
  },
  {
   "outputs": [],
   "cell_type": "code",
   "source": [
    "ref=transpose([tmp[1:nSteps,:lon] tmp[1:nSteps,:lat]])\n",
    "maxLon=80*5.e3\n",
    "maxLat=42*5.e3\n",
    "show(size(ref))\n",
    "for i=1:nSteps-1\n",
    "    ref[1,i+1]-ref[1,i]>maxLon/2 ? ref[1,i+1:end]-=fill(maxLon,(nSteps-i)) : nothing\n",
    "    ref[1,i+1]-ref[1,i]<-maxLon/2 ? ref[1,i+1:end]+=fill(maxLon,(nSteps-i)) : nothing\n",
    "    ref[2,i+1]-ref[2,i]>maxLat/2 ? ref[2,i+1:end]-=fill(maxLat,(nSteps-i)) : nothing\n",
    "    ref[2,i+1]-ref[2,i]<-maxLat/2 ? ref[2,i+1:end]+=fill(maxLat,(nSteps-i)) : nothing\n",
    "end\n",
    "ref=ref./𝑃.dx;\n",
    "\n",
    "plt=plot(sol[1,:],sol[2,:],linewidth=5,title=\"Using Recomputed Velocities\",\n",
    "     xaxis=\"lon\",yaxis=\"lat\",label=\"Julia Solution\") # legend=false\n",
    "plot!(ref[1,:],ref[2,:],lw=3,ls=:dash,label=\"MITgcm Solution\")"
   ],
   "metadata": {},
   "execution_count": null
  },
  {
   "cell_type": "markdown",
   "source": [
    "---\n",
    "\n",
    "*This notebook was generated using [Literate.jl](https://github.com/fredrikekre/Literate.jl).*"
   ],
   "metadata": {}
  }
 ],
 "nbformat_minor": 3,
 "metadata": {
  "language_info": {
   "file_extension": ".jl",
   "mimetype": "application/julia",
   "name": "julia",
   "version": "1.5.3"
  },
  "kernelspec": {
   "name": "julia-1.5",
   "display_name": "Julia 1.5.3",
   "language": "julia"
  }
 },
 "nbformat": 4
}
