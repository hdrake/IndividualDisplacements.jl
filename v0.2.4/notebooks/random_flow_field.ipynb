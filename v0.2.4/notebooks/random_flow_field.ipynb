{
 "cells": [
  {
   "cell_type": "markdown",
   "source": [
    "# Random Flow\n",
    "\n",
    "\n",
    "Simulate trajectories of a particle cloud in a randomly generated flow field.\n",
    "A doubly periodic domain is used and an animation generated.\n",
    "For additional documentation e.g. see :\n",
    "[1](https://JuliaClimate.github.io/IndividualDisplacements.jl/dev/),\n",
    "[2](https://JuliaClimate.github.io/MeshArrays.jl/dev/),\n",
    "[3](https://docs.juliadiffeq.org/latest/solvers/ode_solve.html),\n",
    "[4](https://en.wikipedia.org/wiki/Displacement_(vector))\n",
    "\n",
    "![particles in random flow](https://github.com/JuliaClimate/IndividualDisplacements.jl/raw/master/examples/figs/RandomFlow.gif)"
   ],
   "metadata": {}
  },
  {
   "cell_type": "markdown",
   "source": [
    "## 1. Import Software"
   ],
   "metadata": {
    "cell_type": "markdown",
    "slideshow": {
     "slide_type": "slide"
    }
   }
  },
  {
   "outputs": [],
   "cell_type": "code",
   "source": [
    "using IndividualDisplacements, DataFrames\n",
    "p=dirname(pathof(IndividualDisplacements))\n",
    "include(joinpath(p,\"../examples/helper_functions.jl\"))"
   ],
   "metadata": {},
   "execution_count": null
  },
  {
   "cell_type": "markdown",
   "source": [
    "## 2. Setup Problem"
   ],
   "metadata": {
    "cell_type": "markdown",
    "slideshow": {
     "slide_type": "slide"
    }
   }
  },
  {
   "cell_type": "markdown",
   "source": [
    "### 2.1 Sample flow field\n",
    "\n",
    "The `u,v` arrays below can be replaced with any other pair provided by the user.\n",
    "A couple of important considerations, however:"
   ],
   "metadata": {}
  },
  {
   "cell_type": "markdown",
   "source": [
    "- `u,v` are staggered on a C-grid; by `-0.5` grid point in direction `1` for `u` (`2` for `v`)\n",
    " from the grid cell center (0.5,0.5)\n",
    "- `u,v` here derive from streamfunction `ϕ`, defined at the corner point, which ensures that\n",
    " the resulting `u,v` is non-divergent, purely rotational, over the C-grid domain\n",
    "\n",
    "In brief:\n",
    "\n",
    "```\n",
    "u=-(circshift(ϕ, (0,-1))-ϕ)\n",
    "v=(circshift(ϕ, (-1,0))-ϕ)\n",
    "```"
   ],
   "metadata": {}
  },
  {
   "outputs": [],
   "cell_type": "code",
   "source": [
    "u,v,ϕ=setup_random_flow()"
   ],
   "metadata": {},
   "execution_count": null
  },
  {
   "cell_type": "markdown",
   "source": [
    "If user were to start with collocated velocity (`uC,vC` at the grid cell center) then\n",
    "one can easily obtain the staggered velocity (`u,v`) as follows. These may contain both\n",
    "[rotational and divergent](https://en.wikipedia.org/wiki/Helmholtz_decomposition) components.\n",
    "\n",
    "```\n",
    "u=0.5*(circshift(uC, (0,1))+uC)\n",
    "v=0.5*(circshift(vC, (1,0))+vC)\n",
    "```"
   ],
   "metadata": {}
  },
  {
   "cell_type": "markdown",
   "source": [
    "### 2.2 Initialize Individuals"
   ],
   "metadata": {
    "cell_type": "markdown",
    "slideshow": {
     "slide_type": "slide"
    }
   }
  },
  {
   "outputs": [],
   "cell_type": "code",
   "source": [
    "np,nq=size(u)\n",
    "x=np*(0.4 .+ 0.2*rand(100))\n",
    "y=nq*(0.4 .+ 0.2*rand(100))\n",
    "\n",
    "𝐼=setup_point_cloud(u,v,X=x,Y=y)\n",
    "#𝐼.𝑃.𝑇[2]=1000."
   ],
   "metadata": {},
   "execution_count": null
  },
  {
   "cell_type": "markdown",
   "source": [
    "## 3. Compute Trajectories"
   ],
   "metadata": {
    "cell_type": "markdown",
    "slideshow": {
     "slide_type": "slide"
    }
   }
  },
  {
   "outputs": [],
   "cell_type": "code",
   "source": [
    "∫!(𝐼)"
   ],
   "metadata": {},
   "execution_count": null
  },
  {
   "cell_type": "markdown",
   "source": [
    "## 4. Plot Results\n",
    "\n",
    "For example, generate a simple animation:"
   ],
   "metadata": {
    "cell_type": "markdown",
    "slideshow": {
     "slide_type": "slide"
    }
   }
  },
  {
   "outputs": [],
   "cell_type": "code",
   "source": [
    "p=dirname(pathof(IndividualDisplacements))\n",
    "include(joinpath(p,\"../examples/recipes_plots.jl\"));\n",
    "\n",
    "🔴_by_t = groupby(𝐼.🔴, :t)\n",
    "anim = @animate for t in eachindex(🔴_by_t)\n",
    "   phi_scatter(ϕ,🔴_by_t[t])\n",
    "end\n",
    "\n",
    "pth=tempdir()*\"/\"\n",
    "gif(anim, pth*\"RandomFlow.gif\", fps = 15)"
   ],
   "metadata": {},
   "execution_count": null
  },
  {
   "cell_type": "markdown",
   "source": [
    "---\n",
    "\n",
    "*This notebook was generated using [Literate.jl](https://github.com/fredrikekre/Literate.jl).*"
   ],
   "metadata": {}
  }
 ],
 "nbformat_minor": 3,
 "metadata": {
  "language_info": {
   "file_extension": ".jl",
   "mimetype": "application/julia",
   "name": "julia",
   "version": "1.5.3"
  },
  "kernelspec": {
   "name": "julia-1.5",
   "display_name": "Julia 1.5.3",
   "language": "julia"
  }
 },
 "nbformat": 4
}
