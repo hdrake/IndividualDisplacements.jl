{
 "cells": [
  {
   "cell_type": "markdown",
   "source": [
    "# Single Particle\n",
    "\n",
    "\n",
    "Simulate the trajectory of an individual point, first in a perfectly circular flow (a.k.a. solid body rotation). Then add a convergent term to obtain a spiraling trajectory, and a constant vertical velocity for the third dimension. These simple flow configurations can be thought of as idealized models e.g. ocean meso-scale eddies.\n",
    "\n",
    "For additional documentation e.g. see :\n",
    "[1](https://JuliaClimate.github.io/IndividualDisplacements.jl/dev/),\n",
    "[2](https://JuliaClimate.github.io/MeshArrays.jl/dev/),\n",
    "[3](https://docs.juliadiffeq.org/latest/solvers/ode_solve.html),\n",
    "[4](https://en.wikipedia.org/wiki/Displacement_(vector))\n",
    "\n",
    "![solid body rotation](https://github.com/JuliaClimate/IndividualDisplacements.jl/raw/master/examples/figs/SolidBodyRotation.gif)"
   ],
   "metadata": {}
  },
  {
   "cell_type": "markdown",
   "source": [
    "# 1 Problem Configuration\n",
    "\n",
    "Here we set up software, grid, flow fields, initial conditions.\n",
    "\n",
    "### 1.1 Import Software"
   ],
   "metadata": {
    "cell_type": "markdown",
    "slideshow": {
     "slide_type": "slide"
    }
   }
  },
  {
   "outputs": [],
   "cell_type": "code",
   "source": [
    "using OrdinaryDiffEq, Plots, DataFrames\n",
    "using IndividualDisplacements, MeshArrays"
   ],
   "metadata": {},
   "execution_count": 1
  },
  {
   "cell_type": "markdown",
   "source": [
    "### 1.2  Gridded Domain"
   ],
   "metadata": {
    "cell_type": "markdown",
    "slideshow": {
     "slide_type": "subslide"
    }
   }
  },
  {
   "outputs": [],
   "cell_type": "code",
   "source": [
    "np,nz=16,4 #horizontal and vertical domain size\n",
    "Γ=simple_periodic_domain(np)\n",
    "γ=Γ[\"XC\"].grid;"
   ],
   "metadata": {},
   "execution_count": 2
  },
  {
   "cell_type": "markdown",
   "source": [
    "### 1.3 Velocity Fields"
   ],
   "metadata": {
    "cell_type": "markdown",
    "slideshow": {
     "slide_type": "subslide"
    }
   }
  },
  {
   "outputs": [],
   "cell_type": "code",
   "source": [
    "#Solid-body rotation around central location ...\n",
    "i=Int(np/2+1)\n",
    "u=-(Γ[\"YG\"].-Γ[\"YG\"][1][i,i])\n",
    "v=(Γ[\"XG\"].-Γ[\"XG\"][1][i,i])\n",
    "\n",
    "#... plus a convergent term to / from central location\n",
    "d=-0.01\n",
    "u=u+d*(Γ[\"XG\"].-Γ[\"XG\"][1][i,i])\n",
    "v=v+d*(Γ[\"YG\"].-Γ[\"YG\"][1][i,i])\n",
    "\n",
    "#Replicate u,v in vertical dimension\n",
    "uu=MeshArray(γ,γ.ioPrec,nz)\n",
    "[uu[k]=u[1] for k=1:nz]\n",
    "vv=MeshArray(γ,γ.ioPrec,nz)\n",
    "[vv[k]=v[1] for k=1:nz]\n",
    "\n",
    "#Vertical velocity component w\n",
    "w=fill(1.0,MeshArray(γ,γ.ioPrec,nz));"
   ],
   "metadata": {},
   "execution_count": 3
  },
  {
   "cell_type": "markdown",
   "source": [
    "### 1.4 Initial Positions"
   ],
   "metadata": {
    "cell_type": "markdown",
    "slideshow": {
     "slide_type": "slide"
    }
   }
  },
  {
   "outputs": [
    {
     "output_type": "execute_result",
     "data": {
      "text/plain": "3-element Array{Float64,1}:\n 5.333333333333333 \n 5.333333333333333 \n 1.3333333333333333"
     },
     "metadata": {},
     "execution_count": 4
    }
   ],
   "cell_type": "code",
   "source": [
    "📌=[np*1/3,np*1/3,nz*1/3]"
   ],
   "metadata": {},
   "execution_count": 4
  },
  {
   "cell_type": "markdown",
   "source": [
    "## 2 Trajectory Simulations\n",
    "\n",
    "Here we turn our problem configuration in a struct (`Individuals`) which contains the initial positions, flow fields, and all that will be necesssary to compute trajectories over time (`∫!(𝐼,𝑇)`).\n",
    "\n",
    "### 2.1 Setup Individuals"
   ],
   "metadata": {
    "cell_type": "markdown",
    "slideshow": {
     "slide_type": "slide"
    }
   }
  },
  {
   "outputs": [],
   "cell_type": "code",
   "source": [
    "𝑃=(u0=uu, u1=uu, v0=vv, v1=vv,w0=0.0*w, w1=-0.01*w, 𝑇=[0,19.95*2*pi], ioSize=(np,np,nz))\n",
    "\n",
    "tr = DataFrame([fill(Int, 1) ; fill(Float64, 4)], [:ID, :x, :y, :z, :t])\n",
    "solv(prob) = solve(prob,Tsit5(),reltol=1e-8)\n",
    "\n",
    "function postproc(sol,𝑃::NamedTuple;id=missing,𝑇=missing)\n",
    "    df=postprocess_xy(sol,𝑃,id=id,𝑇=𝑇)\n",
    "    #add third coordinate\n",
    "    z=sol[3,:,:]\n",
    "    df.z=z[:]\n",
    "    return df\n",
    " end\n",
    "\n",
    "𝐼 = Individuals{Float64}(📌=📌[:,:], 🔴=tr, 🆔=collect(1:size(📌,2)),\n",
    "                         🚄 = dxyz_dt, ∫ = solv, 🔧 = postproc, 𝑃=𝑃);"
   ],
   "metadata": {},
   "execution_count": 5
  },
  {
   "cell_type": "markdown",
   "source": [
    "### 2.2 Compute Trajectories\n",
    "\n",
    "The `∫!` function call below returns the final positions & updates `𝐼.📌` accordingly. It also records properties observed along the trajectory in `𝐼.🔴`"
   ],
   "metadata": {
    "cell_type": "markdown",
    "slideshow": {
     "slide_type": "slide"
    }
   }
  },
  {
   "outputs": [
    {
     "output_type": "execute_result",
     "data": {
      "text/plain": "3×1 Array{Float64,2}:\n 7.767441577479032 \n 9.513402495574852 \n 0.7065855989421701"
     },
     "metadata": {},
     "execution_count": 6
    }
   ],
   "cell_type": "code",
   "source": [
    "𝑇=(0.0,𝐼.𝑃.𝑇[2])\n",
    "∫!(𝐼,𝑇)"
   ],
   "metadata": {},
   "execution_count": 6
  },
  {
   "cell_type": "markdown",
   "source": [
    "### 2.3 Visualize Trajectories\n",
    "\n",
    "- define `myplot` convenience function\n",
    "- generate animation using `myplot`\n",
    "- single plot example using `myplot`"
   ],
   "metadata": {
    "cell_type": "markdown",
    "slideshow": {
     "slide_type": "slide"
    }
   }
  },
  {
   "outputs": [],
   "cell_type": "code",
   "source": [
    "myplot(i)=plot(𝐼.🔴.x[1:i],𝐼.🔴.y[1:i],𝐼.🔴.z[1:i],linewidth=2,arrow = 2,\n",
    "    title=\"Solid body rotation / Spiral example\",leg=false,\n",
    "    xaxis=\"x\",yaxis=\"y\",zaxis=\"z\",xlims=(0,np),ylims=(0,np));"
   ],
   "metadata": {},
   "execution_count": 7
  },
  {
   "cell_type": "markdown",
   "source": [
    "Animation example:"
   ],
   "metadata": {
    "slideshow": {
     "slide_type": "subslide"
    }
   }
  },
  {
   "cell_type": "markdown",
   "source": [
    "Single plot example:"
   ],
   "metadata": {
    "slideshow": {
     "slide_type": "subslide"
    }
   }
  },
  {
   "cell_type": "markdown",
   "source": [
    "---\n",
    "\n",
    "*This notebook was generated using [Literate.jl](https://github.com/fredrikekre/Literate.jl).*"
   ],
   "metadata": {}
  }
 ],
 "nbformat_minor": 3,
 "metadata": {
  "language_info": {
   "file_extension": ".jl",
   "mimetype": "application/julia",
   "name": "julia",
   "version": "1.2.0"
  },
  "kernelspec": {
   "name": "julia-1.2",
   "display_name": "Julia 1.2.0",
   "language": "julia"
  }
 },
 "nbformat": 4
}
