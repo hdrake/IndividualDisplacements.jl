{
 "cells": [
  {
   "cell_type": "markdown",
   "source": [
    "# Single Particle\n",
    "\n",
    "\n",
    "Simulate the trajectory of an individual point, first in a perfectly circular flow (a.k.a. solid body rotation). Then add a convergent term to obtain a spiraling trajectory, and a constant vertical velocity for the third dimension. These simple flow configurations can be thought of as idealized models e.g. ocean meso-scale eddies.\n",
    "\n",
    "For additional documentation e.g. see :\n",
    "[1](https://JuliaClimate.github.io/IndividualDisplacements.jl/dev/),\n",
    "[2](https://JuliaClimate.github.io/MeshArrays.jl/dev/),\n",
    "[3](https://docs.juliadiffeq.org/latest/solvers/ode_solve.html),\n",
    "[4](https://en.wikipedia.org/wiki/Displacement_(vector))\n",
    "\n",
    "![solid body rotation](https://github.com/JuliaClimate/IndividualDisplacements.jl/raw/master/examples/figs/SolidBodyRotation.gif)"
   ],
   "metadata": {}
  },
  {
   "cell_type": "markdown",
   "source": [
    "# 1 Problem Configuration\n",
    "\n",
    "Here we set up software, grid, flow fields, initial conditions.\n",
    "\n",
    "### 1.1 Import Software"
   ],
   "metadata": {
    "cell_type": "markdown",
    "slideshow": {
     "slide_type": "slide"
    }
   }
  },
  {
   "outputs": [
    {
     "output_type": "execute_result",
     "data": {
      "text/plain": "Main.##259.isosurface"
     },
     "metadata": {},
     "execution_count": 1
    }
   ],
   "cell_type": "code",
   "source": [
    "using IndividualDisplacements, DataFrames\n",
    "p=dirname(pathof(IndividualDisplacements))\n",
    "include(joinpath(p,\"../examples/helper_functions.jl\"))"
   ],
   "metadata": {},
   "execution_count": 1
  },
  {
   "cell_type": "markdown",
   "source": [
    "### 1.2  Gridded Domain"
   ],
   "metadata": {
    "cell_type": "markdown",
    "slideshow": {
     "slide_type": "subslide"
    }
   }
  },
  {
   "outputs": [],
   "cell_type": "code",
   "source": [
    "np,nz=16,4 #horizontal and vertical domain size\n",
    "Γ=simple_periodic_domain(np);"
   ],
   "metadata": {},
   "execution_count": 2
  },
  {
   "cell_type": "markdown",
   "source": [
    "### 1.3 Velocity Fields\n",
    "\n",
    "Exercise: find `simple_flow_field` within `helper_functions.jl` and modify the\n",
    "flow field parameters (e.g. intensity and sign of the convergent term)."
   ],
   "metadata": {
    "cell_type": "markdown",
    "slideshow": {
     "slide_type": "subslide"
    }
   }
  },
  {
   "outputs": [],
   "cell_type": "code",
   "source": [
    "u,v,w=simple_flow_field(Γ,np,nz);"
   ],
   "metadata": {},
   "execution_count": 3
  },
  {
   "cell_type": "markdown",
   "source": [
    "### 1.4 Velocity Function\n",
    "\n",
    "`🚄` relies only on parameters (velocity fields, grid, etc)\n",
    "contained in `𝑃` to compute velocity at the space-time position\n",
    "of the individual. The solver (here: `solv`) can then integrate\n",
    "over time the result of `🚄` (see `OrdinaryDiffEq.jl` docs)."
   ],
   "metadata": {}
  },
  {
   "outputs": [
    {
     "output_type": "execute_result",
     "data": {
      "text/plain": "solv (generic function with 1 method)"
     },
     "metadata": {},
     "execution_count": 4
    }
   ],
   "cell_type": "code",
   "source": [
    "🚄 = dxyz_dt\n",
    "\n",
    "𝑃=(u0=u, u1=u, v0=v, v1=v,w0=0.0*w, w1=1.0*w, 𝑇=[0,19.95*2*pi], ioSize=(np,np,nz))\n",
    "\n",
    "solv(prob) = solve(prob,Tsit5(),reltol=1e-8)"
   ],
   "metadata": {},
   "execution_count": 4
  },
  {
   "cell_type": "markdown",
   "source": [
    "### 1.5 Initial Position\n",
    "\n",
    "Here we set up just one individual in a three-dimensional space,"
   ],
   "metadata": {
    "cell_type": "markdown",
    "slideshow": {
     "slide_type": "slide"
    }
   }
  },
  {
   "outputs": [
    {
     "output_type": "execute_result",
     "data": {
      "text/plain": "3-element Array{Float64,1}:\n 5.333333333333333\n 5.333333333333333\n 1.3333333333333333"
     },
     "metadata": {},
     "execution_count": 5
    }
   ],
   "cell_type": "code",
   "source": [
    "📌=[np*1/3,np*1/3,nz*1/3]"
   ],
   "metadata": {},
   "execution_count": 5
  },
  {
   "cell_type": "markdown",
   "source": [
    "and the data structure ([DataFrame](http://juliadata.github.io/DataFrames.jl/stable/))\n",
    "to record properties along the individual's path accordingly. It is the postprocessing\n",
    "function's responsibility to provide the record. It is thus important that this\n",
    "intermediary (`postproc`) be consistent with the solver setup (`sol`) and\n",
    "the expected record format (`🔴`)."
   ],
   "metadata": {}
  },
  {
   "outputs": [
    {
     "output_type": "execute_result",
     "data": {
      "text/plain": "postproc (generic function with 1 method)"
     },
     "metadata": {},
     "execution_count": 6
    }
   ],
   "cell_type": "code",
   "source": [
    "🔴 = DataFrame(ID=Int[], x=Float64[], y=Float64[], z=Float64[], t=Float64[])\n",
    "\n",
    "function postproc(sol,𝑃::NamedTuple;id=missing,𝑇=missing)\n",
    "    df=postprocess_xy(sol,𝑃,id=id,𝑇=𝑇)\n",
    "    #add third coordinate\n",
    "    z=sol[3,:]\n",
    "    df.z=z[:]\n",
    "    return df\n",
    "end"
   ],
   "metadata": {},
   "execution_count": 6
  },
  {
   "cell_type": "markdown",
   "source": [
    "## 2 Trajectory Simulations\n",
    "\n",
    "Now that every thing needed to carry out the computation is in place,\n",
    "we wrap up the problem configuration in a struct (`Individuals`) which\n",
    "links to the initial positions, flow fields, etc. all that will be\n",
    "necessary to compute trajectories over time (`∫!(𝐼,𝑇)`). Simple methods to\n",
    "visualize the individual trajectory (plot or movie) are provided at the end."
   ],
   "metadata": {
    "cell_type": "markdown",
    "slideshow": {
     "slide_type": "slide"
    }
   }
  },
  {
   "cell_type": "markdown",
   "source": [
    "### 2.1 Setup Individuals"
   ],
   "metadata": {}
  },
  {
   "outputs": [
    {
     "output_type": "execute_result",
     "data": {
      "text/plain": "\u001b[0m  📌 details     = \u001b[34m(3,) Float64\u001b[39m\n\u001b[0m  🔴 details     = \u001b[34m(0, 5) [\"ID\", \"x\", \"y\", \"z\", \"t\"]\u001b[39m\n\u001b[0m  🆔 range       = \u001b[34m(1, 1)\u001b[39m\n\u001b[0m  🚄 function    = \u001b[34mdxyz_dt\u001b[39m\n\u001b[0m  ∫  function    = \u001b[34msolv\u001b[39m\n\u001b[0m  🔧 function    = \u001b[34mpostproc\u001b[39m\n\u001b[0m  𝑃  details     = \u001b[34m(:u0, :u1, :v0, :v1, :w0, :w1, :𝑇, :ioSize)\u001b[39m\n"
     },
     "metadata": {},
     "execution_count": 7
    }
   ],
   "cell_type": "code",
   "source": [
    "#assemble as a NamedTuple:\n",
    "I=(position=📌,record=🔴,velocity=🚄,\n",
    "integration=solv,postprocessing=postproc,parameters=𝑃)\n",
    "\n",
    "#construct Individuals from NamedTuple:\n",
    "𝐼=Individuals(I)"
   ],
   "metadata": {},
   "execution_count": 7
  },
  {
   "cell_type": "markdown",
   "source": [
    "### 2.2 Compute Trajectories\n",
    "\n",
    "The `∫!` function call below returns the final positions & updates `𝐼.📌` accordingly. It also records properties observed along the trajectory in `𝐼.🔴`"
   ],
   "metadata": {
    "cell_type": "markdown",
    "slideshow": {
     "slide_type": "slide"
    }
   }
  },
  {
   "outputs": [
    {
     "output_type": "execute_result",
     "data": {
      "text/plain": "3-element Array{Float64,1}:\n 7.767325124766858\n 9.513063674566874\n 0.7065856129510711"
     },
     "metadata": {},
     "execution_count": 8
    }
   ],
   "cell_type": "code",
   "source": [
    "𝑇=(0.0,𝐼.𝑃.𝑇[2])\n",
    "∫!(𝐼,𝑇)"
   ],
   "metadata": {},
   "execution_count": 8
  },
  {
   "cell_type": "markdown",
   "source": [
    "### 2.3 Visualize Trajectories\n",
    "\n",
    "- define `myplot` convenience function\n",
    "- generate animation using `myplot`\n",
    "- single plot example using `myplot`"
   ],
   "metadata": {
    "cell_type": "markdown",
    "slideshow": {
     "slide_type": "slide"
    }
   }
  },
  {
   "cell_type": "markdown",
   "source": [
    "Single plot example:"
   ],
   "metadata": {
    "slideshow": {
     "slide_type": "subslide"
    }
   }
  },
  {
   "cell_type": "markdown",
   "source": [
    "Animation example:"
   ],
   "metadata": {
    "slideshow": {
     "slide_type": "subslide"
    }
   }
  },
  {
   "cell_type": "markdown",
   "source": [
    "Exercise: make the sinking velocity decrease with time\n",
    "(hint: it increases as specified above in the original notebook);\n",
    "change the number of times the particle goes around the origin; etc"
   ],
   "metadata": {}
  },
  {
   "cell_type": "markdown",
   "source": [
    "---\n",
    "\n",
    "*This notebook was generated using [Literate.jl](https://github.com/fredrikekre/Literate.jl).*"
   ],
   "metadata": {}
  }
 ],
 "nbformat_minor": 3,
 "metadata": {
  "language_info": {
   "file_extension": ".jl",
   "mimetype": "application/julia",
   "name": "julia",
   "version": "1.5.3"
  },
  "kernelspec": {
   "name": "julia-1.5",
   "display_name": "Julia 1.5.3",
   "language": "julia"
  }
 },
 "nbformat": 4
}
