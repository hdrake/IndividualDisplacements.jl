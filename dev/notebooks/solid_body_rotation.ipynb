{
 "cells": [
  {
   "cell_type": "markdown",
   "source": [
    "# Single Particle\n",
    "\n",
    "\n",
    "Simulate the trajectory of an individual point, first in a perfectly circular flow (a.k.a. solid body rotation). Then add a convergent term to obtain a spiraling trajectory, and a constant vertical velocity for the third dimension. These simple flow configurations can be thought of as idealized models e.g. ocean meso-scale eddies.\n",
    "\n",
    "For additional documentation e.g. see :\n",
    "[1](https://JuliaClimate.github.io/IndividualDisplacements.jl/dev/),\n",
    "[2](https://JuliaClimate.github.io/MeshArrays.jl/dev/),\n",
    "[3](https://docs.juliadiffeq.org/latest/solvers/ode_solve.html),\n",
    "[4](https://en.wikipedia.org/wiki/Displacement_(vector))\n",
    "\n",
    "![solid body rotation](https://github.com/JuliaClimate/IndividualDisplacements.jl/raw/master/examples/figs/SolidBodyRotation.gif)"
   ],
   "metadata": {}
  },
  {
   "cell_type": "markdown",
   "source": [
    "# 1 Problem Configuration\n",
    "\n",
    "Here we set up software, grid, flow fields, initial conditions.\n",
    "\n",
    "### 1.1 Import Software"
   ],
   "metadata": {
    "cell_type": "markdown",
    "slideshow": {
     "slide_type": "slide"
    }
   }
  },
  {
   "outputs": [
    {
     "output_type": "execute_result",
     "data": {
      "text/plain": "Main.##258.test2_periodic_domain"
     },
     "metadata": {},
     "execution_count": 1
    }
   ],
   "cell_type": "code",
   "source": [
    "using IndividualDisplacements, DataFrames\n",
    "p=dirname(pathof(IndividualDisplacements))\n",
    "include(joinpath(p,\"../examples/flow_fields.jl\"))"
   ],
   "metadata": {},
   "execution_count": 1
  },
  {
   "cell_type": "markdown",
   "source": [
    "### 1.2  Flow Fields\n",
    "\n",
    "The `simple_flow_field` function (defined in `helper_functions.jl`) defines a simple\n",
    "three-dimensional flow field. Exercise: locate `simple_flow_field` and modify the\n",
    "flow field parameters (e.g. intensity and sign of the convergent term)."
   ],
   "metadata": {
    "cell_type": "markdown",
    "slideshow": {
     "slide_type": "subslide"
    }
   }
  },
  {
   "outputs": [],
   "cell_type": "code",
   "source": [
    "np,nz=16,4 #gridded domain size (horizontal and vertical)\n",
    "\n",
    "u,v,w=solid_body_rotation(np,nz) #staggered velocity arrays\n",
    "\n",
    "𝐹=𝐹_Array3D{eltype(u)}(u,u,v,v,0*w,1*w,[0,19.95*2*pi]); #FlowFields data structure"
   ],
   "metadata": {},
   "execution_count": 2
  },
  {
   "cell_type": "markdown",
   "source": [
    "### 1.3 Initialize Individuals\n",
    "\n",
    "Let's just set up one individual at [np*1/3,np*1/3,nz*1/3] in the three-dimensional\n",
    "space where the flow fields have been configured"
   ],
   "metadata": {
    "cell_type": "markdown",
    "slideshow": {
     "slide_type": "slide"
    }
   }
  },
  {
   "outputs": [
    {
     "output_type": "execute_result",
     "data": {
      "text/plain": "\u001b[0m  📌 details     = \u001b[34m(3,) Float64\u001b[39m\n\u001b[0m  🔴 details     = \u001b[34m(0, 5) [\"ID\", \"x\", \"y\", \"z\", \"t\"]\u001b[39m\n\u001b[0m  🆔 range       = \u001b[34m(1, 1)\u001b[39m\n\u001b[0m  🚄 function    = \u001b[34mdxyz_dt\u001b[39m\n\u001b[0m  ∫  function    = \u001b[34mdefault_solver\u001b[39m\n\u001b[0m  🔧 function    = \u001b[34m🔧\u001b[39m\n\u001b[0m  𝑃  details     = \u001b[34m(:u0, :u1, :v0, :v1, :w0, :w1, :𝑇)\u001b[39m\n"
     },
     "metadata": {},
     "execution_count": 3
    }
   ],
   "cell_type": "code",
   "source": [
    "(x,y,z)=(np*1/3,np*1/3,nz*1/3)\n",
    "\n",
    "𝐼=Individuals(𝐹,x,y,z)"
   ],
   "metadata": {},
   "execution_count": 3
  },
  {
   "cell_type": "markdown",
   "source": [
    "### 1.4 A Closer Look (optional)\n",
    "\n",
    "The above `Individuals` constructor wraps up 𝐹, the initial position, and other needed components\n",
    "within 𝐼. **At this point, you can either jump to section 2 or read through this section**\n",
    "to learn more about how the details as needed e.g. if you wanted to overide default options\n",
    "that were selected for you by the section 1.3 constructor.\n",
    "\n",
    "Initial position is"
   ],
   "metadata": {
    "cell_type": "markdown",
    "slideshow": {
     "slide_type": "slide"
    }
   }
  },
  {
   "outputs": [
    {
     "output_type": "execute_result",
     "data": {
      "text/plain": "3-element Array{Float64,1}:\n 5.333333333333333\n 5.333333333333333\n 1.3333333333333333"
     },
     "metadata": {},
     "execution_count": 4
    }
   ],
   "cell_type": "code",
   "source": [
    "📌=[x,y,z]"
   ],
   "metadata": {},
   "execution_count": 4
  },
  {
   "cell_type": "markdown",
   "source": [
    "and the data structure ([DataFrame](http://juliadata.github.io/DataFrames.jl/stable/))\n",
    "to record properties along the individual's path accordingly."
   ],
   "metadata": {}
  },
  {
   "outputs": [
    {
     "output_type": "execute_result",
     "data": {
      "text/plain": "\u001b[1m0×5 DataFrame\u001b[0m",
      "text/html": [
       "<table class=\"data-frame\"><thead><tr><th></th><th>ID</th><th>x</th><th>y</th><th>z</th><th>t</th></tr><tr><th></th><th>Int64</th><th>Float64</th><th>Float64</th><th>Float64</th><th>Float64</th></tr></thead><tbody><p>0 rows × 5 columns</p></tbody></table>"
      ]
     },
     "metadata": {},
     "execution_count": 5
    }
   ],
   "cell_type": "code",
   "source": [
    "🔴 = DataFrame(ID=Int[], x=Float64[], y=Float64[], z=Float64[], t=Float64[])"
   ],
   "metadata": {},
   "execution_count": 5
  },
  {
   "cell_type": "markdown",
   "source": [
    "It is the postprocessing function's responsibility to provide the record. It is thus\n",
    "important that this intermediary (`postproc`) be consistent with the solver setup (`sol`)\n",
    "and the expected record format (`🔴`)."
   ],
   "metadata": {}
  },
  {
   "outputs": [
    {
     "output_type": "execute_result",
     "data": {
      "text/plain": "postproc (generic function with 1 method)"
     },
     "metadata": {},
     "execution_count": 6
    }
   ],
   "cell_type": "code",
   "source": [
    "function postproc(sol,𝐹::FlowFields;id=missing,𝑇=missing)\n",
    "    df=postprocess_xy(sol,𝐹,id=id,𝑇=𝑇)\n",
    "    #add third coordinate\n",
    "    z=sol[3,:]\n",
    "    df.z=z[:]\n",
    "    return df\n",
    "end"
   ],
   "metadata": {},
   "execution_count": 6
  },
  {
   "cell_type": "markdown",
   "source": [
    "The velocity function `🚄` relies only on flow fields obtained from\n",
    "`𝐹` (which is defined above) to interpolate velocity at the specified\n",
    "space-time position (e.g. those of individuals)."
   ],
   "metadata": {}
  },
  {
   "outputs": [
    {
     "output_type": "execute_result",
     "data": {
      "text/plain": "dxyz_dt (generic function with 3 methods)"
     },
     "metadata": {},
     "execution_count": 7
    }
   ],
   "cell_type": "code",
   "source": [
    "🚄 = dxyz_dt"
   ],
   "metadata": {},
   "execution_count": 7
  },
  {
   "cell_type": "markdown",
   "source": [
    "Now that every thing needed to carry out the computation is in place,\n",
    "we wrap up the problem configuration in a struct (`Individuals`) which\n",
    "links to the initial positions, flow fields, etc. all that will be\n",
    "necessary to compute trajectories over time (`∫!(𝐼,𝑇)`)."
   ],
   "metadata": {}
  },
  {
   "outputs": [
    {
     "output_type": "execute_result",
     "data": {
      "text/plain": "\u001b[0m  📌 details     = \u001b[34m(3,) Float64\u001b[39m\n\u001b[0m  🔴 details     = \u001b[34m(0, 5) [\"ID\", \"x\", \"y\", \"z\", \"t\"]\u001b[39m\n\u001b[0m  🆔 range       = \u001b[34m(1, 1)\u001b[39m\n\u001b[0m  🚄 function    = \u001b[34mdxyz_dt\u001b[39m\n\u001b[0m  ∫  function    = \u001b[34mdefault_solver\u001b[39m\n\u001b[0m  🔧 function    = \u001b[34mpostproc\u001b[39m\n\u001b[0m  𝑃  details     = \u001b[34m(:u0, :u1, :v0, :v1, :w0, :w1, :𝑇)\u001b[39m\n"
     },
     "metadata": {},
     "execution_count": 8
    }
   ],
   "cell_type": "code",
   "source": [
    "#assemble as a NamedTuple:\n",
    "I=(position=📌,record=🔴,velocity=🚄,\n",
    "postprocessing=postproc,parameters=𝐹)\n",
    "\n",
    "#construct Individuals from NamedTuple:\n",
    "𝐼=Individuals(I)"
   ],
   "metadata": {},
   "execution_count": 8
  },
  {
   "cell_type": "markdown",
   "source": [
    "## 2 Trajectory Simulations\n",
    "\n",
    "The `∫!` function call below returns the final positions & updates `𝐼.📌` accordingly. It also records properties observed along the trajectory in `𝐼.🔴`.\n",
    "Simple methods to visualize the individual trajectory (plot or movie) are provided at the end."
   ],
   "metadata": {
    "cell_type": "markdown",
    "slideshow": {
     "slide_type": "slide"
    }
   }
  },
  {
   "cell_type": "markdown",
   "source": [
    "### 2.1 Compute Trajectories"
   ],
   "metadata": {
    "cell_type": "markdown",
    "slideshow": {
     "slide_type": "slide"
    }
   }
  },
  {
   "outputs": [
    {
     "output_type": "execute_result",
     "data": {
      "text/plain": "3-element Array{Float64,1}:\n 7.721088772857553\n 9.468917662354212\n 0.7065856056430158"
     },
     "metadata": {},
     "execution_count": 9
    }
   ],
   "cell_type": "code",
   "source": [
    "𝑇=(0.0,𝐼.𝑃.𝑇[2])\n",
    "∫!(𝐼,𝑇)"
   ],
   "metadata": {},
   "execution_count": 9
  },
  {
   "cell_type": "markdown",
   "source": [
    "### 2.2 Visualize Trajectories\n",
    "\n",
    "- define `myplot` convenience function\n",
    "- generate animation using `myplot`\n",
    "- single plot example using `myplot`"
   ],
   "metadata": {
    "cell_type": "markdown",
    "slideshow": {
     "slide_type": "slide"
    }
   }
  },
  {
   "cell_type": "markdown",
   "source": [
    "Single plot example:"
   ],
   "metadata": {
    "slideshow": {
     "slide_type": "subslide"
    }
   }
  },
  {
   "cell_type": "markdown",
   "source": [
    "Animation example:"
   ],
   "metadata": {
    "slideshow": {
     "slide_type": "subslide"
    }
   }
  },
  {
   "cell_type": "markdown",
   "source": [
    "Exercise: make the sinking velocity decrease with time\n",
    "(hint: it increases as specified above in the original notebook);\n",
    "change the number of times the particle goes around the origin; etc"
   ],
   "metadata": {}
  },
  {
   "cell_type": "markdown",
   "source": [
    "---\n",
    "\n",
    "*This notebook was generated using [Literate.jl](https://github.com/fredrikekre/Literate.jl).*"
   ],
   "metadata": {}
  }
 ],
 "nbformat_minor": 3,
 "metadata": {
  "language_info": {
   "file_extension": ".jl",
   "mimetype": "application/julia",
   "name": "julia",
   "version": "1.5.3"
  },
  "kernelspec": {
   "name": "julia-1.5",
   "display_name": "Julia 1.5.3",
   "language": "julia"
  }
 },
 "nbformat": 4
}
