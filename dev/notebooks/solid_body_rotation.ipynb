{
 "cells": [
  {
   "cell_type": "markdown",
   "source": [
    "# Single Particle\n",
    "\n",
    "\n",
    "Simulate the trajectory of an individual point, first in a perfectly circular flow (a.k.a. solid body rotation). Then add a convergent term to obtain a spiraling trajectory, and a constant vertical velocity for the third dimension. These simple flow configurations can be thought of as idealized models e.g. ocean meso-scale eddies.\n",
    "\n",
    "For additional documentation e.g. see :\n",
    "[1](https://JuliaClimate.github.io/IndividualDisplacements.jl/dev/),\n",
    "[2](https://JuliaClimate.github.io/MeshArrays.jl/dev/),\n",
    "[3](https://docs.juliadiffeq.org/latest/solvers/ode_solve.html),\n",
    "[4](https://en.wikipedia.org/wiki/Displacement_(vector))\n",
    "\n",
    "![solid body rotation](https://github.com/JuliaClimate/IndividualDisplacements.jl/raw/master/examples/figs/SolidBodyRotation.gif)"
   ],
   "metadata": {}
  },
  {
   "cell_type": "markdown",
   "source": [
    "# 1 Problem Configuration\n",
    "\n",
    "Here we set up software, grid, flow fields, initial conditions.\n",
    "\n",
    "### 1.1 Import Software"
   ],
   "metadata": {
    "cell_type": "markdown",
    "slideshow": {
     "slide_type": "slide"
    }
   }
  },
  {
   "outputs": [],
   "cell_type": "code",
   "source": [
    "using OrdinaryDiffEq, Plots, DataFrames\n",
    "using IndividualDisplacements, MeshArrays\n",
    "\n",
    "p=dirname(pathof(IndividualDisplacements))\n",
    "include(joinpath(p,\"../examples/helper_functions.jl\"))"
   ],
   "metadata": {},
   "execution_count": null
  },
  {
   "cell_type": "markdown",
   "source": [
    "### 1.2  Gridded Domain"
   ],
   "metadata": {
    "cell_type": "markdown",
    "slideshow": {
     "slide_type": "subslide"
    }
   }
  },
  {
   "outputs": [],
   "cell_type": "code",
   "source": [
    "np,nz=16,4 #horizontal and vertical domain size\n",
    "Γ=simple_periodic_domain(np)"
   ],
   "metadata": {},
   "execution_count": null
  },
  {
   "cell_type": "markdown",
   "source": [
    "### 1.3 Velocity Fields\n",
    "\n",
    "Exercise: find `simple_flow_field` within `helper_functions.jl` and modify the\n",
    "flow field parameters (e.g. intensity and sign of the convergent term)."
   ],
   "metadata": {
    "cell_type": "markdown",
    "slideshow": {
     "slide_type": "subslide"
    }
   }
  },
  {
   "outputs": [],
   "cell_type": "code",
   "source": [
    "u,v,w=simple_flow_field(Γ,np,nz)"
   ],
   "metadata": {},
   "execution_count": null
  },
  {
   "cell_type": "markdown",
   "source": [
    "### 1.4 Velocity Methods\n",
    "\n",
    "`🚄` relies only on parameters (velocity fields, grid, etc)\n",
    "contained in `𝑃` to compute velocity at the space-time position\n",
    "of the individual. The solver (here: `solv`) can then integrate\n",
    "over time the result of `🚄` (see `OrdinaryDiffEq.jl` docs)."
   ],
   "metadata": {}
  },
  {
   "outputs": [],
   "cell_type": "code",
   "source": [
    "🚄 = dxyz_dt\n",
    "\n",
    "𝑃=(u0=u, u1=u, v0=v, v1=v,w0=0.0*w, w1=1.0*w, 𝑇=[0,19.95*2*pi], ioSize=(np,np,nz))\n",
    "\n",
    "solv(prob) = solve(prob,Tsit5(),reltol=1e-8)"
   ],
   "metadata": {},
   "execution_count": null
  },
  {
   "cell_type": "markdown",
   "source": [
    "### 1.5 Initial Positions\n",
    "\n",
    "In this initial example we set up only one, three-dimensional, individual"
   ],
   "metadata": {
    "cell_type": "markdown",
    "slideshow": {
     "slide_type": "slide"
    }
   }
  },
  {
   "outputs": [],
   "cell_type": "code",
   "source": [
    "📌=[np*1/3,np*1/3,nz*1/3]"
   ],
   "metadata": {},
   "execution_count": null
  },
  {
   "cell_type": "markdown",
   "source": [
    "And set up the data structure to record individual properties along\n",
    "its trajectory accordingly. It will be the postprocessing function\n",
    "(`postproc`) responsibility to provide the record. It is thus important\n",
    "that this intermediary be consistent with the solver setup (`sol`) and\n",
    "the expected record format (`🔴`)."
   ],
   "metadata": {}
  },
  {
   "outputs": [],
   "cell_type": "code",
   "source": [
    "🔴 = DataFrame(ID=Int[], x=Float64[], y=Float64[], z=Float64[], t=Float64[])\n",
    "\n",
    "function postproc(sol,𝑃::NamedTuple;id=missing,𝑇=missing)\n",
    "    df=postprocess_xy(sol,𝑃,id=id,𝑇=𝑇)\n",
    "    #add third coordinate\n",
    "    z=sol[3,:]\n",
    "    df.z=z[:]\n",
    "    return df\n",
    "end"
   ],
   "metadata": {},
   "execution_count": null
  },
  {
   "cell_type": "markdown",
   "source": [
    "## 2 Trajectory Simulations\n",
    "\n",
    "Here we turn our problem configuration in a struct (`Individuals`) which contains the initial positions, flow fields, and all that will be necesssary to compute trajectories over time (`∫!(𝐼,𝑇)`).\n",
    "\n",
    "### 2.1 Setup Individuals\n",
    "\n",
    "Exercise: make the sinking velocity decrease with time\n",
    "(hint: it increases as specified below); change the\n",
    "number of times the particle goes around the origin; etc"
   ],
   "metadata": {
    "cell_type": "markdown",
    "slideshow": {
     "slide_type": "slide"
    }
   }
  },
  {
   "outputs": [],
   "cell_type": "code",
   "source": [
    "#assemble as a NamedTuple:\n",
    "I=(position=📌,record=🔴,velocity=🚄,\n",
    "integration=solv,postprocessing=postproc,parameters=𝑃)\n",
    "\n",
    "#construct Individuals from NamedTuple:\n",
    "𝐼=Individuals(I)"
   ],
   "metadata": {},
   "execution_count": null
  },
  {
   "cell_type": "markdown",
   "source": [
    "### 2.2 Compute Trajectories\n",
    "\n",
    "The `∫!` function call below returns the final positions & updates `𝐼.📌` accordingly. It also records properties observed along the trajectory in `𝐼.🔴`"
   ],
   "metadata": {
    "cell_type": "markdown",
    "slideshow": {
     "slide_type": "slide"
    }
   }
  },
  {
   "outputs": [],
   "cell_type": "code",
   "source": [
    "𝑇=(0.0,𝐼.𝑃.𝑇[2])\n",
    "∫!(𝐼,𝑇)"
   ],
   "metadata": {},
   "execution_count": null
  },
  {
   "cell_type": "markdown",
   "source": [
    "### 2.3 Visualize Trajectories\n",
    "\n",
    "- define `myplot` convenience function\n",
    "- generate animation using `myplot`\n",
    "- single plot example using `myplot`"
   ],
   "metadata": {
    "cell_type": "markdown",
    "slideshow": {
     "slide_type": "slide"
    }
   }
  },
  {
   "outputs": [],
   "cell_type": "code",
   "source": [
    "myplot(i)=plot(𝐼.🔴.x[1:i],𝐼.🔴.y[1:i],𝐼.🔴.z[1:i],linewidth=2,arrow = 2,\n",
    "    title=\"Solid body rotation / Spiral example\",leg=false,\n",
    "    xaxis=\"x\",yaxis=\"y\",zaxis=\"z\",xlims=(0,np),ylims=(0,np));"
   ],
   "metadata": {},
   "execution_count": null
  },
  {
   "cell_type": "markdown",
   "source": [
    "Animation example:"
   ],
   "metadata": {
    "slideshow": {
     "slide_type": "subslide"
    }
   }
  },
  {
   "outputs": [],
   "cell_type": "code",
   "source": [
    "include(joinpath(p,\"../examples/recipes_plots.jl\"));\n",
    "nt=length(𝐼.🔴.x)\n",
    "\n",
    "p=Int(ceil(nt/100))\n",
    "anim = @animate for i ∈ 1:p:nt\n",
    "    myplot(i)\n",
    "end\n",
    "\n",
    "pth=tempdir()*\"/\"\n",
    "gif(anim, pth*\"SolidBodyRotation.gif\", fps = 15)"
   ],
   "metadata": {},
   "execution_count": null
  },
  {
   "cell_type": "markdown",
   "source": [
    "Single plot example:"
   ],
   "metadata": {
    "slideshow": {
     "slide_type": "subslide"
    }
   }
  },
  {
   "outputs": [],
   "cell_type": "code",
   "source": [
    "plt=myplot(nt)\n",
    "scatter!(plt,[📌[1]],[📌[2]],[📌[3]])\n",
    "#scatter!(plt,[𝐼.🔴.x[end]],[𝐼.🔴.y[end]],[𝐼.🔴.z[end]])\n",
    "scatter!(plt,[𝐼.📌[1]],[𝐼.📌[2]],[𝐼.📌[3]])"
   ],
   "metadata": {},
   "execution_count": null
  },
  {
   "cell_type": "markdown",
   "source": [
    "---\n",
    "\n",
    "*This notebook was generated using [Literate.jl](https://github.com/fredrikekre/Literate.jl).*"
   ],
   "metadata": {}
  }
 ],
 "nbformat_minor": 3,
 "metadata": {
  "language_info": {
   "file_extension": ".jl",
   "mimetype": "application/julia",
   "name": "julia",
   "version": "1.5.3"
  },
  "kernelspec": {
   "name": "julia-1.5",
   "display_name": "Julia 1.5.3",
   "language": "julia"
  }
 },
 "nbformat": 4
}
