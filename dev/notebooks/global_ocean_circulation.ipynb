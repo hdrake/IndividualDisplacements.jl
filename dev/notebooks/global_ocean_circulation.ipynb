{
 "cells": [
  {
   "cell_type": "markdown",
   "source": [
    "# Global Climatology\n",
    "\n",
    "\n",
    "Advect particles with climatological monthly mean flow at selected depth level\n",
    "(e.g. `k=10` for 95 m) from a global ocean state estimate ([ECCO v4 r2](https://eccov4.readthedocs.io/en/latest/) ; see also <https://ecco-group.org>)\n",
    "which is here repeated for `ny` years. For additional documentation e.g. see :\n",
    "[1](https://JuliaClimate.github.io/MeshArrays.jl/dev/),\n",
    "[2](https://JuliaClimate.github.io/IndividualDisplacements.jl/dev/),\n",
    "[3](https://docs.juliadiffeq.org/latest/solvers/ode_solve.html),\n",
    "[4](https://en.wikipedia.org/wiki/Displacement_(vector))\n",
    "\n",
    "[![simulated particle movie (5m)](https://user-images.githubusercontent.com/20276764/84766999-b801ad80-af9f-11ea-922a-610ad8a257dc.png)](https://youtu.be/W5DNqJG9jt0)"
   ],
   "metadata": {}
  },
  {
   "cell_type": "markdown",
   "source": [
    "## 1. Get Software & Iput Files\n",
    "\n",
    "- packages + helper functions\n",
    "- grid and velocity files"
   ],
   "metadata": {
    "cell_type": "markdown",
    "slideshow": {
     "slide_type": "subslide"
    }
   }
  },
  {
   "outputs": [],
   "cell_type": "code",
   "source": [
    "using IndividualDisplacements, MeshArrays, OrdinaryDiffEq\n",
    "using Statistics, DataFrames, MITgcmTools, OceanStateEstimation\n",
    "\n",
    "include(joinpath(dirname(pathof(IndividualDisplacements)),\"../examples/helper_functions.jl\"))\n",
    "IndividualDisplacements.get_ecco_velocity_if_needed();"
   ],
   "metadata": {},
   "execution_count": null
  },
  {
   "cell_type": "markdown",
   "source": [
    "## 2. Set Up Parameters & Inputs\n",
    "\n",
    "- select vertical level & duration in years\n",
    "- read grid variables & velocities\n",
    "- normalize velocities"
   ],
   "metadata": {
    "cell_type": "markdown",
    "slideshow": {
     "slide_type": "subslide"
    }
   }
  },
  {
   "outputs": [],
   "cell_type": "code",
   "source": [
    "𝑃,𝐷=setup_global_ocean(k=1,ny=2);\n",
    "\n",
    "fieldnames(typeof(𝑃))"
   ],
   "metadata": {},
   "execution_count": null
  },
  {
   "cell_type": "markdown",
   "source": [
    "## 3. Main Computation Loop\n",
    "\n",
    "### 3.1 Initialize Individuals & Solution\n",
    "\n",
    "- initial particle positions randomly over Global Ocean"
   ],
   "metadata": {
    "cell_type": "markdown",
    "slideshow": {
     "slide_type": "slide"
    }
   }
  },
  {
   "outputs": [],
   "cell_type": "code",
   "source": [
    "xy = init_global_randn(1000,𝐷)\n",
    "𝐼=Individuals(𝑃,xy[1,:],xy[2,:],xy[3,:])\n",
    "fieldnames(typeof(𝐼))"
   ],
   "metadata": {},
   "execution_count": null
  },
  {
   "cell_type": "markdown",
   "source": [
    "- initial integration from time 0 to 0.5 month"
   ],
   "metadata": {
    "cell_type": "markdown",
    "slideshow": {
     "slide_type": "subslide"
    }
   }
  },
  {
   "outputs": [],
   "cell_type": "code",
   "source": [
    "𝑇=(0.0,𝐼.𝑃.𝑇[2])\n",
    "∫!(𝐼,𝑇)\n",
    "add_lonlat!(𝐼.🔴,𝐷.XC,𝐷.YC);"
   ],
   "metadata": {},
   "execution_count": null
  },
  {
   "cell_type": "markdown",
   "source": [
    "### 3.2 Iteration function example\n",
    "\n",
    "Here we customize the postprocessing function to add longitude and latitude (my🔧)."
   ],
   "metadata": {
    "cell_type": "markdown",
    "slideshow": {
     "slide_type": "subslide"
    }
   }
  },
  {
   "outputs": [],
   "cell_type": "code",
   "source": [
    "function my🔧(sol,𝑃::𝐹_MeshArray2D;id=missing,𝑇=missing)\n",
    "    df=postprocess_MeshArray(sol,𝑃,id=id,𝑇=𝑇)\n",
    "    add_lonlat!(df,𝐷.XC,𝐷.YC)\n",
    "end\n",
    "\n",
    "𝐽=Individuals{eltype(𝐼.📌),ndims(𝐼.📌)}(𝑃=𝐼.𝑃,📌=𝐼.📌,🔴=𝐼.🔴,🆔=𝐼.🆔,🚄=𝐼.🚄,∫=𝐼.∫,🔧=my🔧)"
   ],
   "metadata": {},
   "execution_count": null
  },
  {
   "cell_type": "markdown",
   "source": [
    "In addition, `step!` is defined to provide additional flexibility around `∫!` :\n",
    "\n",
    "- `𝐷.🔄(𝐼.𝑃,t_ϵ)` resets the velocity input streams to bracket t_ϵ=𝐼.𝑃.𝑇[2]+eps(𝐼.𝑃.𝑇[2])\n",
    "- `reset_lonlat!(𝐼)` randomly selects a fraction (defined in `setup_global_ocean()`) of the particles and resets their positions before each integration period. This can maintain homogeneous coverage of the Global Ocean by particles.\n",
    "- `∫!(𝐼)` then solves for the individual trajectories over one month, after updating velocity fields (𝐼.u0 etc) if needed, and adds diagnostics to the DataFrame used to record / trace variables along the trajectory (𝐼.tr)."
   ],
   "metadata": {}
  },
  {
   "outputs": [],
   "cell_type": "code",
   "source": [
    "function step!(𝐼::Individuals)\n",
    "    t_ϵ=𝐼.𝑃.𝑇[2]+eps(𝐼.𝑃.𝑇[2])\n",
    "    𝐷.🔄(𝐼.𝑃,𝐷,t_ϵ)\n",
    "    reset_lonlat!(𝐼,𝐷)\n",
    "    ∫!(𝐼)\n",
    "end"
   ],
   "metadata": {},
   "execution_count": null
  },
  {
   "cell_type": "markdown",
   "source": [
    "## 3.3 Iterate For `ny*12` Months"
   ],
   "metadata": {
    "cell_type": "markdown",
    "slideshow": {
     "slide_type": "slide"
    }
   }
  },
  {
   "outputs": [],
   "cell_type": "code",
   "source": [
    "[step!(𝐽) for y=1:1, m=1:1]"
   ],
   "metadata": {},
   "execution_count": null
  },
  {
   "cell_type": "markdown",
   "source": [
    "## 3.4 Compute summary statistics\n",
    "\n",
    "See [DataFrames.jl](https://juliadata.github.io/DataFrames.jl/latest/) documentation for detail and additinal functionalities."
   ],
   "metadata": {
    "cell_type": "markdown",
    "slideshow": {
     "slide_type": "slide"
    }
   }
  },
  {
   "outputs": [],
   "cell_type": "code",
   "source": [
    "gdf = groupby(𝐽.🔴, :ID)\n",
    "sgdf= combine(gdf,nrow,:lat => mean)\n",
    "sgdf[rand(1:size(sgdf,1),4),:]"
   ],
   "metadata": {},
   "execution_count": null
  },
  {
   "cell_type": "markdown",
   "source": [
    "## 4. Plot trajectories / individual positions\n",
    "\n",
    "```\n",
    "using Plots\n",
    "p=plot(;xlims=(-180,180),ylims=(-90,90),legend=:none)\n",
    "p!(x,y)=scatter!(p,x,y,markersize=1.1,markerstrokewidth=0)\n",
    "[p!(gdf[i].lon,gdf[i].lat) for i in rand(collect(1:length(gdf)),10)]\n",
    "display(p)\n",
    "```"
   ],
   "metadata": {
    "cell_type": "markdown",
    "slideshow": {
     "slide_type": "slide"
    }
   }
  },
  {
   "cell_type": "markdown",
   "source": [
    "Or select a background map (e.g. `lon`, `lat`, and `DL=log10(bottom depth)`)\n",
    "and a recipe to superimpose initial and final locations. Try:"
   ],
   "metadata": {
    "cell_type": "markdown",
    "slideshow": {
     "slide_type": "subslide"
    }
   }
  },
  {
   "outputs": [],
   "cell_type": "code",
   "source": [
    "#```\n",
    "#include(joinpath(dirname(pathof(IndividualDisplacements)),\"../examples/recipes_plots.jl\"))\n",
    "#plot_end_points(𝐽,𝐷.Γ)\n",
    "#```"
   ],
   "metadata": {},
   "execution_count": null
  },
  {
   "cell_type": "markdown",
   "source": [
    "---\n",
    "\n",
    "*This notebook was generated using [Literate.jl](https://github.com/fredrikekre/Literate.jl).*"
   ],
   "metadata": {}
  }
 ],
 "nbformat_minor": 3,
 "metadata": {
  "language_info": {
   "file_extension": ".jl",
   "mimetype": "application/julia",
   "name": "julia",
   "version": "1.5.3"
  },
  "kernelspec": {
   "name": "julia-1.5",
   "display_name": "Julia 1.5.3",
   "language": "julia"
  }
 },
 "nbformat": 4
}
