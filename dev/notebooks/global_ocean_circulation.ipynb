{
 "cells": [
  {
   "cell_type": "markdown",
   "source": [
    "# Global Climatology\n",
    "\n",
    "\n",
    "Advect particles with climatological monthly mean flow at selected depth level\n",
    "(e.g. `k=10` for 95 m) from a global ocean state estimate ([ECCO v4 r2](https://eccov4.readthedocs.io/en/latest/) ; see also <https://ecco-group.org>)\n",
    "which is here repeated for `ny` years. For additional documentation e.g. see :\n",
    "[1](https://JuliaClimate.github.io/MeshArrays.jl/dev/),\n",
    "[2](https://JuliaClimate.github.io/IndividualDisplacements.jl/dev/),\n",
    "[3](https://docs.juliadiffeq.org/latest/solvers/ode_solve.html),\n",
    "[4](https://en.wikipedia.org/wiki/Displacement_(vector))\n",
    "\n",
    "[![simulated particle movie (5m)](https://user-images.githubusercontent.com/20276764/84766999-b801ad80-af9f-11ea-922a-610ad8a257dc.png)](https://youtu.be/W5DNqJG9jt0)"
   ],
   "metadata": {}
  },
  {
   "cell_type": "markdown",
   "source": [
    "## 1. Get Software & Iput Files\n",
    "\n",
    "- packages + helper functions\n",
    "- grid and velocity files"
   ],
   "metadata": {
    "cell_type": "markdown",
    "slideshow": {
     "slide_type": "subslide"
    }
   }
  },
  {
   "outputs": [],
   "cell_type": "code",
   "source": [
    "using IndividualDisplacements, MeshArrays, OrdinaryDiffEq\n",
    "using Statistics, DataFrames, MITgcmTools, OceanStateEstimation\n",
    "\n",
    "include(joinpath(dirname(pathof(IndividualDisplacements)),\"../examples/helper_functions.jl\"))\n",
    "IndividualDisplacements.get_ecco_velocity_if_needed();"
   ],
   "metadata": {},
   "execution_count": 1
  },
  {
   "cell_type": "markdown",
   "source": [
    "## 2. Set Up Parameters & Inputs\n",
    "\n",
    "- select vertical level & duration in years\n",
    "- read grid variables & velocities\n",
    "- normalize velocities"
   ],
   "metadata": {
    "cell_type": "markdown",
    "slideshow": {
     "slide_type": "subslide"
    }
   }
  },
  {
   "outputs": [
    {
     "output_type": "execute_result",
     "data": {
      "text/plain": "(:u0, :u1, :v0, :v1, :𝑇, :🔄, :pth, :XC, :YC, :iDXC, :iDYC, :k, :msk, :aS, :RelocFunctions, :aW, :aN, :aE, :frac, :Γ)"
     },
     "metadata": {},
     "execution_count": 2
    }
   ],
   "cell_type": "code",
   "source": [
    "𝑃=setup_global_ocean(k=1,ny=2);\n",
    "\n",
    "keys(𝑃)"
   ],
   "metadata": {},
   "execution_count": 2
  },
  {
   "cell_type": "markdown",
   "source": [
    "## 3. Main Computation Loop\n",
    "\n",
    "### 3.1 Initialize Individuals & Solution\n",
    "\n",
    "- initial particle positions randomly over Global Ocean"
   ],
   "metadata": {
    "cell_type": "markdown",
    "slideshow": {
     "slide_type": "slide"
    }
   }
  },
  {
   "outputs": [
    {
     "output_type": "execute_result",
     "data": {
      "text/plain": "(:📌, :🔴, :🆔, :🚄, :∫, :🔧, :𝑃, :𝐷, :𝑀)"
     },
     "metadata": {},
     "execution_count": 3
    }
   ],
   "cell_type": "code",
   "source": [
    "xy=init_global_randn(1000,𝑃); id=collect(1:size(xy,2))\n",
    "𝐼 = Individuals{Float64}(📌=xy[:,:], 🆔=id, 🔧=postprocess_lonlat, 🚄 = dxy_dt!, 𝑃=𝑃)\n",
    "\n",
    "fieldnames(typeof(𝐼))"
   ],
   "metadata": {},
   "execution_count": 3
  },
  {
   "cell_type": "markdown",
   "source": [
    "- initial integration from time 0 to 0.5 month"
   ],
   "metadata": {
    "cell_type": "markdown",
    "slideshow": {
     "slide_type": "subslide"
    }
   }
  },
  {
   "outputs": [
    {
     "output_type": "execute_result",
     "data": {
      "text/plain": "3×1000 Array{Float64,2}:\n  36.9057   78.8568  79.4572  164.963    …  107.445   115.733    90.1654\n 115.465   151.065   83.1154    9.18105      13.5538    3.58112  67.5844\n   1.0       1.0      4.0       4.0           4.0       5.0       4.0"
     },
     "metadata": {},
     "execution_count": 4
    }
   ],
   "cell_type": "code",
   "source": [
    "𝑇=(0.0,𝐼.𝑃.𝑇[2])\n",
    "∫!(𝐼,𝑇)"
   ],
   "metadata": {},
   "execution_count": 4
  },
  {
   "cell_type": "markdown",
   "source": [
    "### 3.2 Iteration function example\n",
    "\n",
    "- `𝐼.𝑃.🔄(𝐼.𝑃,t_ϵ)` resets the velocity input streams to bracket t_ϵ=𝐼.𝑃.𝑇[2]+eps(𝐼.𝑃.𝑇[2])\n",
    "- `reset_lonlat!(𝐼)` randomly selects a fraction (defined in `setup_global_ocean()`) of the particles and resets their positions before each integration period. This can maintain homogeneous coverage of the Global Ocean by particles.\n",
    "- `∫!(𝐼,𝑇)` then solves for the individual trajectories over one month, after updating velocity fields (𝐼.u0 etc) if needed, and adds diagnostics to the DataFrame used to record / trace variables along the trajectory (𝐼.tr)."
   ],
   "metadata": {
    "cell_type": "markdown",
    "slideshow": {
     "slide_type": "subslide"
    }
   }
  },
  {
   "outputs": [
    {
     "output_type": "execute_result",
     "data": {
      "text/plain": "step! (generic function with 1 method)"
     },
     "metadata": {},
     "execution_count": 5
    }
   ],
   "cell_type": "code",
   "source": [
    "function step!(𝐼::Individuals)\n",
    "    t_ϵ=𝐼.𝑃.𝑇[2]+eps(𝐼.𝑃.𝑇[2])\n",
    "    𝐼.𝑃.🔄(𝐼.𝑃,t_ϵ)\n",
    "    reset_lonlat!(𝐼)\n",
    "    𝑇=Tuple(𝐼.𝑃.𝑇)\n",
    "    ∫!(𝐼,𝑇)\n",
    "end"
   ],
   "metadata": {},
   "execution_count": 5
  },
  {
   "cell_type": "markdown",
   "source": [
    "## 3.3 Iterate For `ny*12` Months"
   ],
   "metadata": {
    "cell_type": "markdown",
    "slideshow": {
     "slide_type": "slide"
    }
   }
  },
  {
   "outputs": [
    {
     "output_type": "execute_result",
     "data": {
      "text/plain": "2×12 Array{Array{Float64,2},2}:\n [39.0522 78.1224 … 117.635 88.7277; 116.961 153.814 … 89.3607 64.5897; 1.0 1.0 … 4.0 4.0]  …  [21.6828 39.8379 … 134.27 70.7053; 54.1505 139.021 … 71.7821 44.068; 1.0 2.0 … 4.0 4.0]\n [40.7822 79.1777 … 119.372 87.3524; 118.113 157.702 … 86.5584 60.6543; 1.0 1.0 … 4.0 4.0]     [21.1204 39.4758 … 135.082 71.3093; 54.0222 137.503 … 72.7073 45.3715; 1.0 2.0 … 4.0 4.0]"
     },
     "metadata": {},
     "execution_count": 6
    }
   ],
   "cell_type": "code",
   "source": [
    "[step!(𝐼) for y=1:2, m=1:12]"
   ],
   "metadata": {},
   "execution_count": 6
  },
  {
   "cell_type": "markdown",
   "source": [
    "## 3.4 Compute summary statistics\n",
    "\n",
    "See [DataFrames.jl](https://juliadata.github.io/DataFrames.jl/latest/) documentation for detail and additinal functionalities."
   ],
   "metadata": {
    "cell_type": "markdown",
    "slideshow": {
     "slide_type": "slide"
    }
   }
  },
  {
   "outputs": [
    {
     "output_type": "execute_result",
     "data": {
      "text/plain": "4×3 DataFrame\n│ Row │ ID      │ nrow  │ lat_mean │\n│     │ \u001b[90mFloat64\u001b[39m │ \u001b[90mInt64\u001b[39m │ \u001b[90mFloat64\u001b[39m  │\n├─────┼─────────┼───────┼──────────┤\n│ 1   │ 1165.0  │ 248   │ 30.8222  │\n│ 2   │ 1004.0  │ 744   │ 55.1019  │\n│ 3   │ 10.0    │ 761   │ 19.6899  │\n│ 4   │ 373.0   │ 761   │ 24.4126  │",
      "text/html": [
       "<table class=\"data-frame\"><thead><tr><th></th><th>ID</th><th>nrow</th><th>lat_mean</th></tr><tr><th></th><th>Float64</th><th>Int64</th><th>Float64</th></tr></thead><tbody><p>4 rows × 3 columns</p><tr><th>1</th><td>1165.0</td><td>248</td><td>30.8222</td></tr><tr><th>2</th><td>1004.0</td><td>744</td><td>55.1019</td></tr><tr><th>3</th><td>10.0</td><td>761</td><td>19.6899</td></tr><tr><th>4</th><td>373.0</td><td>761</td><td>24.4126</td></tr></tbody></table>"
      ]
     },
     "metadata": {},
     "execution_count": 7
    }
   ],
   "cell_type": "code",
   "source": [
    "gdf = groupby(𝐼.🔴, :ID)\n",
    "sgdf= combine(gdf,nrow,:lat => mean)\n",
    "sgdf[rand(1:size(sgdf,1),4),:]"
   ],
   "metadata": {},
   "execution_count": 7
  },
  {
   "cell_type": "markdown",
   "source": [
    "## 4. Plot trajectories / individual positions\n",
    "\n",
    "```\n",
    "using Plots\n",
    "p=plot(;xlims=(-180,180),ylims=(-90,90),legend=:none)\n",
    "p!(x,y)=scatter!(p,x,y,markersize=1.1,markerstrokewidth=0)\n",
    "[p!(gdf[i].lon,gdf[i].lat) for i in rand(collect(1:length(gdf)),10)]\n",
    "display(p)\n",
    "```"
   ],
   "metadata": {
    "cell_type": "markdown",
    "slideshow": {
     "slide_type": "slide"
    }
   }
  },
  {
   "cell_type": "markdown",
   "source": [
    "Or select a background map (e.g. `lon`, `lat`, and `DL=log10(bottom depth)`)\n",
    "and a recipe to superimpose initial and final locations. Try:"
   ],
   "metadata": {
    "cell_type": "markdown",
    "slideshow": {
     "slide_type": "subslide"
    }
   }
  },
  {
   "outputs": [],
   "cell_type": "code",
   "source": [
    "#```\n",
    "#include(joinpath(dirname(pathof(IndividualDisplacements)),\"../examples/recipes_plots.jl\"))\n",
    "#plot_end_points(𝐼,𝐼.𝑃.Γ)\n",
    "#```"
   ],
   "metadata": {},
   "execution_count": 8
  },
  {
   "cell_type": "markdown",
   "source": [
    "---\n",
    "\n",
    "*This notebook was generated using [Literate.jl](https://github.com/fredrikekre/Literate.jl).*"
   ],
   "metadata": {}
  }
 ],
 "nbformat_minor": 3,
 "metadata": {
  "language_info": {
   "file_extension": ".jl",
   "mimetype": "application/julia",
   "name": "julia",
   "version": "1.5.2"
  },
  "kernelspec": {
   "name": "julia-1.5",
   "display_name": "Julia 1.5.2",
   "language": "julia"
  }
 },
 "nbformat": 4
}
