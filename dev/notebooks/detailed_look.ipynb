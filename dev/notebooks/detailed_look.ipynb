{
 "cells": [
  {
   "cell_type": "markdown",
   "source": [
    "# Detailed Look\n",
    "\n",
    "\n",
    "A more detailed look at spatial interpolation, integration through time, and I/O.\n",
    "For additional documentation e.g. see\n",
    "[1](https://JuliaClimate.github.io/IndividualDisplacements.jl/dev/),\n",
    "[2](https://JuliaClimate.github.io/MeshArrays.jl/dev/),\n",
    "[3](https://docs.juliadiffeq.org/latest/solvers/ode_solve.html),\n",
    "[4](https://en.wikipedia.org/wiki/Displacement_(vector)).\n",
    "Here we illustrate a few things in more detail:\n",
    "\n",
    "- reading velocities from file.\n",
    "  - gridded velocity output (U*data, V*data)\n",
    "  - pre-computed trajectory output (`float_traj*data`)\n",
    "- interpolating `U,V` from gridded output to individual locations\n",
    "  - compared with `u,v` from `float_traj*data`\n",
    "- computing trajectories (location v time) using `OrdinaryDiffEq.jl`\n",
    "  - compared with `x(t),y(t)` from `float_traj*data`"
   ],
   "metadata": {}
  },
  {
   "cell_type": "markdown",
   "source": [
    "## 1. Import Software"
   ],
   "metadata": {}
  },
  {
   "outputs": [],
   "cell_type": "code",
   "source": [
    "using IndividualDisplacements, OrdinaryDiffEq, DataFrames, MITgcmTools\n",
    "p=dirname(pathof(IndividualDisplacements))\n",
    "include(joinpath(p,\"../examples/recipes_plots.jl\"))\n",
    "include(joinpath(p,\"../examples/example123.jl\"))\n",
    "include(joinpath(p,\"../examples/helper_functions.jl\"));"
   ],
   "metadata": {},
   "execution_count": 1
  },
  {
   "cell_type": "markdown",
   "source": [
    "## 2. Read Trajectory Output\n",
    "\n",
    "from `MITgcm/pkg/flt`"
   ],
   "metadata": {}
  },
  {
   "outputs": [],
   "cell_type": "code",
   "source": [
    "dirIn=IndividualDisplacements.flt_example\n",
    "prec=Float32\n",
    "df=read_flt(dirIn,prec);"
   ],
   "metadata": {},
   "execution_count": 2
  },
  {
   "cell_type": "markdown",
   "source": [
    "## 3. Read Gridded Variables\n",
    "\n",
    "using `MeshArrays.jl` and e.g. a NamedTyple"
   ],
   "metadata": {}
  },
  {
   "outputs": [],
   "cell_type": "code",
   "source": [
    "𝑃,Γ=example2_setup();"
   ],
   "metadata": {},
   "execution_count": 3
  },
  {
   "cell_type": "markdown",
   "source": [
    "## 4. Visualize Velocity Fields\n",
    "\n",
    "```\n",
    "plt=heatmap(Γ.mskW[1,1].*𝑃.u0,title=\"U at the start\")\n",
    "plt=heatmap(Γ.mskW[1,1].*𝑃.u1-𝑃.u0,title=\"U end - U start\")\n",
    "```"
   ],
   "metadata": {}
  },
  {
   "cell_type": "markdown",
   "source": [
    "## 5. Visualize Trajectories\n",
    "\n",
    "(select one trajectory)"
   ],
   "metadata": {}
  },
  {
   "outputs": [
    {
     "output_type": "execute_result",
     "data": {
      "text/plain": "\u001b[1m4×14 DataFrame\u001b[0m\n\u001b[1m Row \u001b[0m│\u001b[1m ID    \u001b[0m\u001b[1m time  \u001b[0m\u001b[1m lon            \u001b[0m\u001b[1m lat     \u001b[0m\u001b[1m dep      \u001b[0m\u001b[1m i       \u001b[0m\u001b[1m j       \u001b[0m\u001b[1m k   \u001b[0m ⋯\n\u001b[1m     \u001b[0m│\u001b[90m Int64 \u001b[0m\u001b[90m Int64 \u001b[0m\u001b[90m Float32        \u001b[0m\u001b[90m Float32 \u001b[0m\u001b[90m Float32  \u001b[0m\u001b[90m Float32 \u001b[0m\u001b[90m Float32 \u001b[0m\u001b[90m Floa\u001b[0m ⋯\n─────┼──────────────────────────────────────────────────────────────────────────\n   1 │   200   3600  187630.0        21119.0  -1406.25  38.026   4.72379       ⋯\n   2 │   200   7200       1.87491e5  21155.8  -1406.25  37.9982  4.73115\n   3 │   200  10800       1.87351e5  21193.1  -1406.25  37.9702  4.73861\n   4 │   200  14400       1.87211e5  21230.9  -1406.25  37.9422  4.74619\n\u001b[36m                                                               7 columns omitted\u001b[0m",
      "text/html": [
       "<table class=\"data-frame\"><thead><tr><th></th><th>ID</th><th>time</th><th>lon</th><th>lat</th><th>dep</th><th>i</th><th>j</th><th>k</th><th>etaN</th></tr><tr><th></th><th>Int64</th><th>Int64</th><th>Float32</th><th>Float32</th><th>Float32</th><th>Float32</th><th>Float32</th><th>Float32</th><th>Float32</th></tr></thead><tbody><p>4 rows × 14 columns (omitted printing of 5 columns)</p><tr><th>1</th><td>200</td><td>3600</td><td>187630.0</td><td>21119.0</td><td>-1406.25</td><td>38.026</td><td>4.72379</td><td>3.0</td><td>0.114312</td></tr><tr><th>2</th><td>200</td><td>7200</td><td>1.87491e5</td><td>21155.8</td><td>-1406.25</td><td>37.9982</td><td>4.73115</td><td>3.0</td><td>0.114318</td></tr><tr><th>3</th><td>200</td><td>10800</td><td>1.87351e5</td><td>21193.1</td><td>-1406.25</td><td>37.9702</td><td>4.73861</td><td>3.0</td><td>0.114313</td></tr><tr><th>4</th><td>200</td><td>14400</td><td>1.87211e5</td><td>21230.9</td><td>-1406.25</td><td>37.9422</td><td>4.74619</td><td>3.0</td><td>0.11431</td></tr></tbody></table>"
      ]
     },
     "metadata": {},
     "execution_count": 4
    }
   ],
   "cell_type": "code",
   "source": [
    "tmp=df[df.ID .== 200, :]\n",
    "tmp[1:4,:]"
   ],
   "metadata": {},
   "execution_count": 4
  },
  {
   "cell_type": "markdown",
   "source": [
    "Super-impose trajectory over velocity field (first for u ...)"
   ],
   "metadata": {}
  },
  {
   "outputs": [],
   "cell_type": "code",
   "source": [
    "x=Γ.XG.f[1][:,1]\n",
    "y=Γ.YC.f[1][1,:]\n",
    "z=transpose(Γ.mskW[1].*𝑃.u0);"
   ],
   "metadata": {},
   "execution_count": 5
  },
  {
   "cell_type": "markdown",
   "source": [
    "plt=contourf(x,y,z,c=:delta)\n",
    "plot!(tmp[:,:lon],tmp[:,:lat],c=:red,w=4,leg=false)"
   ],
   "metadata": {}
  },
  {
   "cell_type": "markdown",
   "source": [
    "Super-impose trajectory over velocity field (... then for v)"
   ],
   "metadata": {}
  },
  {
   "outputs": [],
   "cell_type": "code",
   "source": [
    "x=Γ.XC.f[1][:,1]\n",
    "y=Γ.YG.f[1][1,:]\n",
    "z=transpose(Γ.mskW[1].*𝑃.v0);"
   ],
   "metadata": {},
   "execution_count": 6
  },
  {
   "cell_type": "markdown",
   "source": [
    "plt=contourf(x,y,z,c=:delta)\n",
    "plot!(tmp[:,:lon],tmp[:,:lat],c=:red,w=4,leg=false)"
   ],
   "metadata": {}
  },
  {
   "cell_type": "markdown",
   "source": [
    "## 6. Interpolate Velocities"
   ],
   "metadata": {}
  },
  {
   "outputs": [],
   "cell_type": "code",
   "source": [
    "dx=Γ.dx\n",
    "uInit=[tmp[1,:lon];tmp[1,:lat]]./dx\n",
    "nSteps=Int32(tmp[end,:time]/3600)-2\n",
    "du=fill(0.0,2);"
   ],
   "metadata": {},
   "execution_count": 7
  },
  {
   "cell_type": "markdown",
   "source": [
    "Visualize and compare with actual grid point values -- jumps on the tangential component are expected with linear scheme:"
   ],
   "metadata": {}
  },
  {
   "outputs": [],
   "cell_type": "code",
   "source": [
    "tmpu=fill(0.0,100)\n",
    "tmpv=fill(0.0,100)\n",
    "tmpx=fill(0.0,100)\n",
    "for i=1:100\n",
    "    tmpx[i]=500.0 *i./dx\n",
    "    dxdt!(du,[tmpx[i];0.499./dx],𝑃,0.0)\n",
    "    tmpu[i]=du[1]\n",
    "    tmpv[i]=du[2]\n",
    "end"
   ],
   "metadata": {},
   "execution_count": 8
  },
  {
   "cell_type": "markdown",
   "source": [
    "And similarly in the other direction"
   ],
   "metadata": {}
  },
  {
   "outputs": [],
   "cell_type": "code",
   "source": [
    "tmpu=fill(0.0,100)\n",
    "tmpv=fill(0.0,100)\n",
    "tmpy=fill(0.0,100)\n",
    "for i=1:100\n",
    "    tmpy[i]=500.0 *i./dx\n",
    "    dxdt!(du,[0.499./dx;tmpy[i]],𝑃,0.0)\n",
    "    tmpu[i]=du[1]\n",
    "    tmpv[i]=du[2]\n",
    "end"
   ],
   "metadata": {},
   "execution_count": 9
  },
  {
   "cell_type": "markdown",
   "source": [
    "plt=plot(tmpx,tmpu,label=\"u (interp)\")\n",
    "plot!(Γ.YG.f[1][1,1:10]./dx,𝑃.u0[1,1:10],marker=:o,label=\"u (C-grid)\")\n",
    "plot!(tmpx,tmpv,label=\"v (interp)\")\n",
    "plot!(Γ.YG.f[1][1,1:10]./dx,𝑃.v0[1,1:10],marker=:o,label=\"v (C-grid)\")"
   ],
   "metadata": {}
  },
  {
   "cell_type": "markdown",
   "source": [
    "Compare recomputed velocities with those from `pkg/flt`"
   ],
   "metadata": {}
  },
  {
   "outputs": [],
   "cell_type": "code",
   "source": [
    "nSteps=2998\n",
    "tmpu=fill(0.0,nSteps); tmpv=fill(0.0,nSteps);\n",
    "tmpx=fill(0.0,nSteps); tmpy=fill(0.0,nSteps);\n",
    "refu=fill(0.0,nSteps); refv=fill(0.0,nSteps);\n",
    "for i=1:nSteps\n",
    "    dxy_dt_replay(du,[tmp[i,:lon],tmp[i,:lat]],tmp,tmp[i,:time])\n",
    "    refu[i]=du[1]./dx\n",
    "    refv[i]=du[2]./dx\n",
    "    dxdt!(du,[tmp[i,:lon],tmp[i,:lat]]./dx,𝑃,Float64(tmp[i,:time]))\n",
    "    tmpu[i]=du[1]\n",
    "    tmpv[i]=du[2]\n",
    "end"
   ],
   "metadata": {},
   "execution_count": 10
  },
  {
   "cell_type": "markdown",
   "source": [
    "plt=plot(tmpu,label=\"u\")\n",
    "plot!(tmpv,label=\"v\")\n",
    "plot!(refu,label=\"u (ref)\")\n",
    "plot!(refv,label=\"v (ref)\")"
   ],
   "metadata": {}
  },
  {
   "cell_type": "markdown",
   "source": [
    "## 6. Compute Trajectories\n",
    "\n",
    "Solve through time using `OrdinaryDiffEq.jl` with\n",
    "\n",
    "- `dxdt!` is the function computing `d(position)/dt`\n",
    "- `uInit` is the initial condition `u @ tspan[1]`\n",
    "- `tspan` is the time interval\n",
    "- `𝑃` are parameters for `dxdt!`\n",
    "- `Tsit5` is the time-stepping scheme\n",
    "- `reltol` and `abstol` are tolerance parameters"
   ],
   "metadata": {}
  },
  {
   "outputs": [
    {
     "output_type": "execute_result",
     "data": {
      "text/plain": "retcode: Success\nInterpolation: specialized 4th order \"free\" interpolation\nt: 4-element Vector{Float64}:\n  0.0\n  0.20078189209481534\n  2.2086008130429686\n 22.2867900225245\nu: 4-element Vector{Vector{Float64}}:\n [37.525990625, 4.22379453125]\n [37.52598925375626, 4.223794946058778]\n [37.52597554129228, 4.223799094139329]\n [37.5258384139952, 4.223840574222589]"
     },
     "metadata": {},
     "execution_count": 11
    }
   ],
   "cell_type": "code",
   "source": [
    "tspan = (0.0,nSteps*3600.0)\n",
    "#prob = ODEProblem(dxy_dt_replay,uInit,tspan,tmp)\n",
    "prob = ODEProblem(dxdt!,uInit,tspan,𝑃)\n",
    "sol = solve(prob,Tsit5(),reltol=1e-8,abstol=1e-8)\n",
    "sol[1:4]"
   ],
   "metadata": {},
   "execution_count": 11
  },
  {
   "cell_type": "markdown",
   "source": [
    "Compare recomputed trajectories with originals from `MITgcm/pkg/flt`"
   ],
   "metadata": {}
  },
  {
   "outputs": [],
   "cell_type": "code",
   "source": [
    "ref=transpose([tmp[1:nSteps,:lon] tmp[1:nSteps,:lat]])\n",
    "maxLon=80*5.e3\n",
    "maxLat=42*5.e3\n",
    "#show(size(ref))\n",
    "for i=1:nSteps-1\n",
    "    ref[1,i+1]-ref[1,i]>maxLon/2 ? ref[1,i+1:end]-=fill(maxLon,(nSteps-i)) : nothing\n",
    "    ref[1,i+1]-ref[1,i]<-maxLon/2 ? ref[1,i+1:end]+=fill(maxLon,(nSteps-i)) : nothing\n",
    "    ref[2,i+1]-ref[2,i]>maxLat/2 ? ref[2,i+1:end]-=fill(maxLat,(nSteps-i)) : nothing\n",
    "    ref[2,i+1]-ref[2,i]<-maxLat/2 ? ref[2,i+1:end]+=fill(maxLat,(nSteps-i)) : nothing\n",
    "end\n",
    "ref=ref./dx;"
   ],
   "metadata": {},
   "execution_count": 12
  },
  {
   "cell_type": "markdown",
   "source": [
    "---\n",
    "\n",
    "*This notebook was generated using [Literate.jl](https://github.com/fredrikekre/Literate.jl).*"
   ],
   "metadata": {}
  }
 ],
 "nbformat_minor": 3,
 "metadata": {
  "language_info": {
   "file_extension": ".jl",
   "mimetype": "application/julia",
   "name": "julia",
   "version": "1.6.1"
  },
  "kernelspec": {
   "name": "julia-1.6",
   "display_name": "Julia 1.6.1",
   "language": "julia"
  }
 },
 "nbformat": 4
}
