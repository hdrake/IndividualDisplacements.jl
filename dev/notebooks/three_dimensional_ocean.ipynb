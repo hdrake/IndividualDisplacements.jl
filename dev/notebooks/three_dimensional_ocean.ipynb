{
 "cells": [
  {
   "cell_type": "markdown",
   "source": [
    "# Three Dimensions\n",
    "\n",
    "\n",
    "Advect particles with climatological mean flow in three dimensions starting from a selected depth level\n",
    "(e.g. `k=10` for 95 m) and region using a near-global ocean state estimate ([OCCA](https://doi.org/10.1175/2009JPO4043.1)\n",
    "which is here repeated for two years. For additional documentation e.g. see :\n",
    "[1](https://JuliaClimate.github.io/MeshArrays.jl/dev/),\n",
    "[2](https://JuliaClimate.github.io/IndividualDisplacements.jl/dev/),\n",
    "[3](https://docs.juliadiffeq.org/latest/solvers/ode_solve.html),\n",
    "[4](https://en.wikipedia.org/wiki/Displacement_(vector))\n",
    "\n",
    "![Three dimensional simulation](https://user-images.githubusercontent.com/20276764/94491485-595ee900-01b6-11eb-95e6-c2cacb812f46.png)"
   ],
   "metadata": {}
  },
  {
   "cell_type": "markdown",
   "source": [
    "## 1. Load Software"
   ],
   "metadata": {
    "cell_type": "markdown",
    "slideshow": {
     "slide_type": "subslide"
    }
   }
  },
  {
   "outputs": [],
   "cell_type": "code",
   "source": [
    "using IndividualDisplacements, DataFrames\n",
    "\n",
    "p=dirname(pathof(IndividualDisplacements))\n",
    "include(joinpath(p,\"../examples/helper_functions.jl\"))\n",
    "IndividualDisplacements.get_occa_velocity_if_needed();"
   ],
   "metadata": {},
   "execution_count": 1
  },
  {
   "cell_type": "markdown",
   "source": [
    "## 2.1 Ocean Circulation Setup"
   ],
   "metadata": {
    "cell_type": "markdown",
    "slideshow": {
     "slide_type": "subslide"
    }
   }
  },
  {
   "outputs": [],
   "cell_type": "code",
   "source": [
    "𝑃,𝐷,Γ=OCCA_FlowFields(backward_in_time=false);"
   ],
   "metadata": {},
   "execution_count": 2
  },
  {
   "cell_type": "markdown",
   "source": [
    "## 2.2 Post-Processor Setup"
   ],
   "metadata": {
    "cell_type": "markdown",
    "slideshow": {
     "slide_type": "subslide"
    }
   }
  },
  {
   "outputs": [
    {
     "output_type": "execute_result",
     "data": {
      "text/plain": "🔧 (generic function with 1 method)"
     },
     "metadata": {},
     "execution_count": 3
    }
   ],
   "cell_type": "code",
   "source": [
    "tr = DataFrame(ID=Int[], fid=Int[], x=Float64[], y=Float64[],\n",
    "               k=Float64[], z=Float64[], iso=Float64[], t=Float64[],\n",
    "               lon=Float64[], lat=Float64[], year=Float64[], col=Symbol[])\n",
    "\n",
    "function 🔧(sol,𝑃::𝐹_MeshArray3D;id=missing,𝑇=missing)\n",
    "   df=postprocess_MeshArray(sol,𝑃,id=id,𝑇=𝑇)\n",
    "   add_lonlat!(df,𝐷.XC,𝐷.YC)\n",
    "\n",
    "   #add year (convenience time axis for plotting)\n",
    "   df.year=df.t ./86400/365\n",
    "\n",
    "   #add depth (i.e. the 3rd, vertical, coordinate)\n",
    "   k=[sol[1,i,j][3] for i in 1:size(sol,2), j in 1:size(sol,3)]\n",
    "   nz=length(𝐼.𝑃.u1)\n",
    "   df.k=min.(max.(k[:],Ref(0.0)),Ref(nz)) #level\n",
    "   k=Int.(floor.(df.k)); w=(df.k-k);\n",
    "   df.z=𝐷.RF[1 .+ k].*(1 .- w)+𝐷.RF[2 .+ k].*w #depth\n",
    "\n",
    "   #add one isotherm depth\n",
    "   θ=0.5*(𝐷.θ0+𝐷.θ1)\n",
    "   d=isosurface(θ,15,𝐷.RC)\n",
    "   d[findall(isnan.(d))].=0.\n",
    "   df.iso=interp_to_xy(df,exchange(d));\n",
    "\n",
    "   #add color = f(iso-z)\n",
    "   c=fill(:gold,length(df.iso))\n",
    "   c[findall(df.iso.<df.z)].=:violet\n",
    "   df.col=c\n",
    "\n",
    "   #to plot e.g. Pacific Ocean transports, shift longitude convention?\n",
    "   df.lon[findall(df.lon .< 0.0 )] = df.lon[findall(df.lon .< 0.0 )] .+360.0\n",
    "   return df\n",
    "end"
   ],
   "metadata": {},
   "execution_count": 3
  },
  {
   "cell_type": "markdown",
   "source": [
    "## 2.3 Initialize Individual Positions"
   ],
   "metadata": {
    "cell_type": "markdown",
    "slideshow": {
     "slide_type": "subslide"
    }
   }
  },
  {
   "outputs": [
    {
     "output_type": "execute_result",
     "data": {
      "text/plain": "Main.##273.initial_positions"
     },
     "metadata": {},
     "execution_count": 4
    }
   ],
   "cell_type": "code",
   "source": [
    "\"\"\"\n",
    "    initial_positions(Γ; nf=10000, lon_rng=(-160.0,-159.0), lat_rng=(30.0,31.0))\n",
    "\n",
    "Randomly assign initial positions in longitude,latitude ranges. Positions are\n",
    "expressed in, normalized, grid point units (x,y in the 0,nx and 0,ny range).\n",
    "To convert from longitude,latitude here we take advantage of the regularity\n",
    "of the 1 degree grid being used -- for a more general alternative, see\n",
    "`initialize_lonlat()`.\n",
    "\"\"\"\n",
    "function initial_positions(Γ; nf=10000, lon_rng=(-160.0,-159.0), lat_rng=(30.0,31.0))\n",
    "\n",
    "   lo0,lo1=lon_rng\n",
    "   la0,la1=lat_rng\n",
    "\n",
    "   lon=lo0 .+(lo1-lo0).*rand(nf)\n",
    "   lat=la0 .+(la1-la0).*rand(nf)\n",
    "   x=lon .+ (21. - Γ[\"XC\"][1][21,1])\n",
    "   y=lat .+ (111. - Γ[\"YC\"][1][1,111])\n",
    "\n",
    "   return x,y\n",
    "end"
   ],
   "metadata": {},
   "execution_count": 4
  },
  {
   "cell_type": "markdown",
   "source": [
    "## 2.4 Individuals data structure"
   ],
   "metadata": {}
  },
  {
   "outputs": [
    {
     "output_type": "execute_result",
     "data": {
      "text/plain": "\u001b[0m  📌 details     = \u001b[34m(1, 100) Array{Float32,1}\u001b[39m\n\u001b[0m  🔴 details     = \u001b[34m(0, 12) [\"ID\", \"fid\", \"x\", \"y\", \"k\", \"z\", \"iso\", \"t\", \"lon\", \"lat\", \"year\", \"col\"]\u001b[39m\n\u001b[0m  🆔 range       = \u001b[34m(1, 100)\u001b[39m\n\u001b[0m  🚄 function    = \u001b[34mdxyz_dt!\u001b[39m\n\u001b[0m  ∫  function    = \u001b[34mdefault_solver\u001b[39m\n\u001b[0m  🔧 function    = \u001b[34m🔧\u001b[39m\n\u001b[0m  𝑃  details     = \u001b[34m(:u0, :u1, :v0, :v1, :w0, :w1, :𝑇, :update_location!)\u001b[39m\n"
     },
     "metadata": {},
     "execution_count": 5
    }
   ],
   "cell_type": "code",
   "source": [
    "\"\"\"\n",
    "    set_up_individuals(𝑃,Γ,🔧; nf=10000, z_init=4.5, lon_rng=(-160.0,-159.0), lat_rng=(30.0,31.0))\n",
    "\n",
    "Set up `Individuals` data structure with `nf` particles moving\n",
    "on a regular 1 degree resolution grid covering most of the Globe.\n",
    "\"\"\"\n",
    "\n",
    "function set_up_individuals(𝑃,Γ,🔧; nf=10000,\n",
    "   z_init=2.5, lon_rng=(-160.0,-159.0), lat_rng=(30.0,31.0))\n",
    "\n",
    "   (x,y)=initial_positions(Γ; nf, lon_rng, lat_rng)\n",
    "   xy = permutedims([Float32.([x[i];y[i];z_init;1.0]) for i in eachindex(x)])\n",
    "   I=(position=xy,record=deepcopy(tr),velocity=dxyz_dt!,postprocessing=🔧,parameters=𝑃)\n",
    "   𝐼=Individuals(I)\n",
    "   return 𝐼\n",
    "end\n",
    "\n",
    "set_up_individuals(𝐼::Individuals; nf=10000) = set_up_individuals(𝑃,Γ,🔧; nf=nf)\n",
    "\n",
    "𝐼=set_up_individuals(𝑃,Γ,🔧,nf=100)"
   ],
   "metadata": {},
   "execution_count": 5
  },
  {
   "cell_type": "markdown",
   "source": [
    "## 3.1 Compute Displacements"
   ],
   "metadata": {
    "cell_type": "markdown",
    "slideshow": {
     "slide_type": "subslide"
    }
   }
  },
  {
   "outputs": [
    {
     "output_type": "execute_result",
     "data": {
      "text/plain": "1×100 Array{Array{Float32,1},2}:\n [21.0578, 111.437, 2.60962, 1.0]  …  [21.2841, 110.987, 2.55983, 1.0]"
     },
     "metadata": {},
     "execution_count": 6
    }
   ],
   "cell_type": "code",
   "source": [
    "𝑇=(0.0,10*86400.0)\n",
    "\n",
    "∫!(𝐼,𝑇)"
   ],
   "metadata": {},
   "execution_count": 6
  },
  {
   "cell_type": "markdown",
   "source": [
    "## 3.2 Analyze Results\n",
    "\n",
    "The recorded simulation output, 🔴, is a in the [DataFrames](https://juliadata.github.io/DataFrames.jl/latest/) tabular format, which is easily manipulated or plotted."
   ],
   "metadata": {
    "cell_type": "markdown",
    "slideshow": {
     "slide_type": "subslide"
    }
   }
  },
  {
   "cell_type": "markdown",
   "source": [
    "- either `Plots.jl`:\n",
    "\n",
    "```\n",
    "include(joinpath(p,\"../examples/recipes_plots.jl\"))\n",
    "p=plot(𝐼)\n",
    "#p=map(𝐼,OceanDepthLog(Γ))\n",
    "display(p)\n",
    "```"
   ],
   "metadata": {}
  },
  {
   "cell_type": "markdown",
   "source": [
    "- or `Makie.jl`:\n",
    "\n",
    "```\n",
    "include(joinpath(p,\"../examples/recipes_Makie.jl\"))\n",
    "p=PlotMakie(𝐼.🔴,100,180.);\n",
    "display(p)\n",
    "```"
   ],
   "metadata": {}
  },
  {
   "cell_type": "markdown",
   "source": [
    "## 3.3 Alternatives (optional / unit testing)"
   ],
   "metadata": {}
  },
  {
   "outputs": [
    {
     "output_type": "execute_result",
     "data": {
      "text/plain": "\u001b[1m100×6 DataFrame\u001b[0m\n\u001b[1m Row \u001b[0m│\u001b[1m ID    \u001b[0m\u001b[1m lo1     \u001b[0m\u001b[1m lo2     \u001b[0m\u001b[1m la1     \u001b[0m\u001b[1m la2     \u001b[0m\u001b[1m gcd        \u001b[0m\n\u001b[1m     \u001b[0m│\u001b[90m Int64 \u001b[0m\u001b[90m Float64 \u001b[0m\u001b[90m Float64 \u001b[0m\u001b[90m Float64 \u001b[0m\u001b[90m Float64 \u001b[0m\u001b[90m Float64    \u001b[0m\n─────┼───────────────────────────────────────────────────────\n   1 │     1  200.889  201.058  31.4761  31.438   0.00259608\n   2 │     2  200.96   201.099  30.5496  30.5497  0.00210358\n   3 │     3  200.706  200.87   31.0601  31.025   0.00253184\n   4 │     4  201.329  201.475  30.5483  30.553   0.00219704\n   5 │     5  201.407  201.59   31.1208  31.1096  0.00274048\n   6 │     6  200.76   200.898  30.783   30.7536  0.00212193\n   7 │     7  200.597  200.732  30.5058  30.4813  0.00208002\n   8 │     8  201.439  201.587  30.9291  30.9247  0.00221614\n  ⋮  │   ⋮       ⋮        ⋮        ⋮        ⋮         ⋮\n  94 │    94  201.024  201.196  31.071   31.0625  0.00257744\n  95 │    95  201.321  201.467  30.6354  30.638   0.00219223\n  96 │    96  200.517  200.677  31.196   31.1563  0.0024891\n  97 │    97  200.79   200.927  30.9253  30.8935  0.0021346\n  98 │    98  200.976  201.147  31.2017  31.1876  0.00256249\n  99 │    99  201.29   201.47   31.0535  31.0453  0.00269011\n 100 │   100  201.141  201.284  30.9927  30.9872  0.00214062\n\u001b[36m                                              85 rows omitted\u001b[0m",
      "text/html": [
       "<table class=\"data-frame\"><thead><tr><th></th><th>ID</th><th>lo1</th><th>lo2</th><th>la1</th><th>la2</th><th>gcd</th></tr><tr><th></th><th>Int64</th><th>Float64</th><th>Float64</th><th>Float64</th><th>Float64</th><th>Float64</th></tr></thead><tbody><p>100 rows × 6 columns</p><tr><th>1</th><td>1</td><td>200.889</td><td>201.058</td><td>31.4761</td><td>31.438</td><td>0.00259608</td></tr><tr><th>2</th><td>2</td><td>200.96</td><td>201.099</td><td>30.5496</td><td>30.5497</td><td>0.00210358</td></tr><tr><th>3</th><td>3</td><td>200.706</td><td>200.87</td><td>31.0601</td><td>31.025</td><td>0.00253184</td></tr><tr><th>4</th><td>4</td><td>201.329</td><td>201.475</td><td>30.5483</td><td>30.553</td><td>0.00219704</td></tr><tr><th>5</th><td>5</td><td>201.407</td><td>201.59</td><td>31.1208</td><td>31.1096</td><td>0.00274048</td></tr><tr><th>6</th><td>6</td><td>200.76</td><td>200.898</td><td>30.783</td><td>30.7536</td><td>0.00212193</td></tr><tr><th>7</th><td>7</td><td>200.597</td><td>200.732</td><td>30.5058</td><td>30.4813</td><td>0.00208002</td></tr><tr><th>8</th><td>8</td><td>201.439</td><td>201.587</td><td>30.9291</td><td>30.9247</td><td>0.00221614</td></tr><tr><th>9</th><td>9</td><td>201.105</td><td>201.28</td><td>31.3668</td><td>31.3456</td><td>0.00262624</td></tr><tr><th>10</th><td>10</td><td>200.752</td><td>200.889</td><td>30.7145</td><td>30.6863</td><td>0.00211714</td></tr><tr><th>11</th><td>11</td><td>201.411</td><td>201.594</td><td>31.3976</td><td>31.3746</td><td>0.00275725</td></tr><tr><th>12</th><td>12</td><td>201.341</td><td>201.522</td><td>31.4826</td><td>31.456</td><td>0.00273561</td></tr><tr><th>13</th><td>13</td><td>201.385</td><td>201.567</td><td>31.1965</td><td>31.1821</td><td>0.00273405</td></tr><tr><th>14</th><td>14</td><td>201.455</td><td>201.603</td><td>30.9011</td><td>30.8974</td><td>0.00222031</td></tr><tr><th>15</th><td>15</td><td>200.723</td><td>200.86</td><td>30.5466</td><td>30.5213</td><td>0.00210438</td></tr><tr><th>16</th><td>16</td><td>200.853</td><td>200.991</td><td>30.5508</td><td>30.5252</td><td>0.00212808</td></tr><tr><th>17</th><td>17</td><td>200.966</td><td>201.137</td><td>31.0227</td><td>31.0147</td><td>0.00255544</td></tr><tr><th>18</th><td>18</td><td>201.2</td><td>201.377</td><td>31.1738</td><td>31.1606</td><td>0.00265489</td></tr><tr><th>19</th><td>19</td><td>200.61</td><td>200.745</td><td>30.9647</td><td>30.9324</td><td>0.00210475</td></tr><tr><th>20</th><td>20</td><td>201.498</td><td>201.684</td><td>31.3827</td><td>31.3602</td><td>0.00279264</td></tr><tr><th>21</th><td>21</td><td>200.969</td><td>201.109</td><td>30.9545</td><td>30.9478</td><td>0.00210059</td></tr><tr><th>22</th><td>22</td><td>200.764</td><td>200.902</td><td>30.6791</td><td>30.6515</td><td>0.00211779</td></tr><tr><th>23</th><td>23</td><td>201.097</td><td>201.239</td><td>30.7521</td><td>30.7523</td><td>0.0021326</td></tr><tr><th>24</th><td>24</td><td>200.969</td><td>201.139</td><td>31.4866</td><td>31.4597</td><td>0.00258319</td></tr><tr><th>&vellip;</th><td>&vellip;</td><td>&vellip;</td><td>&vellip;</td><td>&vellip;</td><td>&vellip;</td><td>&vellip;</td></tr></tbody></table>"
      ]
     },
     "metadata": {},
     "execution_count": 7
    }
   ],
   "cell_type": "code",
   "source": [
    "(x,y,z,f)=𝐼.📌[1]\n",
    "𝐽=Individuals(𝐼.𝑃,x,y,z,f)\n",
    "diff(𝐼)\n",
    "gcdist(𝐼)"
   ],
   "metadata": {},
   "execution_count": 7
  },
  {
   "cell_type": "markdown",
   "source": [
    "---\n",
    "\n",
    "*This notebook was generated using [Literate.jl](https://github.com/fredrikekre/Literate.jl).*"
   ],
   "metadata": {}
  }
 ],
 "nbformat_minor": 3,
 "metadata": {
  "language_info": {
   "file_extension": ".jl",
   "mimetype": "application/julia",
   "name": "julia",
   "version": "1.5.3"
  },
  "kernelspec": {
   "name": "julia-1.5",
   "display_name": "Julia 1.5.3",
   "language": "julia"
  }
 },
 "nbformat": 4
}
