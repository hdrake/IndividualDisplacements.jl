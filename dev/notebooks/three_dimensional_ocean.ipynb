{
 "cells": [
  {
   "cell_type": "markdown",
   "source": [
    "# Three Dimensions\n",
    "\n",
    "\n",
    "Advect particles with climatological mean flow in three dimensions starting from a selected depth level\n",
    "(e.g. `k=10` for 95 m) and region using a near-global ocean state estimate ([OCCA](https://doi.org/10.1175/2009JPO4043.1)\n",
    "which is here repeated for two years. For additional documentation e.g. see :\n",
    "[1](https://JuliaClimate.github.io/MeshArrays.jl/dev/),\n",
    "[2](https://JuliaClimate.github.io/IndividualDisplacements.jl/dev/),\n",
    "[3](https://docs.juliadiffeq.org/latest/solvers/ode_solve.html),\n",
    "[4](https://en.wikipedia.org/wiki/Displacement_(vector))\n",
    "\n",
    "![Three dimensional simulation 1/2](https://user-images.githubusercontent.com/20276764/94491655-9cb95780-01b6-11eb-9273-173865ed6340.png)\n",
    "![Three dimensional simulation 2/2](https://user-images.githubusercontent.com/20276764/94491485-595ee900-01b6-11eb-95e6-c2cacb812f46.png)"
   ],
   "metadata": {}
  },
  {
   "cell_type": "markdown",
   "source": [
    "## 1. Load Software"
   ],
   "metadata": {
    "cell_type": "markdown",
    "slideshow": {
     "slide_type": "subslide"
    }
   }
  },
  {
   "outputs": [],
   "cell_type": "code",
   "source": [
    "using IndividualDisplacements, DataFrames, OceanStateEstimation, NetCDF\n",
    "using MeshArrays, OrdinaryDiffEq\n",
    "\n",
    "p=dirname(pathof(IndividualDisplacements))\n",
    "include(joinpath(p,\"../examples/example123.jl\"))\n",
    "include(joinpath(p,\"../examples/helper_functions.jl\"))\n",
    "IndividualDisplacements.get_occa_velocity_if_needed();"
   ],
   "metadata": {},
   "execution_count": null
  },
  {
   "cell_type": "markdown",
   "source": [
    "## 2.1 Ocean Circulation Setup"
   ],
   "metadata": {
    "cell_type": "markdown",
    "slideshow": {
     "slide_type": "subslide"
    }
   }
  },
  {
   "outputs": [],
   "cell_type": "code",
   "source": [
    "nam=\"OCCA\"\n",
    "bck=false\n",
    "\n",
    "if nam==\"OCCA\"\n",
    "   𝑃,𝐷,Γ=OCCA_setup(backward_in_time=bck)\n",
    "   🚄 =dxyz_dt!\n",
    "elseif nam==\"LL90\"\n",
    "   𝑃,𝐷,Γ=example3_setup(backward_in_time=bck)\n",
    "   🚄 =dxy_dt\n",
    "else\n",
    "   error(\"unknown example (nam parameter value)\")\n",
    "end"
   ],
   "metadata": {},
   "execution_count": null
  },
  {
   "cell_type": "markdown",
   "source": [
    "## 2.2 Solver And Analysis Setup"
   ],
   "metadata": {
    "cell_type": "markdown",
    "slideshow": {
     "slide_type": "subslide"
    }
   }
  },
  {
   "outputs": [],
   "cell_type": "code",
   "source": [
    "function my🚄(du::Array{T,2},u::Array{T,2},𝑃::𝐹_MeshArray3D,tim) where T\n",
    "   nf=size(u,2)\n",
    "   nx=360\n",
    "   ny=160\n",
    "   [u[1,i][1]=mod(u[1,i][1],nx) for i in 1:nf]\n",
    "   [u[1,i][2]=mod(u[1,i][2],ny) for i in 1:nf]\n",
    "   [dxyz_dt!(du[i],u[i],𝑃,tim) for i=1:size(u,2)]\n",
    "end\n",
    "\n",
    "function ∫(prob)\n",
    "   #sol=solve(prob,Tsit5(),reltol=1e-8,abstol=1e-8,saveat=5*86400.0)\n",
    "   sol=IndividualDisplacements.solver_default(prob)\n",
    "   #sol=solve(prob,Euler(),dt=86400.0)\n",
    "\n",
    "   nx,ny=𝑃.u0.grid.ioSize[1:2]\n",
    "   nf=size(sol,2)\n",
    "   nt=size(sol,3)\n",
    "   [sol[1,i,j][1]=mod(sol[1,i,j][1],nx) for i in 1:nf, j in 1:nt]\n",
    "   [sol[1,i,j][2]=mod(sol[1,i,j][2],ny) for i in 1:nf, j in 1:nt]\n",
    "   return sol\n",
    "end\n",
    "\n",
    "function 🔧(sol,𝑃::𝐹_MeshArray3D;id=missing,𝑇=missing)\n",
    "   df=postprocess_MeshArray(sol,𝑃,id=id,𝑇=𝑇)\n",
    "   add_lonlat!(df,𝐷.XC,𝐷.YC)\n",
    "\n",
    "   #add year (convenience time axis for plotting)\n",
    "   df.year=df.t ./86400/365\n",
    "\n",
    "   #add depth (i.e. the 3rd, vertical, coordinate)\n",
    "   k=[sol[1,i,j][3] for i in 1:size(sol,2), j in 1:size(sol,3)]\n",
    "   nz=length(𝐼.𝑃.u1)\n",
    "   df.k=min.(max.(k[:],Ref(0.0)),Ref(nz)) #level\n",
    "   k=Int.(floor.(df.k)); w=(df.k-k);\n",
    "   df.z=𝐷.RF[1 .+ k].*(1 .- w)+𝐷.RF[2 .+ k].*w #depth\n",
    "\n",
    "   #add one isotherm depth\n",
    "   θ=0.5*(𝐷.θ0+𝐷.θ1)\n",
    "   d=isosurface(θ,15,𝐷.RC)\n",
    "   d[findall(isnan.(d))].=0.\n",
    "   df.iso=interp_to_xy(df,exchange(d));\n",
    "\n",
    "   #add color = f(iso-z)\n",
    "   c=fill(:gold,length(df.iso))\n",
    "   c[findall(df.iso.<df.z)].=:violet\n",
    "   df.col=c\n",
    "\n",
    "   #to plot e.g. Pacific Ocean transports, shift longitude convention?\n",
    "   df.lon[findall(df.lon .< 0.0 )] = df.lon[findall(df.lon .< 0.0 )] .+360.0\n",
    "   return df\n",
    "end"
   ],
   "metadata": {},
   "execution_count": null
  },
  {
   "cell_type": "markdown",
   "source": [
    "## 2.3 Initialize Individuals"
   ],
   "metadata": {
    "cell_type": "markdown",
    "slideshow": {
     "slide_type": "subslide"
    }
   }
  },
  {
   "outputs": [],
   "cell_type": "code",
   "source": [
    "\"\"\"\n",
    "    set_up_individuals(𝑃,Γ,∫,🚄,🔧; nf=10000, z_init=4.5,\n",
    "               lon_rng=(-160.0,-150.0), lat_rng=(30.0,40.0))\n",
    "\n",
    "Set up `Individuals` data structure with `nf` particles moving within a near-global Ocean domain.\n",
    "\"\"\"\n",
    "function set_up_individuals(𝑃,Γ,∫,🚄,🔧; nf=10000,\n",
    "      z_init=4.5, lon_rng=(-160.0,-159.0), lat_rng=(30.0,31.0))\n",
    "\n",
    "   lo0,lo1=lon_rng\n",
    "   la0,la1=lat_rng\n",
    "\n",
    "   lon=lo0 .+(lo1-lo0).*rand(nf)\n",
    "   lat=la0 .+(la1-la0).*rand(nf)\n",
    "   #(xy,_)=initialize_lonlat(Γ,lon,lat)\n",
    "   #xy[3,:] .= z_init\n",
    "   #xy=cat(xy,ones(1,nf),dims=1)\n",
    "   dlo=21. - Γ[\"XC\"][1][21,1]\n",
    "   dla=111. - Γ[\"YC\"][1][1,111]\n",
    "\n",
    "   xy = permutedims([[lon[i]+dlo;lat[i]+dla;z_init;1.0] for i in eachindex(lon)])\n",
    "   id=collect(1:size(xy,2))\n",
    "\n",
    "   tr = DataFrame(ID=Int[], fid=Int[], x=Float64[], y=Float64[],\n",
    "                  k=Float64[], z=Float64[], iso=Float64[], t=Float64[],\n",
    "                  lon=Float64[], lat=Float64[], year=Float64[], col=Symbol[])\n",
    "\n",
    "   I=(position=xy,record=deepcopy(tr),velocity=my🚄, integration=∫,\n",
    "      postprocessing=🔧,parameters=𝑃)\n",
    "   𝐼=Individuals(I)\n",
    "\n",
    "   return 𝐼\n",
    "end\n",
    "\n",
    "set_up_individuals(𝐼::Individuals; nf=10000) = set_up_individuals(𝑃,Γ,∫,🚄,🔧; nf=nf)\n",
    "\n",
    "𝐼=set_up_individuals(𝑃,Γ,∫,🚄,🔧,nf=100)"
   ],
   "metadata": {},
   "execution_count": null
  },
  {
   "cell_type": "markdown",
   "source": [
    "## 3.1 Compute Displacements"
   ],
   "metadata": {
    "cell_type": "markdown",
    "slideshow": {
     "slide_type": "subslide"
    }
   }
  },
  {
   "outputs": [],
   "cell_type": "code",
   "source": [
    "𝑇=(0.0,10*86400.0)\n",
    "\n",
    "∫!(𝐼,𝑇)"
   ],
   "metadata": {},
   "execution_count": null
  },
  {
   "cell_type": "markdown",
   "source": [
    "## 3.2 Analyze Results\n",
    "\n",
    "The recorded simulation output, 🔴, is a in the [DataFrames](https://juliadata.github.io/DataFrames.jl/latest/) tabular format, which is easily manipulated or plotted.\n",
    "\n",
    "- either `Plots.jl`:"
   ],
   "metadata": {
    "cell_type": "markdown",
    "slideshow": {
     "slide_type": "subslide"
    }
   }
  },
  {
   "outputs": [],
   "cell_type": "code",
   "source": [
    "#include(joinpath(p,\"../examples/recipes_plots.jl\"))\n",
    "##PlotBasic(𝐼.🔴,100,90.0)\n",
    "#p=plot_end_points(𝐼,Γ)\n",
    "#display(p)"
   ],
   "metadata": {},
   "execution_count": null
  },
  {
   "cell_type": "markdown",
   "source": [
    "- or `Makie.jl`:"
   ],
   "metadata": {}
  },
  {
   "outputs": [],
   "cell_type": "code",
   "source": [
    "#include(joinpath(p,\"../examples/recipes_Makie.jl\"))\n",
    "#p=PlotMakie(𝐼.🔴,100,180.);\n",
    "#display(p)"
   ],
   "metadata": {},
   "execution_count": null
  },
  {
   "cell_type": "markdown",
   "source": [
    "---\n",
    "\n",
    "*This notebook was generated using [Literate.jl](https://github.com/fredrikekre/Literate.jl).*"
   ],
   "metadata": {}
  }
 ],
 "nbformat_minor": 3,
 "metadata": {
  "language_info": {
   "file_extension": ".jl",
   "mimetype": "application/julia",
   "name": "julia",
   "version": "1.5.3"
  },
  "kernelspec": {
   "name": "julia-1.5",
   "display_name": "Julia 1.5.3",
   "language": "julia"
  }
 },
 "nbformat": 4
}
