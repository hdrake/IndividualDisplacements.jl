{
 "cells": [
  {
   "cell_type": "markdown",
   "source": [
    "# Random Flow\n",
    "\n",
    "\n",
    "Simulate trajectories of a particle cloud in a randomly generated flow field.\n",
    "A doubly periodic domain is used and an animation generated.\n",
    "For additional documentation e.g. see :\n",
    "[1](https://JuliaClimate.github.io/IndividualDisplacements.jl/dev/),\n",
    "[2](https://JuliaClimate.github.io/MeshArrays.jl/dev/),\n",
    "[3](https://docs.juliadiffeq.org/latest/solvers/ode_solve.html),\n",
    "[4](https://en.wikipedia.org/wiki/Displacement_(vector))\n",
    "\n",
    "![particles in random flow](https://github.com/JuliaClimate/IndividualDisplacements.jl/raw/master/examples/figs/RandomFlow.gif)"
   ],
   "metadata": {}
  },
  {
   "cell_type": "markdown",
   "source": [
    "## 1.1 Import Software"
   ],
   "metadata": {
    "cell_type": "markdown",
    "slideshow": {
     "slide_type": "slide"
    }
   }
  },
  {
   "outputs": [],
   "cell_type": "code",
   "source": [
    "using OrdinaryDiffEq, IndividualDisplacements, MeshArrays\n",
    "p=dirname(pathof(MeshArrays)); include(joinpath(p,\"../examples/Demos.jl\"))\n",
    "p=dirname(pathof(IndividualDisplacements))\n",
    "include(joinpath(p,\"../examples/helper_functions.jl\"))\n",
    "include(joinpath(p,\"../examples/recipes_plots.jl\"));"
   ],
   "metadata": {},
   "execution_count": null
  },
  {
   "cell_type": "markdown",
   "source": [
    "## 1.2 Setup Problem"
   ],
   "metadata": {
    "cell_type": "markdown",
    "slideshow": {
     "slide_type": "slide"
    }
   }
  },
  {
   "cell_type": "markdown",
   "source": [
    "Put grid variables in a dictionary."
   ],
   "metadata": {}
  },
  {
   "outputs": [],
   "cell_type": "code",
   "source": [
    "np=8\n",
    "nq=12\n",
    "Γ=simple_periodic_domain(np,nq);"
   ],
   "metadata": {},
   "execution_count": null
  },
  {
   "cell_type": "markdown",
   "source": [
    "Derive flow field from randomly generated ϕ streamfunction"
   ],
   "metadata": {
    "cell_type": "markdown",
    "slideshow": {
     "slide_type": "subslide"
    }
   }
  },
  {
   "outputs": [],
   "cell_type": "code",
   "source": [
    "𝑃,ϕ=setup_random_flow(Γ);"
   ],
   "metadata": {},
   "execution_count": null
  },
  {
   "cell_type": "markdown",
   "source": [
    "## 1.3 Initial Conditions"
   ],
   "metadata": {
    "cell_type": "markdown",
    "slideshow": {
     "slide_type": "slide"
    }
   }
  },
  {
   "outputs": [],
   "cell_type": "code",
   "source": [
    "x0,x1=np .*(0.4,0.6)\n",
    "y0,y1=np .*(0.4,0.6)\n",
    "\n",
    "n=100\n",
    "x0=x0 .+(x1-x0).*rand(n)\n",
    "y0=y0 .+(y1-y0).*rand(n)\n",
    "\n",
    "xy = permutedims([[x0[i];y0[i];1.0] for i in eachindex(x0)])"
   ],
   "metadata": {},
   "execution_count": null
  },
  {
   "cell_type": "markdown",
   "source": [
    "## 2.1 Compute Trajectories"
   ],
   "metadata": {
    "cell_type": "markdown",
    "slideshow": {
     "slide_type": "slide"
    }
   }
  },
  {
   "outputs": [],
   "cell_type": "code",
   "source": [
    "tr = DataFrame(ID=Int[], x=Float64[], y=Float64[], t=Float64[])\n",
    "solv(prob) = solve(prob,Tsit5(),reltol=1e-5,abstol=1e-5)\n",
    "\n",
    "I=(position=deepcopy(xy),record=deepcopy(tr),velocity=dxy_dt!,\n",
    "   integration=solv,postprocessing=postprocess_xy,parameters=𝑃)\n",
    "𝐼=Individuals(I)\n",
    "\n",
    "𝑇=(0.0,𝐼.𝑃.𝑇[2])\n",
    "∫!(𝐼,𝑇)"
   ],
   "metadata": {},
   "execution_count": null
  },
  {
   "cell_type": "markdown",
   "source": [
    "## 2.2 Plot Results\n",
    "\n",
    "For example, generate a simple animation (with `if true`):"
   ],
   "metadata": {
    "cell_type": "markdown",
    "slideshow": {
     "slide_type": "slide"
    }
   }
  },
  {
   "outputs": [],
   "cell_type": "code",
   "source": [
    "if false\n",
    "anim = @animate for t in 0:2.0:maximum(𝐼.🔴.t)\n",
    "   phi_and_subset(Γ,ϕ,𝐼.🔴,t)\n",
    "end\n",
    "pth=tempdir()*\"/\"\n",
    "gif(anim, pth*\"RandomFlow.gif\", fps = 15)\n",
    "end"
   ],
   "metadata": {},
   "execution_count": null
  },
  {
   "cell_type": "markdown",
   "source": [
    "---\n",
    "\n",
    "*This notebook was generated using [Literate.jl](https://github.com/fredrikekre/Literate.jl).*"
   ],
   "metadata": {}
  }
 ],
 "nbformat_minor": 3,
 "metadata": {
  "language_info": {
   "file_extension": ".jl",
   "mimetype": "application/julia",
   "name": "julia",
   "version": "1.5.3"
  },
  "kernelspec": {
   "name": "julia-1.5",
   "display_name": "Julia 1.5.3",
   "language": "julia"
  }
 },
 "nbformat": 4
}
