{
 "cells": [
  {
   "cell_type": "markdown",
   "source": [
    "# Particle Set\n",
    "\n",
    "\n",
    "Simulate trajectories of a particle cloud in a two-dimensional flow field.\n",
    "A doubly-periodic domain and randomly-generated flow fields are initially used.\n",
    "For additional documentation e.g. see :\n",
    "[1](https://JuliaClimate.github.io/IndividualDisplacements.jl/dev/),\n",
    "[2](https://JuliaClimate.github.io/MeshArrays.jl/dev/),\n",
    "[3](https://docs.juliadiffeq.org/latest/solvers/ode_solve.html),\n",
    "[4](https://en.wikipedia.org/wiki/Displacement_(vector))\n",
    "\n",
    "Exercises:\n",
    "- change the initial distribution of partices\n",
    "- increase the duration of the trajectories simulation\n",
    "- treat the non-periodic domain case by padding `u,v` with zeros\n",
    "- replace `u,v` with your own two-dimensional flow fields\n",
    "\n",
    "![particles in random flow](https://github.com/JuliaClimate/IndividualDisplacements.jl/raw/master/examples/figs/RandomFlow.gif)"
   ],
   "metadata": {}
  },
  {
   "cell_type": "markdown",
   "source": [
    "## 1. Import Software"
   ],
   "metadata": {
    "cell_type": "markdown",
    "slideshow": {
     "slide_type": "slide"
    }
   }
  },
  {
   "outputs": [
    {
     "output_type": "execute_result",
     "data": {
      "text/plain": "Main.##256.isosurface"
     },
     "metadata": {},
     "execution_count": 1
    }
   ],
   "cell_type": "code",
   "source": [
    "using IndividualDisplacements, DataFrames\n",
    "p=dirname(pathof(IndividualDisplacements))\n",
    "include(joinpath(p,\"../examples/helper_functions.jl\"))"
   ],
   "metadata": {},
   "execution_count": 1
  },
  {
   "cell_type": "markdown",
   "source": [
    "## 2. Flow Field\n",
    "\n",
    "The `u,v` arrays below can be replaced with any other pair provided by the user.\n",
    "A couple of important considerations, however:"
   ],
   "metadata": {
    "cell_type": "markdown",
    "slideshow": {
     "slide_type": "slide"
    }
   }
  },
  {
   "cell_type": "markdown",
   "source": [
    "- `u,v` are staggered on a C-grid; by `-0.5` grid point in direction `1` for `u` (`2` for `v`)\n",
    " from the grid cell center (0.5,0.5)\n",
    "- `u,v` here derive from streamfunction `ϕ`, defined at the corner point, which ensures that\n",
    " the resulting `u,v` is non-divergent, purely rotational, over the C-grid domain.\n",
    "In brief:\n",
    "\n",
    "```\n",
    "u=-(circshift(ϕ, (0,-1))-ϕ)\n",
    "v=(circshift(ϕ, (-1,0))-ϕ)\n",
    "```"
   ],
   "metadata": {}
  },
  {
   "outputs": [
    {
     "output_type": "execute_result",
     "data": {
      "text/plain": "([0.007754609270090321 0.011138762776975716 … -0.0016620223490348696 0.005027718814079402; 0.010923738446552617 0.01154688774194966 … 0.0013635686525768353 0.0055273269353839916; … ; 0.00488202341041126 0.008968873557041679 … -0.005494208492392447 0.0018977679457618801; 0.007391645493832963 0.008167861953082042 … -0.0028106076835923005 0.00198006434659731], [0.004275654805263748 0.0011065256288014524 … 0.007800853928180043 0.004775262926568338; 0.0016867999307303705 0.0020326668351220017 … 0.004035096493176432 0.00457471139005905; … ; 0.0036770005658316035 0.0011673784824099004 … 0.00644289777546718 0.0037592969666670334; 0.0030565430180745923 0.0026935792418172344 … 0.007252782820114115 0.006104197485556684], [0.10114683597771659 0.09339222670762627 … 0.10451253244276112 0.106174554791796; 0.10542249078298034 0.09449875233642772 … 0.11231338637094117 0.11094981771836433; … ; 0.0944132923938104 0.08953126898339914 … 0.09081685184717983 0.09631106033957228; 0.098090292959642 0.09069864746580904 … 0.09725974962264701 0.10007035730623931])"
     },
     "metadata": {},
     "execution_count": 2
    }
   ],
   "cell_type": "code",
   "source": [
    "u,v,ϕ=setup_random_flow()"
   ],
   "metadata": {},
   "execution_count": 2
  },
  {
   "cell_type": "markdown",
   "source": [
    "If user were to start with collocated velocity (`uC,vC` at the grid cell center) then\n",
    "one can easily obtain the staggered velocity (`u,v`) as follows. These may contain both\n",
    "[rotational and divergent](https://en.wikipedia.org/wiki/Helmholtz_decomposition) components.\n",
    "\n",
    "```\n",
    "u=0.5*(circshift(uC, (0,1))+uC)\n",
    "v=0.5*(circshift(vC, (1,0))+vC)\n",
    "```"
   ],
   "metadata": {}
  },
  {
   "cell_type": "markdown",
   "source": [
    "## 3. Initialize Individuals\n",
    "\n",
    "For example, we can initialize 100 particles within a central subdomain as follows."
   ],
   "metadata": {
    "cell_type": "markdown",
    "slideshow": {
     "slide_type": "slide"
    }
   }
  },
  {
   "outputs": [],
   "cell_type": "code",
   "source": [
    "np,nq=size(u)\n",
    "x=np*(0. .+ 1.0*rand(1000))\n",
    "y=nq*(0. .+ 1.0*rand(1000));"
   ],
   "metadata": {},
   "execution_count": 3
  },
  {
   "cell_type": "markdown",
   "source": [
    "The `setup_point_cloud` function then wraps everything in the `Individuals` data structure."
   ],
   "metadata": {}
  },
  {
   "outputs": [
    {
     "output_type": "execute_result",
     "data": {
      "text/plain": "\u001b[1m0×4 DataFrame\u001b[0m",
      "text/html": [
       "<table class=\"data-frame\"><thead><tr><th></th><th>ID</th><th>x</th><th>y</th><th>t</th></tr><tr><th></th><th>Int64</th><th>Float64</th><th>Float64</th><th>Float64</th></tr></thead><tbody><p>0 rows × 4 columns</p></tbody></table>"
      ]
     },
     "metadata": {},
     "execution_count": 4
    }
   ],
   "cell_type": "code",
   "source": [
    "𝐼=setup_point_cloud(u,v,X=x,Y=y)\n",
    "𝐼.𝑃.𝑇[2]=10.\n",
    "𝐼.🔴"
   ],
   "metadata": {},
   "execution_count": 4
  },
  {
   "cell_type": "markdown",
   "source": [
    "## 3. Compute Trajectories\n",
    "\n",
    "The time period is `𝐼.𝑃.𝑇` by default, unless `∫!(𝐼,𝑇)` is called instead."
   ],
   "metadata": {
    "cell_type": "markdown",
    "slideshow": {
     "slide_type": "slide"
    }
   }
  },
  {
   "outputs": [
    {
     "output_type": "execute_result",
     "data": {
      "text/plain": "1×1000 Array{Array{Float64,1},2}:\n [1.86867, 17.298, 1.0]  [3.14696, 2.70572, 1.0]  …  [10.5006, 13.6474, 1.0]"
     },
     "metadata": {},
     "execution_count": 5
    }
   ],
   "cell_type": "code",
   "source": [
    "∫!(𝐼)"
   ],
   "metadata": {},
   "execution_count": 5
  },
  {
   "cell_type": "markdown",
   "source": [
    "## 4. Plot Results\n",
    "\n",
    "For example, generate a simple animation:"
   ],
   "metadata": {
    "cell_type": "markdown",
    "slideshow": {
     "slide_type": "slide"
    }
   }
  },
  {
   "cell_type": "markdown",
   "source": [
    "---\n",
    "\n",
    "*This notebook was generated using [Literate.jl](https://github.com/fredrikekre/Literate.jl).*"
   ],
   "metadata": {}
  }
 ],
 "nbformat_minor": 3,
 "metadata": {
  "language_info": {
   "file_extension": ".jl",
   "mimetype": "application/julia",
   "name": "julia",
   "version": "1.5.3"
  },
  "kernelspec": {
   "name": "julia-1.5",
   "display_name": "Julia 1.5.3",
   "language": "julia"
  }
 },
 "nbformat": 4
}
