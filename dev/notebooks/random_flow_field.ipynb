{
 "cells": [
  {
   "cell_type": "markdown",
   "source": [
    "# Two Dimensions\n",
    "\n",
    "\n",
    "Simulate trajectories of a particle cloud in a two-dimensional flow field.\n",
    "A doubly-periodic domain and simple flow fields are used.\n",
    "For additional documentation e.g. see :\n",
    "[1](https://JuliaClimate.github.io/IndividualDisplacements.jl/dev/),\n",
    "[2](https://JuliaClimate.github.io/MeshArrays.jl/dev/),\n",
    "[3](https://docs.juliadiffeq.org/latest/solvers/ode_solve.html),\n",
    "[4](https://en.wikipedia.org/wiki/Displacement_(vector))\n",
    "\n",
    "Exercises:\n",
    "- change the initial distribution of particles\n",
    "- increase the duration of the trajectories simulation\n",
    "- treat the non-periodic domain case by padding `u,v` with zeros\n",
    "- replace `u,v` with your own two-dimensional flow fields\n",
    "\n",
    "![particles in random flow](https://github.com/JuliaClimate/IndividualDisplacements.jl/raw/master/examples/figs/RandomFlow.gif)"
   ],
   "metadata": {}
  },
  {
   "cell_type": "markdown",
   "source": [
    "## 1. Import Software"
   ],
   "metadata": {
    "cell_type": "markdown",
    "slideshow": {
     "slide_type": "slide"
    }
   }
  },
  {
   "outputs": [],
   "cell_type": "code",
   "source": [
    "using IndividualDisplacements, DataFrames\n",
    "p=dirname(pathof(IndividualDisplacements))\n",
    "include(joinpath(p,\"../examples/flow_fields.jl\"));"
   ],
   "metadata": {},
   "execution_count": 1
  },
  {
   "cell_type": "markdown",
   "source": [
    "## 2. Flow Fields\n",
    "\n",
    "Let's start with a simple, doubly periodic flow field defined by a streamfunction\n",
    "and create the `FlowFields` data structure which will then be drive the\n",
    "individual displacement and trajectory computations"
   ],
   "metadata": {
    "cell_type": "markdown",
    "slideshow": {
     "slide_type": "slide"
    }
   }
  },
  {
   "outputs": [],
   "cell_type": "code",
   "source": [
    "nx=16\n",
    "dx= π/nx\n",
    "XC = dx*(collect(1:2*nx) .- 0.5)\n",
    "YC = dx*(collect(1:nx) .- 0.5)\n",
    "\n",
    "fac=0.1\n",
    "f(x, y) = sin(x) + cos(y) #streamfunction\n",
    "ϕ = fac*[f(x, y) for x in XC,y in YC] #streamfunction\n",
    "uC = -fac*[sin(y) for x in XC,y in YC] #dphi/dy at cell center\n",
    "vC = -fac*[cos(x) for x in XC,y in YC]; #-dphi/dx at cell center"
   ],
   "metadata": {},
   "execution_count": 2
  },
  {
   "cell_type": "markdown",
   "source": [
    "It should be noted that any uC, vC computed as done here may contain contain both\n",
    "[rotational and divergent](https://en.wikipedia.org/wiki/Helmholtz_decomposition)\n",
    "components -- if this were an important consideration, `MeshArrays.jl` provides\n",
    "tools that can be used to e.g. ensure non-divergence.\n",
    "\n",
    "When starting as done here with collocated velocities in m/s units (`uC,vC` at\n",
    "the grid cell center), one easily obtains the normalized, staggered C-grid\n",
    "velocities (`u,v`) as shown below. Both the staggering of variables and the\n",
    "normalization of velocities by the grid scale are key conventions\n",
    "adopted in `IndividualDisplacements.jl`."
   ],
   "metadata": {}
  },
  {
   "outputs": [
    {
     "output_type": "execute_result",
     "data": {
      "text/plain": "𝐹_Array2D{Float64}([-0.04991971965178092 -0.14784077212442612 … -0.14784077212442615 -0.04991971965178104; -0.04991971965178092 -0.14784077212442612 … -0.14784077212442615 -0.04991971965178104; … ; -0.04991971965178092 -0.14784077212442612 … -0.14784077212442615 -0.04991971965178104; -0.04991971965178092 -0.14784077212442612 … -0.14784077212442615 -0.04991971965178104], [-0.04991971965178092 -0.14784077212442612 … -0.14784077212442615 -0.04991971965178104; -0.04991971965178092 -0.14784077212442612 … -0.14784077212442615 -0.04991971965178104; … ; -0.04991971965178092 -0.14784077212442612 … -0.14784077212442615 -0.04991971965178104; -0.04991971965178092 -0.14784077212442612 … -0.14784077212442615 -0.04991971965178104], [-0.5068434193261981 -0.5068434193261981 … -0.5068434193261981 -0.5068434193261981; -0.48736571096255654 -0.48736571096255654 … -0.48736571096255654 -0.48736571096255654; … ; -0.48736571096255654 -0.48736571096255654 … -0.48736571096255654 -0.48736571096255654; -0.5068434193261981 -0.5068434193261981 … -0.5068434193261981 -0.5068434193261981], [-0.5068434193261981 -0.5068434193261981 … -0.5068434193261981 -0.5068434193261981; -0.48736571096255654 -0.48736571096255654 … -0.48736571096255654 -0.48736571096255654; … ; -0.48736571096255654 -0.48736571096255654 … -0.48736571096255654 -0.48736571096255654; -0.5068434193261981 -0.5068434193261981 … -0.5068434193261981 -0.5068434193261981], [0.0, 10.0])"
     },
     "metadata": {},
     "execution_count": 3
    }
   ],
   "cell_type": "code",
   "source": [
    "u=0.5*(circshift(uC, (1,0))+uC) /dx #staggered u converted to grid point units (m/s -> 1/s)\n",
    "v=0.5*(circshift(vC, (0,1))+vC) /dx #staggered v converted to grid point units (m/s -> 1/s)\n",
    "\n",
    "𝐹=𝐹_Array2D(u,u,v,v,[0.,10.])"
   ],
   "metadata": {},
   "execution_count": 3
  },
  {
   "cell_type": "markdown",
   "source": [
    "## 2.1 Alternatives (optional)"
   ],
   "metadata": {
    "cell_type": "markdown",
    "slideshow": {
     "slide_type": "slide"
    }
   }
  },
  {
   "cell_type": "markdown",
   "source": [
    "Making the flow field time variable simply involves providing two different\n",
    "flow fields. Linear interpolation will then be applied in the specified time\n",
    "range. For example :\n",
    "\n",
    "```\n",
    "𝐹=𝐹_Array2D(-u,u,-v,v,[0.,10.])\n",
    "```"
   ],
   "metadata": {}
  },
  {
   "cell_type": "markdown",
   "source": [
    "It is often convenient to set up `FlowFields` using the MeshArrays.jl package, which\n",
    "handles such staggered grids in general fashion, instead of plain Arrays. For any doubly\n",
    "periodic domain this is readily done via the `convert_to_FlowFields` function.\n",
    "\n",
    "```\n",
    "#u,v,ϕ=random_flow_field()\n",
    "#𝐹=𝐹_Array2D(u,u,v,v,[0.,10.])\n",
    "𝐹=convert_to_FlowFields(u,v,10.0);\n",
    "```"
   ],
   "metadata": {}
  },
  {
   "cell_type": "markdown",
   "source": [
    "The `u,v` arrays generated by `random_flow_field` can be replaced with any other pair provided by the user.\n",
    "A couple of important considerations, however:\n",
    "\n",
    "- `u,v` are staggered on a C-grid; by `-0.5` grid point in direction `1` for `u` (`2` for `v`) from the grid cell center (0.5,0.5)\n",
    "- `u,v` here derive from streamfunction `ϕ`, defined at the corner point, which ensures that the resulting `u,v` is non-divergent, purely rotational, over the C-grid domain.\n",
    "\n",
    "In brief:\n",
    "\n",
    "```\n",
    "u=-(circshift(ϕ, (0,-1))-ϕ)\n",
    "v=(circshift(ϕ, (-1,0))-ϕ)\n",
    "```"
   ],
   "metadata": {}
  },
  {
   "cell_type": "markdown",
   "source": [
    "## 3. Initialize Individuals\n",
    "\n",
    "For example, we can initialize 100 particles within a central subdomain as follows."
   ],
   "metadata": {
    "cell_type": "markdown",
    "slideshow": {
     "slide_type": "slide"
    }
   }
  },
  {
   "outputs": [],
   "cell_type": "code",
   "source": [
    "np,nq=size(u)\n",
    "x=np*(0.4 .+ 0.2*rand(100))\n",
    "y=nq*(0.4 .+ 0.2*rand(100));"
   ],
   "metadata": {},
   "execution_count": 4
  },
  {
   "cell_type": "markdown",
   "source": [
    "The following constructor function wraps everything in the `Individuals` data structure."
   ],
   "metadata": {}
  },
  {
   "outputs": [
    {
     "output_type": "execute_result",
     "data": {
      "text/plain": "\u001b[0m  📌 details     = \u001b[34m(1, 100) Array{Float64,1}\u001b[39m\n\u001b[0m  🔴 details     = \u001b[34m(0, 4) [\"ID\", \"x\", \"y\", \"t\"]\u001b[39m\n\u001b[0m  🆔 range       = \u001b[34m(1, 100)\u001b[39m\n\u001b[0m  🚄 function    = \u001b[34mdxy_dt\u001b[39m\n\u001b[0m  ∫  function    = \u001b[34mdefault_solver\u001b[39m\n\u001b[0m  🔧 function    = \u001b[34mpostprocess_xy\u001b[39m\n\u001b[0m  𝑃  details     = \u001b[34m(:u0, :u1, :v0, :v1, :𝑇)\u001b[39m\n"
     },
     "metadata": {},
     "execution_count": 5
    }
   ],
   "cell_type": "code",
   "source": [
    "𝐼=Individuals(𝐹,x,y)"
   ],
   "metadata": {},
   "execution_count": 5
  },
  {
   "cell_type": "markdown",
   "source": [
    "## 3.1 Alternatives (optional)\n",
    "\n",
    "When using `MeshArray` flow fields instead of plain `Array` flow fields, initial\n",
    "positions also include a subdomain array index (`a`;  all ones in our example).\n",
    "\n",
    "```\n",
    "a=ones(size(x))\n",
    "#isa(𝐹,𝐹_MeshArray2D)\n",
    "𝐼=Individuals(𝐹,x,y,a)\n",
    "```"
   ],
   "metadata": {
    "cell_type": "markdown",
    "slideshow": {
     "slide_type": "slide"
    }
   }
  },
  {
   "cell_type": "markdown",
   "source": [
    "## 4. Compute Trajectories\n",
    "\n",
    "The time period is `𝐼.𝑃.𝑇` by default, unless `∫!(𝐼,𝑇)` is called instead."
   ],
   "metadata": {
    "cell_type": "markdown",
    "slideshow": {
     "slide_type": "slide"
    }
   }
  },
  {
   "outputs": [
    {
     "output_type": "execute_result",
     "data": {
      "text/plain": "1×100 Array{Array{Float64,1},2}:\n [15.0853, 13.5729]  [13.9179, 13.9976]  …  [9.64552, 11.2061]"
     },
     "metadata": {},
     "execution_count": 6
    }
   ],
   "cell_type": "code",
   "source": [
    "∫!(𝐼)"
   ],
   "metadata": {},
   "execution_count": 6
  },
  {
   "cell_type": "markdown",
   "source": [
    "## 5. Plot Results"
   ],
   "metadata": {
    "cell_type": "markdown",
    "slideshow": {
     "slide_type": "slide"
    }
   }
  },
  {
   "cell_type": "markdown",
   "source": [
    "Or to generate a simple animation:\n",
    "\n",
    "```\n",
    "anim = @animate for t in eachindex(🔴_by_t)\n",
    "   phi_scatter(ϕ,🔴_by_t[t])\n",
    "end\n",
    "\n",
    "pth=tempdir()*\"/\"\n",
    "gif(anim, pth*\"RandomFlow.gif\", fps = 10)\n",
    "```"
   ],
   "metadata": {}
  },
  {
   "cell_type": "markdown",
   "source": [
    "---\n",
    "\n",
    "*This notebook was generated using [Literate.jl](https://github.com/fredrikekre/Literate.jl).*"
   ],
   "metadata": {}
  }
 ],
 "nbformat_minor": 3,
 "metadata": {
  "language_info": {
   "file_extension": ".jl",
   "mimetype": "application/julia",
   "name": "julia",
   "version": "1.5.3"
  },
  "kernelspec": {
   "name": "julia-1.5",
   "display_name": "Julia 1.5.3",
   "language": "julia"
  }
 },
 "nbformat": 4
}
