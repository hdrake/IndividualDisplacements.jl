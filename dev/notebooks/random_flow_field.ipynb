{
 "cells": [
  {
   "cell_type": "markdown",
   "source": [
    "# Particle Set\n",
    "\n",
    "\n",
    "Simulate trajectories of a particle cloud in a two-dimensional flow field.\n",
    "A doubly-periodic domain and randomly-generated flow fields are initially used.\n",
    "For additional documentation e.g. see :\n",
    "[1](https://JuliaClimate.github.io/IndividualDisplacements.jl/dev/),\n",
    "[2](https://JuliaClimate.github.io/MeshArrays.jl/dev/),\n",
    "[3](https://docs.juliadiffeq.org/latest/solvers/ode_solve.html),\n",
    "[4](https://en.wikipedia.org/wiki/Displacement_(vector))\n",
    "\n",
    "Exercises:\n",
    "- change the initial distribution of partices\n",
    "- increase the duration of the trajectories simulation\n",
    "- treat the non-periodic domain case by padding `u,v` with zeros\n",
    "- replace `u,v` with your own two-dimensional flow fields\n",
    "\n",
    "![particles in random flow](https://github.com/JuliaClimate/IndividualDisplacements.jl/raw/master/examples/figs/RandomFlow.gif)"
   ],
   "metadata": {}
  },
  {
   "cell_type": "markdown",
   "source": [
    "## 1. Import Software"
   ],
   "metadata": {
    "cell_type": "markdown",
    "slideshow": {
     "slide_type": "slide"
    }
   }
  },
  {
   "outputs": [
    {
     "output_type": "execute_result",
     "data": {
      "text/plain": "Main.##256.isosurface"
     },
     "metadata": {},
     "execution_count": 1
    }
   ],
   "cell_type": "code",
   "source": [
    "using IndividualDisplacements, DataFrames\n",
    "p=dirname(pathof(IndividualDisplacements))\n",
    "include(joinpath(p,\"../examples/helper_functions.jl\"))"
   ],
   "metadata": {},
   "execution_count": 1
  },
  {
   "cell_type": "markdown",
   "source": [
    "## 2. Flow Field\n",
    "\n",
    "The `u,v` arrays below can be replaced with any other pair provided by the user.\n",
    "A couple of important considerations, however:"
   ],
   "metadata": {
    "cell_type": "markdown",
    "slideshow": {
     "slide_type": "slide"
    }
   }
  },
  {
   "cell_type": "markdown",
   "source": [
    "- `u,v` are staggered on a C-grid; by `-0.5` grid point in direction `1` for `u` (`2` for `v`)\n",
    " from the grid cell center (0.5,0.5)\n",
    "- `u,v` here derive from streamfunction `ϕ`, defined at the corner point, which ensures that\n",
    " the resulting `u,v` is non-divergent, purely rotational, over the C-grid domain.\n",
    "In brief:\n",
    "\n",
    "```\n",
    "u=-(circshift(ϕ, (0,-1))-ϕ)\n",
    "v=(circshift(ϕ, (-1,0))-ϕ)\n",
    "```"
   ],
   "metadata": {}
  },
  {
   "outputs": [
    {
     "output_type": "execute_result",
     "data": {
      "text/plain": "([0.0058644817678497295 0.006440435122566035 … 0.0042205841020227786 0.005013693441245477; 0.0058422526446918616 0.0045552619328361535 … 0.005723492710805304 0.005554452468963012; … ; 0.007132145639489912 0.008272539999078336 … 0.003518441558138935 0.005722080604884459; 0.006826749828054153 0.007118755389116126 … 0.0031871815840456355 0.00484543729365651], [-0.011229160239335706 -0.011206931116177838 … -0.009185492602835646 -0.010688401211618171; -0.006548134051115612 -0.005884123279209268 … -0.0031975478904259502 -0.005219800117161909; … ; -0.012602154030271193 -0.012296758218835434 … -0.013810057315592442 -0.013478797341499142; -0.013937634299076337 -0.012975366238871914 … -0.012735975633510227 -0.01376937815148737], [0.033797828167713324 0.027933346399863595 … 0.04303210571098158 0.0388115216089588; 0.02256866792837762 0.016726415283685757 … 0.033846613108145934 0.02812312039734063; … ; 0.060337616497060854 0.05320547085757094 … 0.06957813866008425 0.06605969710194531; 0.04773546246678966 0.04090871263873551 … 0.05576808134449181 0.05258089976044617])"
     },
     "metadata": {},
     "execution_count": 2
    }
   ],
   "cell_type": "code",
   "source": [
    "u,v,ϕ=setup_random_flow()"
   ],
   "metadata": {},
   "execution_count": 2
  },
  {
   "cell_type": "markdown",
   "source": [
    "If user were to start with collocated velocity (`uC,vC` at the grid cell center) then\n",
    "one can easily obtain the staggered velocity (`u,v`) as follows. These may contain both\n",
    "[rotational and divergent](https://en.wikipedia.org/wiki/Helmholtz_decomposition) components.\n",
    "\n",
    "```\n",
    "u=0.5*(circshift(uC, (0,1))+uC)\n",
    "v=0.5*(circshift(vC, (1,0))+vC)\n",
    "```"
   ],
   "metadata": {}
  },
  {
   "cell_type": "markdown",
   "source": [
    "## 3. Initialize Individuals\n",
    "\n",
    "For example, we can initialize 100 particles within a central subdomain as follows."
   ],
   "metadata": {
    "cell_type": "markdown",
    "slideshow": {
     "slide_type": "slide"
    }
   }
  },
  {
   "outputs": [],
   "cell_type": "code",
   "source": [
    "np,nq=size(u)\n",
    "x=np*(0. .+ 1.0*rand(1000))\n",
    "y=nq*(0. .+ 1.0*rand(1000));"
   ],
   "metadata": {},
   "execution_count": 3
  },
  {
   "cell_type": "markdown",
   "source": [
    "The `setup_point_cloud` function then wraps everything in the `Individuals` data structure."
   ],
   "metadata": {}
  },
  {
   "outputs": [
    {
     "output_type": "execute_result",
     "data": {
      "text/plain": "\u001b[1m0×4 DataFrame\u001b[0m",
      "text/html": [
       "<table class=\"data-frame\"><thead><tr><th></th><th>ID</th><th>x</th><th>y</th><th>t</th></tr><tr><th></th><th>Int64</th><th>Float64</th><th>Float64</th><th>Float64</th></tr></thead><tbody><p>0 rows × 4 columns</p></tbody></table>"
      ]
     },
     "metadata": {},
     "execution_count": 4
    }
   ],
   "cell_type": "code",
   "source": [
    "𝐼=setup_point_cloud(u,v,X=x,Y=y)\n",
    "𝐼.𝑃.𝑇[2]=10.\n",
    "𝐼.🔴"
   ],
   "metadata": {},
   "execution_count": 4
  },
  {
   "cell_type": "markdown",
   "source": [
    "## 3. Compute Trajectories\n",
    "\n",
    "The time period is `𝐼.𝑃.𝑇` by default, unless `∫!(𝐼,𝑇)` is called instead."
   ],
   "metadata": {
    "cell_type": "markdown",
    "slideshow": {
     "slide_type": "slide"
    }
   }
  },
  {
   "outputs": [
    {
     "output_type": "execute_result",
     "data": {
      "text/plain": "1×1000 Array{Array{Float64,1},2}:\n [8.19546, 9.55424, 1.0]  [5.24167, 16.1197, 1.0]  …  [3.90947, 9.97885, 1.0]"
     },
     "metadata": {},
     "execution_count": 5
    }
   ],
   "cell_type": "code",
   "source": [
    "∫!(𝐼)"
   ],
   "metadata": {},
   "execution_count": 5
  },
  {
   "cell_type": "markdown",
   "source": [
    "## 4. Plot Results\n",
    "\n",
    "For example, generate a simple animation:"
   ],
   "metadata": {
    "cell_type": "markdown",
    "slideshow": {
     "slide_type": "slide"
    }
   }
  },
  {
   "cell_type": "markdown",
   "source": [
    "---\n",
    "\n",
    "*This notebook was generated using [Literate.jl](https://github.com/fredrikekre/Literate.jl).*"
   ],
   "metadata": {}
  }
 ],
 "nbformat_minor": 3,
 "metadata": {
  "language_info": {
   "file_extension": ".jl",
   "mimetype": "application/julia",
   "name": "julia",
   "version": "1.5.3"
  },
  "kernelspec": {
   "name": "julia-1.5",
   "display_name": "Julia 1.5.3",
   "language": "julia"
  }
 },
 "nbformat": 4
}
