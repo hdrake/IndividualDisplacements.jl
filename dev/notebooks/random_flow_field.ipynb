{
 "cells": [
  {
   "cell_type": "markdown",
   "source": [
    "# Particle Set\n",
    "\n",
    "\n",
    "Simulate trajectories of a particle cloud in a two-dimensional flow field.\n",
    "A doubly-periodic domain and randomly-generated flow fields are initially used.\n",
    "For additional documentation e.g. see :\n",
    "[1](https://JuliaClimate.github.io/IndividualDisplacements.jl/dev/),\n",
    "[2](https://JuliaClimate.github.io/MeshArrays.jl/dev/),\n",
    "[3](https://docs.juliadiffeq.org/latest/solvers/ode_solve.html),\n",
    "[4](https://en.wikipedia.org/wiki/Displacement_(vector))\n",
    "\n",
    "Exercises:\n",
    "- change the initial distribution of partices\n",
    "- increase the duration of the trajectories simulation\n",
    "- treat the non-periodic domain case by padding `u,v` with zeros\n",
    "- replace `u,v` with your own two-dimensional flow fields\n",
    "\n",
    "![particles in random flow](https://github.com/JuliaClimate/IndividualDisplacements.jl/raw/master/examples/figs/RandomFlow.gif)"
   ],
   "metadata": {}
  },
  {
   "cell_type": "markdown",
   "source": [
    "## 1. Import Software"
   ],
   "metadata": {
    "cell_type": "markdown",
    "slideshow": {
     "slide_type": "slide"
    }
   }
  },
  {
   "outputs": [],
   "cell_type": "code",
   "source": [
    "using IndividualDisplacements, DataFrames\n",
    "p=dirname(pathof(IndividualDisplacements))\n",
    "include(joinpath(p,\"../examples/helper_functions.jl\"));"
   ],
   "metadata": {},
   "execution_count": 1
  },
  {
   "cell_type": "markdown",
   "source": [
    "## 2. Flow Fields"
   ],
   "metadata": {
    "cell_type": "markdown",
    "slideshow": {
     "slide_type": "slide"
    }
   }
  },
  {
   "outputs": [],
   "cell_type": "code",
   "source": [
    "u,v,ϕ=setup_random_flow();"
   ],
   "metadata": {},
   "execution_count": 2
  },
  {
   "cell_type": "markdown",
   "source": [
    "The above `u,v` arrays can be replaced with any other pair provided by the user.\n",
    "\n",
    "A couple of important considerations, however:\n",
    "\n",
    "- `u,v` are staggered on a C-grid; by `-0.5` grid point in direction `1` for `u` (`2` for `v`)\n",
    " from the grid cell center (0.5,0.5)\n",
    "- `u,v` here derive from streamfunction `ϕ`, defined at the corner point, which ensures that\n",
    " the resulting `u,v` is non-divergent, purely rotational, over the C-grid domain.\n",
    "In brief:\n",
    "\n",
    "```\n",
    "u=-(circshift(ϕ, (0,-1))-ϕ)\n",
    "v=(circshift(ϕ, (-1,0))-ϕ)\n",
    "```"
   ],
   "metadata": {}
  },
  {
   "cell_type": "markdown",
   "source": [
    "If user were to start with collocated velocity (`uC,vC` at the grid cell center) then\n",
    "one can easily obtain the staggered velocity (`u,v`) as follows. These may contain both\n",
    "[rotational and divergent](https://en.wikipedia.org/wiki/Helmholtz_decomposition) components.\n",
    "\n",
    "```\n",
    "u=0.5*(circshift(uC, (0,1))+uC)\n",
    "v=0.5*(circshift(vC, (1,0))+vC)\n",
    "```"
   ],
   "metadata": {}
  },
  {
   "cell_type": "markdown",
   "source": [
    "A convenient way to set up the flow fields using the MeshArrays.jl package (which\n",
    "handles such staggered grids in general fashion) is to call `setup_F_MeshArray2D`"
   ],
   "metadata": {}
  },
  {
   "outputs": [],
   "cell_type": "code",
   "source": [
    "𝐹=setup_F_MeshArray2D(u,v);"
   ],
   "metadata": {},
   "execution_count": 3
  },
  {
   "cell_type": "markdown",
   "source": [
    "## 3. Initialize Individuals\n",
    "\n",
    "For example, we can initialize 100 particles within a central subdomain as follows."
   ],
   "metadata": {
    "cell_type": "markdown",
    "slideshow": {
     "slide_type": "slide"
    }
   }
  },
  {
   "outputs": [],
   "cell_type": "code",
   "source": [
    "np,nq=size(u)\n",
    "x=np*(0. .+ 1.0*rand(1000))\n",
    "y=nq*(0. .+ 1.0*rand(1000))\n",
    "a=ones(size(x)); #subdomain array index (just 1 here)"
   ],
   "metadata": {},
   "execution_count": 4
  },
  {
   "cell_type": "markdown",
   "source": [
    "The following constructor function wraps everything in the `Individuals` data structure."
   ],
   "metadata": {}
  },
  {
   "outputs": [
    {
     "output_type": "execute_result",
     "data": {
      "text/plain": "\u001b[0m  📌 details     = \u001b[34m(1, 1000) Array{Float64,1}\u001b[39m\n\u001b[0m  🔴 details     = \u001b[34m(0, 5) [\"ID\", \"x\", \"y\", \"fid\", \"t\"]\u001b[39m\n\u001b[0m  🆔 range       = \u001b[34m(1, 1000)\u001b[39m\n\u001b[0m  🚄 function    = \u001b[34mdxy_dt!\u001b[39m\n\u001b[0m  ∫  function    = \u001b[34msolver_default\u001b[39m\n\u001b[0m  🔧 function    = \u001b[34mpostprocess_MeshArray\u001b[39m\n\u001b[0m  𝑃  details     = \u001b[34m(:u0, :u1, :v0, :v1, :𝑇, :update_location!)\u001b[39m\n"
     },
     "metadata": {},
     "execution_count": 5
    }
   ],
   "cell_type": "code",
   "source": [
    "𝐼=Individuals(𝐹,x,y,a)"
   ],
   "metadata": {},
   "execution_count": 5
  },
  {
   "cell_type": "markdown",
   "source": [
    "## 3. Compute Trajectories\n",
    "\n",
    "The time period is `𝐼.𝑃.𝑇` by default, unless `∫!(𝐼,𝑇)` is called instead."
   ],
   "metadata": {
    "cell_type": "markdown",
    "slideshow": {
     "slide_type": "slide"
    }
   }
  },
  {
   "outputs": [
    {
     "output_type": "execute_result",
     "data": {
      "text/plain": "1×1000 Array{Array{Float64,1},2}:\n [2.96384, 7.5292, 1.0]  [7.38549, 5.94821, 1.0]  …  [11.013, 11.5051, 1.0]"
     },
     "metadata": {},
     "execution_count": 6
    }
   ],
   "cell_type": "code",
   "source": [
    "∫!(𝐼)"
   ],
   "metadata": {},
   "execution_count": 6
  },
  {
   "cell_type": "markdown",
   "source": [
    "## 4. Plot Results\n",
    "\n",
    "For example, generate a simple animation:"
   ],
   "metadata": {
    "cell_type": "markdown",
    "slideshow": {
     "slide_type": "slide"
    }
   }
  },
  {
   "cell_type": "markdown",
   "source": [
    "---\n",
    "\n",
    "*This notebook was generated using [Literate.jl](https://github.com/fredrikekre/Literate.jl).*"
   ],
   "metadata": {}
  }
 ],
 "nbformat_minor": 3,
 "metadata": {
  "language_info": {
   "file_extension": ".jl",
   "mimetype": "application/julia",
   "name": "julia",
   "version": "1.5.3"
  },
  "kernelspec": {
   "name": "julia-1.5",
   "display_name": "Julia 1.5.3",
   "language": "julia"
  }
 },
 "nbformat": 4
}
