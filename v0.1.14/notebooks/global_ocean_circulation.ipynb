{
 "cells": [
  {
   "cell_type": "markdown",
   "source": [
    "# Global Ocean Simulation\n",
    "\n",
    "\n",
    "Particles moving with climatological monthly mean flow at selected depth level\n",
    "(e.g. `k=10` for 95 m) based on an ocean state estimate (ECCO v4 r2 from https://ecco-group.org).\n",
    "For additional documentation e.g. see :\n",
    "[1](https://JuliaClimate.github.io/MeshArrays.jl/dev/),\n",
    "[2](https://JuliaClimate.github.io/IndividualDisplacements.jl/dev/),\n",
    "[3](https://docs.juliadiffeq.org/latest/solvers/ode_solve.html),\n",
    "[4](https://en.wikipedia.org/wiki/Displacement_(vector))\n",
    "\n",
    "[![simulated particle movie (5m)](https://user-images.githubusercontent.com/20276764/84766999-b801ad80-af9f-11ea-922a-610ad8a257dc.png)](https://youtu.be/W5DNqJG9jt0)"
   ],
   "metadata": {}
  },
  {
   "cell_type": "markdown",
   "source": [
    "## 1. Get Software & Iput Files\n",
    "\n",
    "- packages + helper functions\n",
    "- grid and velocity files"
   ],
   "metadata": {
    "cell_type": "markdown",
    "slideshow": {
     "slide_type": "subslide"
    }
   }
  },
  {
   "outputs": [],
   "cell_type": "code",
   "source": [
    "using IndividualDisplacements, MeshArrays, OrdinaryDiffEq\n",
    "using Statistics, DataFrames, MITgcmTools, OceanStateEstimation\n",
    "\n",
    "p=dirname(pathof(IndividualDisplacements))\n",
    "include(joinpath(p,\"../examples/recipes_plots.jl\"))\n",
    "include(joinpath(p,\"../examples/helper_functions.jl\"))\n",
    "get_grid_if_needed()\n",
    "\n",
    "#velocity files:\n",
    "pp=\"$p/../examples/nctiles_climatology\"\n",
    "q=dirname(pathof(OceanStateEstimation))\n",
    "qq=\"$q/../examples/nctiles_climatology\"\n",
    "!isfile(pp*\".csv\") ? run(`cp $qq.csv $pp.csv`) : nothing\n",
    "!isdir(pp) ? run(`mkdir $pp`) : nothing\n",
    "!isdir(pp*\"/UVELMASS\") ? get_from_dataverse(\"UVELMASS\",pp) : nothing\n",
    "!isdir(pp*\"/VVELMASS\") ? get_from_dataverse(\"VVELMASS\",pp) : nothing"
   ],
   "metadata": {},
   "execution_count": null
  },
  {
   "cell_type": "markdown",
   "source": [
    "## 2. Set Up Parameters & Inputs\n",
    "\n",
    "- depth level and duration\n",
    "- read grid variables\n",
    "- read & normalize velocities"
   ],
   "metadata": {
    "cell_type": "markdown",
    "slideshow": {
     "slide_type": "subslide"
    }
   }
  },
  {
   "outputs": [],
   "cell_type": "code",
   "source": [
    "k=10 #choice of vertical level\n",
    "ny=10 #number of simulated years (20 for k>20)\n",
    "r_reset = 0.01 #fraction of the particles reset per month (0.05 for k<=10)\n",
    "\n",
    "#read grid and set up connections between subdomains\n",
    "γ=GridSpec(\"LatLonCap\",joinpath(p,\"../examples/GRID_LLC90/\"))\n",
    "Γ=GridLoad(γ)\n",
    "Γ=merge(Γ,IndividualDisplacements.NeighborTileIndices_cs(Γ))\n",
    "\n",
    "#initialize u0,u1 etc\n",
    "uvetc=read_uvetc(k,0.0,Γ,joinpath(p,\"../examples/nctiles_climatology/\"));"
   ],
   "metadata": {},
   "execution_count": null
  },
  {
   "cell_type": "markdown",
   "source": [
    "### Single interpolation & trajectory Test\n",
    "\n",
    "Interpolate Velocity (normalized)"
   ],
   "metadata": {
    "cell_type": "markdown",
    "slideshow": {
     "slide_type": "subslide"
    }
   }
  },
  {
   "outputs": [],
   "cell_type": "code",
   "source": [
    "(u0,du)=initialize_lonlat(Γ,-160.1,35.1; msk=Γ[\"hFacC\"][:,k]);\n",
    "⬡!(du,u0,uvetc,0.0);\n",
    "#u,v,f=du[:]"
   ],
   "metadata": {},
   "execution_count": null
  },
  {
   "cell_type": "markdown",
   "source": [
    "Solve for trajectory"
   ],
   "metadata": {}
  },
  {
   "outputs": [],
   "cell_type": "code",
   "source": [
    "𝑇 = (0.0,uvetc[\"t1\"])\n",
    "prob = ODEProblem(⬡!,u0,𝑇,uvetc)\n",
    "sol = solve(prob,Tsit5(),reltol=1e-4,abstol=1e-4);\n",
    "#sol = solve(prob,Euler(),dt=1e6)\n",
    "#size(sol)"
   ],
   "metadata": {},
   "execution_count": null
  },
  {
   "cell_type": "markdown",
   "source": [
    "## 3. Main Computation Loop\n",
    "\n",
    "- initial particle positions randomly over Global Ocean\n",
    "- initial integration from time 0 to 0.5 month\n",
    "- update velocity fields & repeat for ny years"
   ],
   "metadata": {
    "cell_type": "markdown",
    "slideshow": {
     "slide_type": "slide"
    }
   }
  },
  {
   "cell_type": "markdown",
   "source": [
    "## 3.1 Initialization & Initial Solution\n",
    "\n",
    "Initial Positions:"
   ],
   "metadata": {}
  },
  {
   "outputs": [],
   "cell_type": "code",
   "source": [
    "#(u0,du)=initialize_gridded(uvetc,10)\n",
    "\n",
    "#(lon, lat) = randn_lonlat(20000)\n",
    "#(u0,du)=initialize_lonlat(Γ,lon,lat; msk=Γ[\"hFacC\"][:,k])\n",
    "\n",
    "#Or\n",
    "\n",
    "lo0,lo1=(-160.0,-150.0)\n",
    "la0,la1=(35.0,45.0)\n",
    "n=100\n",
    "lon=lo0 .+(lo1-lo0).*rand(n)\n",
    "lat=la0 .+(la1-la0).*rand(n)\n",
    "(u0,du)=initialize_lonlat(Γ,lon,lat; msk=Γ[\"hFacC\"][:,k]);"
   ],
   "metadata": {},
   "execution_count": null
  },
  {
   "cell_type": "markdown",
   "source": [
    "Arrays For Storing Results"
   ],
   "metadata": {}
  },
  {
   "outputs": [],
   "cell_type": "code",
   "source": [
    "u0_store = deepcopy(u0)\n",
    "n_store = size(u0_store,2);"
   ],
   "metadata": {},
   "execution_count": null
  },
  {
   "cell_type": "markdown",
   "source": [
    "Fraction of the particles reset per month"
   ],
   "metadata": {}
  },
  {
   "outputs": [],
   "cell_type": "code",
   "source": [
    "#r_reset = 0.05\n",
    "n_reset = Int(round(r_reset*n_store));\n",
    "#k_reset = rand(1:size(u0_store,2), n_reset)"
   ],
   "metadata": {},
   "execution_count": null
  },
  {
   "cell_type": "markdown",
   "source": [
    "Solve for all trajectories for first 1/2 month"
   ],
   "metadata": {
    "cell_type": "markdown",
    "slideshow": {
     "slide_type": "subslide"
    }
   }
  },
  {
   "outputs": [],
   "cell_type": "code",
   "source": [
    "prob = ODEProblem(⬡!,u0,𝑇,uvetc)\n",
    "sol = solve(prob,Euler(),dt=uvetc[\"dt\"]/8.0);\n",
    "#size(sol)"
   ],
   "metadata": {},
   "execution_count": null
  },
  {
   "cell_type": "markdown",
   "source": [
    "Map `i,j` to `lon,lat` coordinates and convert to `DataFrames`"
   ],
   "metadata": {
    "cell_type": "markdown",
    "slideshow": {
     "slide_type": "subslide"
    }
   }
  },
  {
   "outputs": [],
   "cell_type": "code",
   "source": [
    "df=postprocess_lonlat(sol,uvetc)"
   ],
   "metadata": {},
   "execution_count": null
  },
  {
   "cell_type": "markdown",
   "source": [
    "## 3.2 Repeat For `ny*12` Months\n",
    "\n",
    "_A fraction of the particles, randomly selected, is reset every month to maintain a relatively homogeneous coverage of the Global Ocean by the fleet of particles._"
   ],
   "metadata": {
    "cell_type": "markdown",
    "slideshow": {
     "slide_type": "slide"
    }
   }
  },
  {
   "outputs": [],
   "cell_type": "code",
   "source": [
    "t0=[uvetc[\"t1\"]]\n",
    "u0 = deepcopy(sol[:,:,end])\n",
    "println(size(df))\n",
    "for y=1:ny\n",
    "    for m=1:12\n",
    "        uvetc=read_uvetc(k,t0[1],Γ,joinpath(p,\"../examples/nctiles_climatology/\"))\n",
    "        𝑇 = (uvetc[\"t0\"],uvetc[\"t1\"])\n",
    "        prob = ODEProblem(⬡!,u0,𝑇,uvetc)\n",
    "        sol = solve(prob,Euler(),dt=uvetc[\"dt\"]/8.0)\n",
    "        tmp = postprocess_lonlat(sol[:,:,2:end],uvetc)\n",
    "\n",
    "        k_reset = rand(1:size(u0_store,2), n_reset)\n",
    "        k_new = rand(1:size(u0_store,2), n_reset)\n",
    "        t_reset = Int(size(tmp,1)/n_store)-1\n",
    "\n",
    "        tmp[k_reset.+t_reset*n_store,2:end].=NaN #reset a random subset of particles\n",
    "        append!(df,tmp)\n",
    "\n",
    "        t0[1]=uvetc[\"t1\"]\n",
    "        u0[:,:] = deepcopy(sol[:,:,end])\n",
    "        u0[:,k_reset].=deepcopy(u0_store[:,k_new]) #reset a random subset of particles\n",
    "    end\n",
    "    println(size(df))\n",
    "end"
   ],
   "metadata": {},
   "execution_count": null
  },
  {
   "cell_type": "markdown",
   "source": [
    "## 4. Plot trajectories"
   ],
   "metadata": {
    "cell_type": "markdown",
    "slideshow": {
     "slide_type": "slide"
    }
   }
  },
  {
   "cell_type": "markdown",
   "source": [
    "Examples Using Various Plotting Packages are provided below."
   ],
   "metadata": {
    "cell_type": "markdown",
    "slideshow": {
     "slide_type": "subslide"
    }
   }
  },
  {
   "outputs": [],
   "cell_type": "code",
   "source": [
    "#p=dirname(pathof(IndividualDisplacements))\n",
    "#nn=1000\n",
    "\n",
    "#include(joinpath(p,\"../examples/recipes_plots.jl\"))\n",
    "#plt=PlotBasic(df,nn,180.)\n",
    "\n",
    "#include(joinpath(p,\"../examples/recipes_pyplot.jl\"))\n",
    "#PyPlot.figure(); PlotMapProj(df,nn)\n",
    "\n",
    "#include(joinpath(p,\"../examples/recipes_makie.jl\"))\n",
    "#AbstractPlotting.inline!(true) #for Juno, set to false\n",
    "#scene=PlotMakie(df,nn,180.0)\n",
    "##Makie.save(\"LatLonCap300mDepth.png\", scene)"
   ],
   "metadata": {},
   "execution_count": null
  },
  {
   "cell_type": "markdown",
   "source": [
    "Here we create `lon`, `lat`, and `DL` (log10 of bottom depth) to use in plot background:"
   ],
   "metadata": {
    "cell_type": "markdown",
    "slideshow": {
     "slide_type": "skip"
    }
   }
  },
  {
   "outputs": [],
   "cell_type": "code",
   "source": [
    "nf=size(u0,2)\n",
    "nt=size(df,1)/nf\n",
    "t=[ceil(i/nf)-1 for i in 1:nt*nf]\n",
    "df[!,:t]=2000 .+ uvetc[\"dt\"]/4/86400/365 * t\n",
    "\n",
    "lon=[i for i=-179.5:1.0:179.5, j=-89.5:1.0:89.5]\n",
    "lat=[j for i=-179.5:1.0:179.5, j=-89.5:1.0:89.5]\n",
    "(f,i,j,w,_,_,_)=InterpolationFactors(Γ,vec(lon),vec(lat))\n",
    "\n",
    "DL=log10.(Interpolate(Γ[\"Depth\"],f,i,j,w))\n",
    "DL[findall((!isfinite).(DL))].=NaN\n",
    "DL=reshape(DL,size(lon));"
   ],
   "metadata": {},
   "execution_count": null
  },
  {
   "cell_type": "markdown",
   "source": [
    "Then we generate plot or movie using `GeoMakie.jl` ..."
   ],
   "metadata": {
    "cell_type": "markdown",
    "slideshow": {
     "slide_type": "subslide"
    }
   }
  },
  {
   "outputs": [],
   "cell_type": "code",
   "source": [
    "#using ArgoData\n",
    "#p = include(joinpath(dirname(pathof(ArgoData)),\"movies.jl\"));\n",
    "#tt=collect(2000:0.05:2000+ny)\n",
    "#scene = ProjMap(DL,colorrange=(2.,4.))\n",
    "#ProjScatterMovie(scene,df,tt,\"GlobalDomain_fleet_k\"*\"$k\"*\"_v1.mp4\",dt=1.0,mrksz=5e3)"
   ],
   "metadata": {},
   "execution_count": null
  },
  {
   "cell_type": "markdown",
   "source": [
    "... or using `Plots.jl`:"
   ],
   "metadata": {
    "cell_type": "markdown",
    "slideshow": {
     "slide_type": "subslide"
    }
   }
  },
  {
   "outputs": [],
   "cell_type": "code",
   "source": [
    "contourf(lon[:,1],lat[1,:],transpose(DL),clims=(1.5,5),c = :ice, colorbar=false)\n",
    "\n",
    "dt=0.0001\n",
    "t0=minimum(df[!,:t])\n",
    "t1=maximum(df[!,:t])\n",
    "#t=2001.0\n",
    "\n",
    "t=t1\n",
    "df_t = df[ (df.t.>t-dt).&(df.t.<=t) , :]\n",
    "scatter!(df_t.lon,df_t.lat,markersize=3.0,c=:red,leg=:none,\n",
    "    xlims=(-180.0,180.0),ylims=(-90.0,90.0),marker = (:circle, stroke(0)))\n",
    "\n",
    "t=t0\n",
    "df_t = df[ (df.t.>t-dt).&(df.t.<=t) , :]\n",
    "scatter!(df_t.lon,df_t.lat,markersize=3.0,c=:yellow,leg=:none,\n",
    "    xlims=(-180.0,180.0),ylims=(-90.0,90.0),marker = (:dot, stroke(0)))"
   ],
   "metadata": {},
   "execution_count": null
  },
  {
   "cell_type": "markdown",
   "source": [
    "---\n",
    "\n",
    "*This notebook was generated using [Literate.jl](https://github.com/fredrikekre/Literate.jl).*"
   ],
   "metadata": {}
  }
 ],
 "nbformat_minor": 3,
 "metadata": {
  "language_info": {
   "file_extension": ".jl",
   "mimetype": "application/julia",
   "name": "julia",
   "version": "1.2.0"
  },
  "kernelspec": {
   "name": "julia-1.2",
   "display_name": "Julia 1.2.0",
   "language": "julia"
  }
 },
 "nbformat": 4
}
