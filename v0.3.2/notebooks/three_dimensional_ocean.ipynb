{
 "cells": [
  {
   "cell_type": "markdown",
   "source": [
    "# Three Dimensions\n",
    "\n",
    "\n",
    "Advect particles with climatological mean flow in three dimensions starting from a selected depth level\n",
    "(e.g. `k=10` for 95 m) and region using a near-global ocean state estimate ([OCCA](https://doi.org/10.1175/2009JPO4043.1)\n",
    "which is here repeated for two years. For additional documentation e.g. see :\n",
    "[1](https://JuliaClimate.github.io/MeshArrays.jl/dev/),\n",
    "[2](https://JuliaClimate.github.io/IndividualDisplacements.jl/dev/),\n",
    "[3](https://docs.juliadiffeq.org/latest/solvers/ode_solve.html),\n",
    "[4](https://en.wikipedia.org/wiki/Displacement_(vector))\n",
    "\n",
    "![Three dimensional simulation](https://user-images.githubusercontent.com/20276764/94491485-595ee900-01b6-11eb-95e6-c2cacb812f46.png)"
   ],
   "metadata": {}
  },
  {
   "cell_type": "markdown",
   "source": [
    "## 1. Load Software"
   ],
   "metadata": {
    "cell_type": "markdown",
    "slideshow": {
     "slide_type": "subslide"
    }
   }
  },
  {
   "outputs": [],
   "cell_type": "code",
   "source": [
    "using IndividualDisplacements, DataFrames\n",
    "\n",
    "p=dirname(pathof(IndividualDisplacements))\n",
    "include(joinpath(p,\"../examples/helper_functions.jl\"))\n",
    "IndividualDisplacements.get_occa_velocity_if_needed();"
   ],
   "metadata": {},
   "execution_count": 1
  },
  {
   "cell_type": "markdown",
   "source": [
    "## 2.1 Ocean Circulation Setup"
   ],
   "metadata": {
    "cell_type": "markdown",
    "slideshow": {
     "slide_type": "subslide"
    }
   }
  },
  {
   "outputs": [],
   "cell_type": "code",
   "source": [
    "𝑃,𝐷,Γ=OCCA_FlowFields(nmax=5);"
   ],
   "metadata": {},
   "execution_count": 2
  },
  {
   "cell_type": "markdown",
   "source": [
    "## 2.3 Initialize Individual Positions"
   ],
   "metadata": {
    "cell_type": "markdown",
    "slideshow": {
     "slide_type": "subslide"
    }
   }
  },
  {
   "outputs": [
    {
     "output_type": "execute_result",
     "data": {
      "text/plain": "Main.##1828.initial_positions"
     },
     "metadata": {},
     "execution_count": 3
    }
   ],
   "cell_type": "code",
   "source": [
    "\"\"\"\n",
    "    initial_positions(Γ; nf=10000, lon_rng=(-160.0,-159.0), lat_rng=(30.0,31.0))\n",
    "\n",
    "Randomly assign initial positions in longitude,latitude ranges. Positions are\n",
    "expressed in, normalized, grid point units (x,y in the 0,nx and 0,ny range).\n",
    "To convert from longitude,latitude here we take advantage of the regularity\n",
    "of the 1 degree grid being used -- for a more general alternative, see the\n",
    "global ocean example.\n",
    "\"\"\"\n",
    "function initial_positions(Γ::NamedTuple, nf=10000, lon_rng=(-160.0,-159.0), lat_rng=(30.0,31.0))\n",
    "   lon=lon_rng[1] .+(lon_rng[2]-lon_rng[1]).*rand(nf)\n",
    "   lat=lat_rng[1] .+(lat_rng[2]-lat_rng[1]).*rand(nf)\n",
    "   x=lon .+ (21. - Γ.XC[1][21,1])\n",
    "   y=lat .+ (111. - Γ.YC[1][1,111])\n",
    "   return x,y\n",
    "end"
   ],
   "metadata": {},
   "execution_count": 3
  },
  {
   "cell_type": "markdown",
   "source": [
    "## 2.3 Diagnostic / Post-Processing Setup"
   ],
   "metadata": {
    "cell_type": "markdown",
    "slideshow": {
     "slide_type": "subslide"
    }
   }
  },
  {
   "outputs": [
    {
     "output_type": "execute_result",
     "data": {
      "text/plain": "custom🔧 (generic function with 1 method)"
     },
     "metadata": {},
     "execution_count": 4
    }
   ],
   "cell_type": "code",
   "source": [
    "custom🔴 = DataFrame(ID=Int[], fid=Int[], x=Float64[], y=Float64[],\n",
    "   k=Float64[], z=Float64[], iso=Float64[], t=Float64[],\n",
    "   lon=Float64[], lat=Float64[], year=Float64[], col=Symbol[])\n",
    "\n",
    "function custom🔧(sol,𝑃::𝐹_MeshArray3D;id=missing,𝑇=missing)\n",
    "   df=postprocess_MeshArray(sol,𝑃,id=id,𝑇=𝑇)\n",
    "   add_lonlat!(df,𝐷.XC,𝐷.YC)\n",
    "\n",
    "   #add year (convenience time axis for plotting)\n",
    "   df.year=df.t ./86400/365\n",
    "\n",
    "   #add depth (i.e. the 3rd, vertical, coordinate)\n",
    "   k=[sol[1,i,j][3] for i in 1:size(sol,2), j in 1:size(sol,3)]\n",
    "   nz=length(𝐼.𝑃.u1)\n",
    "   df.k=min.(max.(k[:],Ref(0.0)),Ref(nz)) #level\n",
    "   k=Int.(floor.(df.k)); w=(df.k-k);\n",
    "   df.z=𝐷.RF[1 .+ k].*(1 .- w)+𝐷.RF[2 .+ k].*w #depth\n",
    "\n",
    "   #add one isotherm depth\n",
    "   θ=0.5*(𝐷.θ0+𝐷.θ1)\n",
    "   d=isosurface(θ,15,𝐷.RC)\n",
    "   d[findall(isnan.(d))].=0.\n",
    "   df.iso=interp_to_xy(df,exchange(d));\n",
    "\n",
    "   #add color = f(iso-z)\n",
    "   c=fill(:gold,length(df.iso))\n",
    "   c[findall(df.iso.<df.z)].=:violet\n",
    "   df.col=c\n",
    "\n",
    "   #to plot e.g. Pacific Ocean transports, shift longitude convention?\n",
    "   df.lon[findall(df.lon .< 0.0 )] = df.lon[findall(df.lon .< 0.0 )] .+360.0\n",
    "   return df\n",
    "end"
   ],
   "metadata": {},
   "execution_count": 4
  },
  {
   "cell_type": "markdown",
   "source": [
    "## 2.4 Individuals Data Structure\n",
    "\n",
    "Set up `Individuals` data structure with `nf` particles moving in 3D\n",
    "on a regular 1 degree resolution grid covering most of the Globe."
   ],
   "metadata": {}
  },
  {
   "outputs": [
    {
     "output_type": "execute_result",
     "data": {
      "text/plain": "\u001b[0m  📌 details     = \u001b[34m(1, 100) Vector{Float64}\u001b[39m\n\u001b[0m  🔴 details     = \u001b[34m(0, 12) [\"ID\", \"fid\", \"x\", \"y\", \"k\", \"z\", \"iso\", \"t\", \"lon\", \"lat\", \"year\", \"col\"]\u001b[39m\n\u001b[0m  🆔 range       = \u001b[34m(1, 100)\u001b[39m\n\u001b[0m  🚄 function    = \u001b[34mdxdt!\u001b[39m\n\u001b[0m  ∫  function    = \u001b[34mdefault_solver\u001b[39m\n\u001b[0m  🔧 function    = \u001b[34mcustom🔧\u001b[39m\n\u001b[0m  𝑃  details     = \u001b[34m(:u0, :u1, :v0, :v1, :w0, :w1, :𝑇, :update_location!)\u001b[39m\n"
     },
     "metadata": {},
     "execution_count": 5
    }
   ],
   "cell_type": "code",
   "source": [
    "nf=100; lo=(-160.0,-150.0); la=(30.0,40.0); kk=2.5;\n",
    "df=DataFrame(:z => fill(kk,nf),:f => fill(1,nf))\n",
    "(df.x,df.y)=initial_positions(Γ, nf, lo, la)\n",
    "\n",
    "𝐼=Individuals(𝑃,df.x,df.y,df.z,df.f,(🔴=custom🔴,🔧=custom🔧))"
   ],
   "metadata": {},
   "execution_count": 5
  },
  {
   "cell_type": "markdown",
   "source": [
    "## 3.1 Compute Displacements"
   ],
   "metadata": {
    "cell_type": "markdown",
    "slideshow": {
     "slide_type": "subslide"
    }
   }
  },
  {
   "outputs": [
    {
     "output_type": "execute_result",
     "data": {
      "text/plain": "1×100 Matrix{Vector{Float64}}:\n [23.6733, 119.313, 2.56471, 1.0]  …  [27.9706, 116.098, 2.4848, 1.0]"
     },
     "metadata": {},
     "execution_count": 6
    }
   ],
   "cell_type": "code",
   "source": [
    "𝑇=(0.0,10*86400.0)\n",
    "\n",
    "∫!(𝐼,𝑇)"
   ],
   "metadata": {},
   "execution_count": 6
  },
  {
   "cell_type": "markdown",
   "source": [
    "## 3.2 Analyze Results\n",
    "\n",
    "The recorded simulation output, 🔴, is a in the [DataFrames](https://juliadata.github.io/DataFrames.jl/latest/) tabular format, which is easily manipulated or plotted."
   ],
   "metadata": {
    "cell_type": "markdown",
    "slideshow": {
     "slide_type": "subslide"
    }
   }
  },
  {
   "cell_type": "markdown",
   "source": [
    "- either `Plots.jl`:\n",
    "\n",
    "```\n",
    "include(joinpath(p,\"../examples/recipes_plots.jl\"))\n",
    "p=plot(𝐼)\n",
    "#p=map(𝐼,OceanDepthLog(Γ))\n",
    "display(p)\n",
    "```"
   ],
   "metadata": {}
  },
  {
   "cell_type": "markdown",
   "source": [
    "- or `Makie.jl`:\n",
    "\n",
    "```\n",
    "include(joinpath(p,\"../examples/recipes_Makie.jl\"))\n",
    "#p=plot(𝐼)\n",
    "p=plot_paths(𝐼.🔴,100,180.);\n",
    "display(p)\n",
    "```"
   ],
   "metadata": {}
  },
  {
   "cell_type": "markdown",
   "source": [
    "## 3.3 Alternatives (optional / unit testing)"
   ],
   "metadata": {}
  },
  {
   "outputs": [],
   "cell_type": "code",
   "source": [
    "(x,y,z,f)=𝐼.📌[1]\n",
    "𝐽=Individuals(𝐼.𝑃,x,y,z,f)\n",
    "diff(𝐼)\n",
    "gcdist(𝐼);"
   ],
   "metadata": {},
   "execution_count": 7
  },
  {
   "cell_type": "markdown",
   "source": [
    "---\n",
    "\n",
    "*This notebook was generated using [Literate.jl](https://github.com/fredrikekre/Literate.jl).*"
   ],
   "metadata": {}
  }
 ],
 "nbformat_minor": 3,
 "metadata": {
  "language_info": {
   "file_extension": ".jl",
   "mimetype": "application/julia",
   "name": "julia",
   "version": "1.6.1"
  },
  "kernelspec": {
   "name": "julia-1.6",
   "display_name": "Julia 1.6.1",
   "language": "julia"
  }
 },
 "nbformat": 4
}
