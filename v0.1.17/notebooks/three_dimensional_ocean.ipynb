{
 "cells": [
  {
   "cell_type": "markdown",
   "source": [
    "# Three Dimensions\n",
    "\n",
    "\n",
    "Advect particles with climatological mean flow in three dimensions starting from a selected depth level\n",
    "(e.g. `k=10` for 95 m) and region using a near-global ocean state estimate ([OCCA](https://doi.org/10.1175/2009JPO4043.1)\n",
    "which is here repeated for two years. For additional documentation e.g. see :\n",
    "[1](https://JuliaClimate.github.io/MeshArrays.jl/dev/),\n",
    "[2](https://JuliaClimate.github.io/IndividualDisplacements.jl/dev/),\n",
    "[3](https://docs.juliadiffeq.org/latest/solvers/ode_solve.html),\n",
    "[4](https://en.wikipedia.org/wiki/Displacement_(vector))\n",
    "\n",
    "![Three dimensional simulation 1/2](https://user-images.githubusercontent.com/20276764/94491655-9cb95780-01b6-11eb-9273-173865ed6340.png)\n",
    "![Three dimensional simulation 2/2](https://user-images.githubusercontent.com/20276764/94491485-595ee900-01b6-11eb-95e6-c2cacb812f46.png)"
   ],
   "metadata": {}
  },
  {
   "cell_type": "markdown",
   "source": [
    "## 1. Load Software"
   ],
   "metadata": {
    "cell_type": "markdown",
    "slideshow": {
     "slide_type": "subslide"
    }
   }
  },
  {
   "outputs": [],
   "cell_type": "code",
   "source": [
    "using IndividualDisplacements, DataFrames, OceanStateEstimation, NetCDF\n",
    "p=dirname(pathof(IndividualDisplacements))\n",
    "include(joinpath(p,\"../examples/example123.jl\"))\n",
    "include(joinpath(p,\"../examples/helper_functions.jl\"))\n",
    "get_ll360_grid_if_needed(); get_occa_velocity_if_needed();"
   ],
   "metadata": {},
   "execution_count": 1
  },
  {
   "cell_type": "markdown",
   "source": [
    "## 2.1 Ocean Circulation Setup"
   ],
   "metadata": {
    "cell_type": "markdown",
    "slideshow": {
     "slide_type": "subslide"
    }
   }
  },
  {
   "outputs": [
    {
     "output_type": "execute_result",
     "data": {
      "text/plain": "dxyz_dt (generic function with 3 methods)"
     },
     "metadata": {},
     "execution_count": 2
    }
   ],
   "cell_type": "code",
   "source": [
    "nam=\"OCCA\"\n",
    "bck=false\n",
    "\n",
    "if nam==\"OCCA\"\n",
    "   𝑃,Γ=OCCA_setup(backward_in_time=bck)\n",
    "   🚄 =dxyz_dt\n",
    "elseif nam==\"LL90\"\n",
    "   𝑃,Γ=example3_setup(backward_in_time=bck)\n",
    "   🚄 =dxy_dt\n",
    "else\n",
    "   error(\"unknown example (nam parameter value)\")\n",
    "end"
   ],
   "metadata": {},
   "execution_count": 2
  },
  {
   "cell_type": "markdown",
   "source": [
    "## 2.2 Solver And Analysis Setup"
   ],
   "metadata": {
    "cell_type": "markdown",
    "slideshow": {
     "slide_type": "subslide"
    }
   }
  },
  {
   "outputs": [
    {
     "output_type": "execute_result",
     "data": {
      "text/plain": "🔧 (generic function with 1 method)"
     },
     "metadata": {},
     "execution_count": 3
    }
   ],
   "cell_type": "code",
   "source": [
    "function ∫(prob)\n",
    "   sol=solve(prob,Tsit5(),saveat=10*86400.0)\n",
    "   nx,ny=𝑃.ioSize[1:2]\n",
    "   sol[1,:,:]=mod.(sol[1,:,:],nx)\n",
    "   sol[2,:,:]=mod.(sol[2,:,:],ny)\n",
    "   return sol\n",
    "end\n",
    "\n",
    "function 🔧(sol,𝑃::NamedTuple;id=missing,𝑇=missing)\n",
    "   df=postprocess_lonlat(sol,𝑃,id=id,𝑇=𝑇)\n",
    "\n",
    "   #add year (convenience time axis for plotting)\n",
    "   df.year=df.t ./86400/365\n",
    "\n",
    "   #add depth (i.e. the 3rd, vertical, coordinate)\n",
    "   k=sol[3,:,:]\n",
    "   df.k=k[:] #level\n",
    "   k=Int.(floor.(df.k)); w=(df.k-k);\n",
    "   df.z=𝑃.RF[1 .+ k].*(1 .- w)+𝑃.RF[2 .+ k].*w #depth\n",
    "\n",
    "   #add one isotherm depth\n",
    "   θ=0.5*(𝑃.θ0+𝑃.θ1)\n",
    "   d=isosurface(θ,15,𝑃.RC)\n",
    "   d[findall(isnan.(d))].=0.\n",
    "   df.iso=interp_to_xy(df,exchange(d));\n",
    "\n",
    "   #add color = f(iso-z)\n",
    "   c=fill(:gold,length(df.iso))\n",
    "   c[findall(df.iso.<df.z)].=:violet\n",
    "   df.col=c\n",
    "\n",
    "   #to plot e.g. Pacific Ocean transports, shift longitude convention?\n",
    "   df.lon[findall(df.lon .< 0.0 )] = df.lon[findall(df.lon .< 0.0 )] .+360.0\n",
    "   return df\n",
    "end"
   ],
   "metadata": {},
   "execution_count": 3
  },
  {
   "cell_type": "markdown",
   "source": [
    "## 2.3 Initialize Individuals"
   ],
   "metadata": {
    "cell_type": "markdown",
    "slideshow": {
     "slide_type": "subslide"
    }
   }
  },
  {
   "outputs": [
    {
     "output_type": "execute_result",
     "data": {
      "text/plain": "\u001b[0m  📌 details     = \u001b[34m(3, 100) Float64\u001b[39m\n\u001b[0m  🔴 details     = \u001b[34m(0, 12) [\"ID\", \"fid\", \"x\", \"y\", \"k\", \"z\", \"iso\", \"t\", \"lon\", \"lat\", \"year\", \"col\"]\u001b[39m\n\u001b[0m  🆔 range       = \u001b[34m(1, 100)\u001b[39m\n\u001b[0m  🚄 function    = \u001b[34mdxyz_dt\u001b[39m\n\u001b[0m  ∫  function    = \u001b[34m∫\u001b[39m\n\u001b[0m  🔧 function    = \u001b[34m🔧\u001b[39m\n\u001b[0m  𝑃  details     = \u001b[34m(:θ0, :θ1, :𝑆0, :𝑆1, :u0, :u1, :v0, :v1, :w0, :w1, :𝑇, :XC, :YC, :RF, :RC, :ioSize)\u001b[39m\n"
     },
     "metadata": {},
     "execution_count": 4
    }
   ],
   "cell_type": "code",
   "source": [
    "\"\"\"\n",
    "    set_up_individuals(𝑃,Γ,∫,🚄,🔧; nf=10000, z_init=4.5,\n",
    "               lon_rng=(-160.0,-150.0), lat_rng=(30.0,40.0))\n",
    "\n",
    "Set up `Individuals` data structure with `nf` particles moving within a near-global Ocean domain.\n",
    "\"\"\"\n",
    "function set_up_individuals(𝑃,Γ,∫,🚄,🔧; nf=10000,\n",
    "      z_init=4.5, lon_rng=(-160.0,-150.0), lat_rng=(30.0,40.0))\n",
    "\n",
    "   lo0,lo1=lon_rng\n",
    "   la0,la1=lat_rng\n",
    "\n",
    "   lon=lo0 .+(lo1-lo0).*rand(nf)\n",
    "   lat=la0 .+(la1-la0).*rand(nf)\n",
    "   (xy,_)=initialize_lonlat(Γ,lon,lat)\n",
    "   xy[3,:] .= z_init\n",
    "   id=collect(1:size(xy,2))\n",
    "\n",
    "   tr = DataFrame([fill(Int, 2) ; fill(Float64, 9); fill(Symbol, 1)],\n",
    "   [:ID, :fid, :x, :y, :k, :z, :iso, :t, :lon, :lat, :year, :col])\n",
    "\n",
    "   𝐼 = Individuals{Float64}(📌=xy, 🔴=tr, 🆔=id, 🚄 = 🚄, ∫ = ∫, 🔧 = 🔧, 𝑃=𝑃)\n",
    "\n",
    "   return 𝐼\n",
    "end\n",
    "\n",
    "set_up_individuals(𝐼::Individuals; nf=10000) = set_up_individuals(𝑃,Γ,∫,🚄,🔧; nf=nf)\n",
    "\n",
    "𝐼=set_up_individuals(𝑃,Γ,∫,🚄,🔧,nf=100)"
   ],
   "metadata": {},
   "execution_count": 4
  },
  {
   "cell_type": "markdown",
   "source": [
    "## 3.1 Compute Displacements"
   ],
   "metadata": {
    "cell_type": "markdown",
    "slideshow": {
     "slide_type": "subslide"
    }
   }
  },
  {
   "outputs": [
    {
     "output_type": "execute_result",
     "data": {
      "text/plain": "3×100 Array{Float64,2}:\n  24.6674    31.5572    29.4547   …   27.257    23.4726    26.9494 \n 118.186    113.804    110.597       111.488   110.692    118.671  \n   4.94591    5.54066    5.53214       6.0673    5.24216    5.45032"
     },
     "metadata": {},
     "execution_count": 5
    }
   ],
   "cell_type": "code",
   "source": [
    "𝑇=(0.0,100*86400.0)\n",
    "\n",
    "∫!(𝐼,𝑇)"
   ],
   "metadata": {},
   "execution_count": 5
  },
  {
   "cell_type": "markdown",
   "source": [
    "## 3.2 Analyze Results\n",
    "\n",
    "The recorded simulation output, 🔴, is a in the [DataFrames](https://juliadata.github.io/DataFrames.jl/latest/) tabular format, which is easily manipulated or plotted.\n",
    "\n",
    "- either `Plots.jl`:"
   ],
   "metadata": {
    "cell_type": "markdown",
    "slideshow": {
     "slide_type": "subslide"
    }
   }
  },
  {
   "outputs": [],
   "cell_type": "code",
   "source": [
    "#plot_end_points(𝐼,Γ)"
   ],
   "metadata": {},
   "execution_count": 6
  },
  {
   "cell_type": "markdown",
   "source": [
    "- or `Makie.jl`:"
   ],
   "metadata": {}
  },
  {
   "outputs": [],
   "cell_type": "code",
   "source": [
    "#include(joinpath(p,\"../examples/recipes_Makie.jl\"))\n",
    "#p=PlotMakie(𝐼.🔴,100,180.);\n",
    "#display(p)"
   ],
   "metadata": {},
   "execution_count": 7
  },
  {
   "cell_type": "markdown",
   "source": [
    "---\n",
    "\n",
    "*This notebook was generated using [Literate.jl](https://github.com/fredrikekre/Literate.jl).*"
   ],
   "metadata": {}
  }
 ],
 "nbformat_minor": 3,
 "metadata": {
  "language_info": {
   "file_extension": ".jl",
   "mimetype": "application/julia",
   "name": "julia",
   "version": "1.2.0"
  },
  "kernelspec": {
   "name": "julia-1.2",
   "display_name": "Julia 1.2.0",
   "language": "julia"
  }
 },
 "nbformat": 4
}
