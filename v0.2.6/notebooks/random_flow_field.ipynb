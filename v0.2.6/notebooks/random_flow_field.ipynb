{
 "cells": [
  {
   "cell_type": "markdown",
   "source": [
    "# Particle Set\n",
    "\n",
    "\n",
    "Simulate trajectories of a particle cloud in a two-dimensional flow field.\n",
    "A doubly-periodic domain and randomly-generated flow fields are initially used.\n",
    "For additional documentation e.g. see :\n",
    "[1](https://JuliaClimate.github.io/IndividualDisplacements.jl/dev/),\n",
    "[2](https://JuliaClimate.github.io/MeshArrays.jl/dev/),\n",
    "[3](https://docs.juliadiffeq.org/latest/solvers/ode_solve.html),\n",
    "[4](https://en.wikipedia.org/wiki/Displacement_(vector))\n",
    "\n",
    "Exercises:\n",
    "- change the initial distribution of partices\n",
    "- increase the duration of the trajectories simulation\n",
    "- treat the non-periodic domain case by padding `u,v` with zeros\n",
    "- replace `u,v` with your own two-dimensional flow fields\n",
    "\n",
    "![particles in random flow](https://github.com/JuliaClimate/IndividualDisplacements.jl/raw/master/examples/figs/RandomFlow.gif)"
   ],
   "metadata": {}
  },
  {
   "cell_type": "markdown",
   "source": [
    "## 1. Import Software"
   ],
   "metadata": {
    "cell_type": "markdown",
    "slideshow": {
     "slide_type": "slide"
    }
   }
  },
  {
   "outputs": [
    {
     "output_type": "execute_result",
     "data": {
      "text/plain": "Main.##256.isosurface"
     },
     "metadata": {},
     "execution_count": 1
    }
   ],
   "cell_type": "code",
   "source": [
    "using IndividualDisplacements, DataFrames\n",
    "p=dirname(pathof(IndividualDisplacements))\n",
    "include(joinpath(p,\"../examples/helper_functions.jl\"))"
   ],
   "metadata": {},
   "execution_count": 1
  },
  {
   "cell_type": "markdown",
   "source": [
    "## 2. Flow Field\n",
    "\n",
    "The `u,v` arrays below can be replaced with any other pair provided by the user.\n",
    "A couple of important considerations, however:"
   ],
   "metadata": {
    "cell_type": "markdown",
    "slideshow": {
     "slide_type": "slide"
    }
   }
  },
  {
   "cell_type": "markdown",
   "source": [
    "- `u,v` are staggered on a C-grid; by `-0.5` grid point in direction `1` for `u` (`2` for `v`)\n",
    " from the grid cell center (0.5,0.5)\n",
    "- `u,v` here derive from streamfunction `ϕ`, defined at the corner point, which ensures that\n",
    " the resulting `u,v` is non-divergent, purely rotational, over the C-grid domain.\n",
    "In brief:\n",
    "\n",
    "```\n",
    "u=-(circshift(ϕ, (0,-1))-ϕ)\n",
    "v=(circshift(ϕ, (-1,0))-ϕ)\n",
    "```"
   ],
   "metadata": {}
  },
  {
   "outputs": [
    {
     "output_type": "execute_result",
     "data": {
      "text/plain": "([0.005736387159117694 0.005385031076733757 … 0.0050915460238911345 0.0052722459422204215; 0.005558563833222868 0.005101620913693546 … 0.005962227987957654 0.0058308128988442745; … ; 0.003545757628188567 0.005556096780027553 … -0.002403831254719907 -8.752982889700944e-5; 0.004606131542026867 0.0058587278970432255 … 0.0017399106107752194 0.003433834511864395], [-0.0015633827727080732 -0.0013855594468132476 … -0.000134133852017701 -0.0010048158160842202; 0.0051213453955241475 0.006244092717557992 … 0.001960801966553155 0.0037098750270188954; … ; -0.012124702816487462 -0.013185076730325762 … -0.0044595966102309315 -0.008603338475726058; -0.007575037077769027 -0.008705292694859854 … -0.0023849902342970852 -0.005736625647413], [0.05572749834798237 0.04999111118886468 … 0.06609129031409393 0.060999744290202794; 0.0541641155752743 0.04860555174205143 … 0.06595715646207623 0.059994928474118574; … ; 0.07542723824223886 0.0718814806140503 … 0.07293587715862195 0.07533970841334185; 0.0633025354257514 0.05869640388372453 … 0.06847628054839101 0.0667363699376158])"
     },
     "metadata": {},
     "execution_count": 2
    }
   ],
   "cell_type": "code",
   "source": [
    "u,v,ϕ=setup_random_flow()"
   ],
   "metadata": {},
   "execution_count": 2
  },
  {
   "cell_type": "markdown",
   "source": [
    "If user were to start with collocated velocity (`uC,vC` at the grid cell center) then\n",
    "one can easily obtain the staggered velocity (`u,v`) as follows. These may contain both\n",
    "[rotational and divergent](https://en.wikipedia.org/wiki/Helmholtz_decomposition) components.\n",
    "\n",
    "```\n",
    "u=0.5*(circshift(uC, (0,1))+uC)\n",
    "v=0.5*(circshift(vC, (1,0))+vC)\n",
    "```"
   ],
   "metadata": {}
  },
  {
   "cell_type": "markdown",
   "source": [
    "## 3. Initialize Individuals\n",
    "\n",
    "For example, we can initialize 100 particles within a central subdomain as follows."
   ],
   "metadata": {
    "cell_type": "markdown",
    "slideshow": {
     "slide_type": "slide"
    }
   }
  },
  {
   "outputs": [],
   "cell_type": "code",
   "source": [
    "np,nq=size(u)\n",
    "x=np*(0. .+ 1.0*rand(1000))\n",
    "y=nq*(0. .+ 1.0*rand(1000));"
   ],
   "metadata": {},
   "execution_count": 3
  },
  {
   "cell_type": "markdown",
   "source": [
    "The `setup_point_cloud` function then wraps everything in the `Individuals` data structure."
   ],
   "metadata": {}
  },
  {
   "outputs": [
    {
     "output_type": "execute_result",
     "data": {
      "text/plain": "\u001b[1m0×4 DataFrame\u001b[0m",
      "text/html": [
       "<table class=\"data-frame\"><thead><tr><th></th><th>ID</th><th>x</th><th>y</th><th>t</th></tr><tr><th></th><th>Int64</th><th>Float64</th><th>Float64</th><th>Float64</th></tr></thead><tbody><p>0 rows × 4 columns</p></tbody></table>"
      ]
     },
     "metadata": {},
     "execution_count": 4
    }
   ],
   "cell_type": "code",
   "source": [
    "𝐼=setup_point_cloud(u,v,X=x,Y=y)\n",
    "𝐼.𝑃.𝑇[2]=10.\n",
    "𝐼.🔴"
   ],
   "metadata": {},
   "execution_count": 4
  },
  {
   "cell_type": "markdown",
   "source": [
    "## 3. Compute Trajectories\n",
    "\n",
    "The time period is `𝐼.𝑃.𝑇` by default, unless `∫!(𝐼,𝑇)` is called instead."
   ],
   "metadata": {
    "cell_type": "markdown",
    "slideshow": {
     "slide_type": "slide"
    }
   }
  },
  {
   "outputs": [
    {
     "output_type": "execute_result",
     "data": {
      "text/plain": "1×1000 Array{Array{Float64,1},2}:\n [7.17818, 12.0352, 1.0]  [9.29643, 4.29416, 1.0]  …  [7.90686, 2.64335, 1.0]"
     },
     "metadata": {},
     "execution_count": 5
    }
   ],
   "cell_type": "code",
   "source": [
    "∫!(𝐼)"
   ],
   "metadata": {},
   "execution_count": 5
  },
  {
   "cell_type": "markdown",
   "source": [
    "## 4. Plot Results\n",
    "\n",
    "For example, generate a simple animation:"
   ],
   "metadata": {
    "cell_type": "markdown",
    "slideshow": {
     "slide_type": "slide"
    }
   }
  },
  {
   "cell_type": "markdown",
   "source": [
    "---\n",
    "\n",
    "*This notebook was generated using [Literate.jl](https://github.com/fredrikekre/Literate.jl).*"
   ],
   "metadata": {}
  }
 ],
 "nbformat_minor": 3,
 "metadata": {
  "language_info": {
   "file_extension": ".jl",
   "mimetype": "application/julia",
   "name": "julia",
   "version": "1.5.3"
  },
  "kernelspec": {
   "name": "julia-1.5",
   "display_name": "Julia 1.5.3",
   "language": "julia"
  }
 },
 "nbformat": 4
}
